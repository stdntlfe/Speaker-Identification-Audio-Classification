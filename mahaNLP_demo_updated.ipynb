{
  "cells": [
    {
      "cell_type": "markdown",
      "metadata": {
        "id": "view-in-github",
        "colab_type": "text"
      },
      "source": [
        "<a href=\"https://colab.research.google.com/github/stdntlfe/Speaker-Identification-Audio-Classification/blob/master/mahaNLP_demo_updated.ipynb\" target=\"_parent\"><img src=\"https://colab.research.google.com/assets/colab-badge.svg\" alt=\"Open In Colab\"/></a>"
      ]
    },
    {
      "cell_type": "markdown",
      "metadata": {
        "id": "of31q3AZahIc"
      },
      "source": [
        "# **mahaNLP**\n",
        "\n",
        "- **mahaNLP** is a python-based natural language processing library focused on the Indian language **Marathi**. It provides an easy interface for NLP features like sentiment analysis, named entity recognition, hate speech detection, etc. exclusively for Marathi text.\n",
        "- **L3Cube**, the author of this library aims to bring Marathi to the forefront of IndicNLP. Our vision is to make Marathi a resource-rich language and promote AI for Maharashtra!"
      ]
    },
    {
      "cell_type": "markdown",
      "metadata": {
        "id": "7fVtKiL3NqGA"
      },
      "source": [
        "# **'How to use mahaNLP?'**"
      ]
    },
    {
      "cell_type": "markdown",
      "metadata": {
        "id": "SJjjV5wkRkz3"
      },
      "source": [
        "### installation\n",
        "\n",
        "Library link (for reference): https://pypi.org/project/mahaNLP/"
      ]
    },
    {
      "cell_type": "code",
      "execution_count": null,
      "metadata": {
        "colab": {
          "base_uri": "https://localhost:8080/"
        },
        "id": "1-9zjw5xy9Gb",
        "outputId": "a8cfd147-1aff-4809-fa51-27f57fd55897"
      },
      "outputs": [
        {
          "output_type": "stream",
          "name": "stdout",
          "text": [
            "Looking in indexes: https://pypi.org/simple, https://us-python.pkg.dev/colab-wheels/public/simple/\n",
            "Collecting mahaNLP==0.6\n",
            "  Downloading mahaNLP-0.6-py3-none-any.whl (34 kB)\n",
            "Requirement already satisfied: IPython in /usr/local/lib/python3.8/dist-packages (from mahaNLP==0.6) (7.9.0)\n",
            "Requirement already satisfied: huggingface-hub==0.11.1 in /usr/local/lib/python3.8/dist-packages (from mahaNLP==0.6) (0.11.1)\n",
            "Requirement already satisfied: pandas in /usr/local/lib/python3.8/dist-packages (from mahaNLP==0.6) (1.3.5)\n",
            "Requirement already satisfied: importlib-resources in /usr/local/lib/python3.8/dist-packages (from mahaNLP==0.6) (5.10.2)\n",
            "Requirement already satisfied: tqdm in /usr/local/lib/python3.8/dist-packages (from mahaNLP==0.6) (4.64.1)\n",
            "Requirement already satisfied: torch in /usr/local/lib/python3.8/dist-packages (from mahaNLP==0.6) (1.13.1+cu116)\n",
            "Requirement already satisfied: sentence-transformers in /usr/local/lib/python3.8/dist-packages (from mahaNLP==0.6) (2.2.2)\n",
            "Requirement already satisfied: transformers in /usr/local/lib/python3.8/dist-packages (from mahaNLP==0.6) (4.26.1)\n",
            "Requirement already satisfied: numpy in /usr/local/lib/python3.8/dist-packages (from mahaNLP==0.6) (1.21.6)\n",
            "Requirement already satisfied: typing-extensions>=3.7.4.3 in /usr/local/lib/python3.8/dist-packages (from huggingface-hub==0.11.1->mahaNLP==0.6) (4.5.0)\n",
            "Requirement already satisfied: packaging>=20.9 in /usr/local/lib/python3.8/dist-packages (from huggingface-hub==0.11.1->mahaNLP==0.6) (23.0)\n",
            "Requirement already satisfied: pyyaml>=5.1 in /usr/local/lib/python3.8/dist-packages (from huggingface-hub==0.11.1->mahaNLP==0.6) (6.0)\n",
            "Requirement already satisfied: filelock in /usr/local/lib/python3.8/dist-packages (from huggingface-hub==0.11.1->mahaNLP==0.6) (3.9.0)\n",
            "Requirement already satisfied: requests in /usr/local/lib/python3.8/dist-packages (from huggingface-hub==0.11.1->mahaNLP==0.6) (2.25.1)\n",
            "Requirement already satisfied: zipp>=3.1.0 in /usr/local/lib/python3.8/dist-packages (from importlib-resources->mahaNLP==0.6) (3.13.0)\n",
            "Requirement already satisfied: traitlets>=4.2 in /usr/local/lib/python3.8/dist-packages (from IPython->mahaNLP==0.6) (5.7.1)\n",
            "Requirement already satisfied: pickleshare in /usr/local/lib/python3.8/dist-packages (from IPython->mahaNLP==0.6) (0.7.5)\n",
            "Requirement already satisfied: pygments in /usr/local/lib/python3.8/dist-packages (from IPython->mahaNLP==0.6) (2.6.1)\n",
            "Requirement already satisfied: setuptools>=18.5 in /usr/local/lib/python3.8/dist-packages (from IPython->mahaNLP==0.6) (57.4.0)\n",
            "Requirement already satisfied: backcall in /usr/local/lib/python3.8/dist-packages (from IPython->mahaNLP==0.6) (0.2.0)\n",
            "Requirement already satisfied: prompt-toolkit<2.1.0,>=2.0.0 in /usr/local/lib/python3.8/dist-packages (from IPython->mahaNLP==0.6) (2.0.10)\n",
            "Requirement already satisfied: jedi>=0.10 in /usr/local/lib/python3.8/dist-packages (from IPython->mahaNLP==0.6) (0.18.2)\n",
            "Requirement already satisfied: pexpect in /usr/local/lib/python3.8/dist-packages (from IPython->mahaNLP==0.6) (4.8.0)\n",
            "Requirement already satisfied: decorator in /usr/local/lib/python3.8/dist-packages (from IPython->mahaNLP==0.6) (4.4.2)\n",
            "Requirement already satisfied: python-dateutil>=2.7.3 in /usr/local/lib/python3.8/dist-packages (from pandas->mahaNLP==0.6) (2.8.2)\n",
            "Requirement already satisfied: pytz>=2017.3 in /usr/local/lib/python3.8/dist-packages (from pandas->mahaNLP==0.6) (2022.7.1)\n",
            "Requirement already satisfied: torchvision in /usr/local/lib/python3.8/dist-packages (from sentence-transformers->mahaNLP==0.6) (0.14.1+cu116)\n",
            "Requirement already satisfied: scipy in /usr/local/lib/python3.8/dist-packages (from sentence-transformers->mahaNLP==0.6) (1.7.3)\n",
            "Requirement already satisfied: nltk in /usr/local/lib/python3.8/dist-packages (from sentence-transformers->mahaNLP==0.6) (3.7)\n",
            "Requirement already satisfied: sentencepiece in /usr/local/lib/python3.8/dist-packages (from sentence-transformers->mahaNLP==0.6) (0.1.97)\n",
            "Requirement already satisfied: scikit-learn in /usr/local/lib/python3.8/dist-packages (from sentence-transformers->mahaNLP==0.6) (1.0.2)\n",
            "Requirement already satisfied: tokenizers!=0.11.3,<0.14,>=0.11.1 in /usr/local/lib/python3.8/dist-packages (from transformers->mahaNLP==0.6) (0.13.2)\n",
            "Requirement already satisfied: regex!=2019.12.17 in /usr/local/lib/python3.8/dist-packages (from transformers->mahaNLP==0.6) (2022.6.2)\n",
            "Requirement already satisfied: parso<0.9.0,>=0.8.0 in /usr/local/lib/python3.8/dist-packages (from jedi>=0.10->IPython->mahaNLP==0.6) (0.8.3)\n",
            "Requirement already satisfied: six>=1.9.0 in /usr/local/lib/python3.8/dist-packages (from prompt-toolkit<2.1.0,>=2.0.0->IPython->mahaNLP==0.6) (1.15.0)\n",
            "Requirement already satisfied: wcwidth in /usr/local/lib/python3.8/dist-packages (from prompt-toolkit<2.1.0,>=2.0.0->IPython->mahaNLP==0.6) (0.2.6)\n",
            "Requirement already satisfied: joblib in /usr/local/lib/python3.8/dist-packages (from nltk->sentence-transformers->mahaNLP==0.6) (1.2.0)\n",
            "Requirement already satisfied: click in /usr/local/lib/python3.8/dist-packages (from nltk->sentence-transformers->mahaNLP==0.6) (7.1.2)\n",
            "Requirement already satisfied: ptyprocess>=0.5 in /usr/local/lib/python3.8/dist-packages (from pexpect->IPython->mahaNLP==0.6) (0.7.0)\n",
            "Requirement already satisfied: chardet<5,>=3.0.2 in /usr/local/lib/python3.8/dist-packages (from requests->huggingface-hub==0.11.1->mahaNLP==0.6) (4.0.0)\n",
            "Requirement already satisfied: idna<3,>=2.5 in /usr/local/lib/python3.8/dist-packages (from requests->huggingface-hub==0.11.1->mahaNLP==0.6) (2.10)\n",
            "Requirement already satisfied: certifi>=2017.4.17 in /usr/local/lib/python3.8/dist-packages (from requests->huggingface-hub==0.11.1->mahaNLP==0.6) (2022.12.7)\n",
            "Requirement already satisfied: urllib3<1.27,>=1.21.1 in /usr/local/lib/python3.8/dist-packages (from requests->huggingface-hub==0.11.1->mahaNLP==0.6) (1.24.3)\n",
            "Requirement already satisfied: threadpoolctl>=2.0.0 in /usr/local/lib/python3.8/dist-packages (from scikit-learn->sentence-transformers->mahaNLP==0.6) (3.1.0)\n",
            "Requirement already satisfied: pillow!=8.3.*,>=5.3.0 in /usr/local/lib/python3.8/dist-packages (from torchvision->sentence-transformers->mahaNLP==0.6) (7.1.2)\n",
            "Installing collected packages: mahaNLP\n",
            "Successfully installed mahaNLP-0.6\n"
          ]
        }
      ],
      "source": [
        "pip install mahaNLP==0.6"
      ]
    },
    {
      "cell_type": "markdown",
      "metadata": {
        "id": "HLw1DmNDSezY"
      },
      "source": [
        "#### import the library"
      ]
    },
    {
      "cell_type": "code",
      "execution_count": null,
      "metadata": {
        "id": "sJctly5D1hme"
      },
      "outputs": [],
      "source": [
        "import mahaNLP"
      ]
    },
    {
      "cell_type": "markdown",
      "metadata": {
        "id": "M46WMVr2oVFu"
      },
      "source": [
        "### **This library is customised to be used by an ML practitioner and a basic programmer.**"
      ]
    },
    {
      "cell_type": "markdown",
      "metadata": {
        "id": "ZisPnr3oz_O2"
      },
      "source": [
        "***\n",
        "***"
      ]
    },
    {
      "cell_type": "markdown",
      "metadata": {
        "id": "TKLRx2ooz_O3"
      },
      "source": [
        "## **1. Basic Usage:**\n",
        "\n",
        "This mode of access is designed from a basic programmer point of view and follow simpler way to perform the desired tasks."
      ]
    },
    {
      "cell_type": "markdown",
      "metadata": {
        "id": "z-epi75Sz_O4"
      },
      "source": [
        "### The below mentioned topics are explained in the following examples:\n",
        "\n",
        "**a. Datasets:** Provides the functionality to load the dataset\n",
        "\n",
        "**b. Autocomplete:** Text prediction\n",
        "\n",
        "**c. Preprocess:** Data cleaning\n",
        "\n",
        "**d. Tokenizer:** Tokenizes text\n",
        "\n",
        "**e. Tagger:** Named entity recognision\n",
        "\n",
        "**f. MaskFill:** Predicts the masked tokens\n",
        "\n",
        "**g. Hate:** Detects hate speech\n",
        "\n",
        "**h. Sentiment:** Sentiment analysis\n",
        "\n",
        "**i. Similarity:** Detects similarity"
      ]
    },
    {
      "cell_type": "markdown",
      "metadata": {
        "id": "lqKP3wCEz_O5"
      },
      "source": [
        "***"
      ]
    },
    {
      "cell_type": "markdown",
      "metadata": {
        "id": "Zgdu2M-Ai7wU"
      },
      "source": [
        "### **a. Datasets**"
      ]
    },
    {
      "cell_type": "markdown",
      "metadata": {
        "id": "ZWZq-4-mjq6R"
      },
      "source": [
        "#### import datasets"
      ]
    },
    {
      "cell_type": "code",
      "execution_count": null,
      "metadata": {
        "id": "Z_n63DXxizCs"
      },
      "outputs": [],
      "source": [
        "from mahaNLP.datasets import *"
      ]
    },
    {
      "cell_type": "markdown",
      "metadata": {
        "id": "btMvA51njw6n"
      },
      "source": [
        "#### loading the datasets"
      ]
    },
    {
      "cell_type": "code",
      "execution_count": null,
      "metadata": {
        "id": "qlwTaaInj5vi"
      },
      "outputs": [],
      "source": [
        "# loads the dataframe into 'dataset'\n",
        "dataset_1 = load_datasets('mahaSent')"
      ]
    },
    {
      "cell_type": "code",
      "execution_count": null,
      "metadata": {
        "id": "ZM2PzzCijt-k"
      },
      "outputs": [],
      "source": [
        "dataset_2 = load_datasets('mahaNER')"
      ]
    },
    {
      "cell_type": "code",
      "execution_count": null,
      "metadata": {
        "id": "3pC9dKXPj3xC"
      },
      "outputs": [],
      "source": [
        "dataset_3 = load_datasets('mahaHate')"
      ]
    },
    {
      "cell_type": "markdown",
      "metadata": {
        "id": "z9_DxTWyz_O8"
      },
      "source": [
        "***"
      ]
    },
    {
      "cell_type": "markdown",
      "metadata": {
        "id": "ERzN1Uy0z_O8"
      },
      "source": [
        "### **b. Autocomplete**"
      ]
    },
    {
      "cell_type": "markdown",
      "metadata": {
        "id": "rY63hn-8z_O-"
      },
      "source": [
        "#### import"
      ]
    },
    {
      "cell_type": "code",
      "execution_count": null,
      "metadata": {
        "id": "PTKH4hDOz_O-"
      },
      "outputs": [],
      "source": [
        "from mahaNLP.autocomplete import TextGenerator"
      ]
    },
    {
      "cell_type": "markdown",
      "metadata": {
        "id": "G9Iw7Au6z_O_"
      },
      "source": [
        "#### create an object"
      ]
    },
    {
      "cell_type": "code",
      "execution_count": null,
      "metadata": {
        "id": "X1c5FoGBz_O_"
      },
      "outputs": [],
      "source": [
        "model1 = TextGenerator()"
      ]
    },
    {
      "cell_type": "markdown",
      "metadata": {
        "id": "UqQcU-Ozz_PA"
      },
      "source": [
        "### **Usage of autocomplete:**\n",
        "It provides two functionalities\n",
        "* **next_word:** Predicts the next word in the given sentence\n",
        "* **complete_sentence:** Predicts the remanining blank words in the given sentence and completes a sentence."
      ]
    },
    {
      "cell_type": "markdown",
      "metadata": {
        "id": "msY7Jvy8z_PA"
      },
      "source": [
        "#### **next_word:**"
      ]
    },
    {
      "cell_type": "code",
      "execution_count": null,
      "metadata": {
        "id": "9u2grQezz_PA",
        "outputId": "ecbbf9e8-d630-470e-9d2e-57a06f6e5018",
        "colab": {
          "base_uri": "https://localhost:8080/",
          "height": 135
        }
      },
      "outputs": [
        {
          "output_type": "stream",
          "name": "stderr",
          "text": [
            "/usr/local/lib/python3.8/dist-packages/transformers/generation/utils.py:1186: UserWarning: You have modified the pretrained model configuration to control generation. This is a deprecated strategy to control generation and will be removed soon, in a future version. Please use a generation configuration file (see https://huggingface.co/docs/transformers/main_classes/text_generation)\n",
            "  warnings.warn(\n"
          ]
        },
        {
          "output_type": "execute_result",
          "data": {
            "text/plain": [
              "                      generated_text\n",
              "0  आपण आरोग्याची काळजी घेतली  पाहिजे"
            ],
            "text/html": [
              "\n",
              "  <div id=\"df-d6786462-767a-49e8-a73b-6ca7e54872e1\">\n",
              "    <div class=\"colab-df-container\">\n",
              "      <div>\n",
              "<style scoped>\n",
              "    .dataframe tbody tr th:only-of-type {\n",
              "        vertical-align: middle;\n",
              "    }\n",
              "\n",
              "    .dataframe tbody tr th {\n",
              "        vertical-align: top;\n",
              "    }\n",
              "\n",
              "    .dataframe thead th {\n",
              "        text-align: right;\n",
              "    }\n",
              "</style>\n",
              "<table border=\"1\" class=\"dataframe\">\n",
              "  <thead>\n",
              "    <tr style=\"text-align: right;\">\n",
              "      <th></th>\n",
              "      <th>generated_text</th>\n",
              "    </tr>\n",
              "  </thead>\n",
              "  <tbody>\n",
              "    <tr>\n",
              "      <th>0</th>\n",
              "      <td>आपण आरोग्याची काळजी घेतली  पाहिजे</td>\n",
              "    </tr>\n",
              "  </tbody>\n",
              "</table>\n",
              "</div>\n",
              "      <button class=\"colab-df-convert\" onclick=\"convertToInteractive('df-d6786462-767a-49e8-a73b-6ca7e54872e1')\"\n",
              "              title=\"Convert this dataframe to an interactive table.\"\n",
              "              style=\"display:none;\">\n",
              "        \n",
              "  <svg xmlns=\"http://www.w3.org/2000/svg\" height=\"24px\"viewBox=\"0 0 24 24\"\n",
              "       width=\"24px\">\n",
              "    <path d=\"M0 0h24v24H0V0z\" fill=\"none\"/>\n",
              "    <path d=\"M18.56 5.44l.94 2.06.94-2.06 2.06-.94-2.06-.94-.94-2.06-.94 2.06-2.06.94zm-11 1L8.5 8.5l.94-2.06 2.06-.94-2.06-.94L8.5 2.5l-.94 2.06-2.06.94zm10 10l.94 2.06.94-2.06 2.06-.94-2.06-.94-.94-2.06-.94 2.06-2.06.94z\"/><path d=\"M17.41 7.96l-1.37-1.37c-.4-.4-.92-.59-1.43-.59-.52 0-1.04.2-1.43.59L10.3 9.45l-7.72 7.72c-.78.78-.78 2.05 0 2.83L4 21.41c.39.39.9.59 1.41.59.51 0 1.02-.2 1.41-.59l7.78-7.78 2.81-2.81c.8-.78.8-2.07 0-2.86zM5.41 20L4 18.59l7.72-7.72 1.47 1.35L5.41 20z\"/>\n",
              "  </svg>\n",
              "      </button>\n",
              "      \n",
              "  <style>\n",
              "    .colab-df-container {\n",
              "      display:flex;\n",
              "      flex-wrap:wrap;\n",
              "      gap: 12px;\n",
              "    }\n",
              "\n",
              "    .colab-df-convert {\n",
              "      background-color: #E8F0FE;\n",
              "      border: none;\n",
              "      border-radius: 50%;\n",
              "      cursor: pointer;\n",
              "      display: none;\n",
              "      fill: #1967D2;\n",
              "      height: 32px;\n",
              "      padding: 0 0 0 0;\n",
              "      width: 32px;\n",
              "    }\n",
              "\n",
              "    .colab-df-convert:hover {\n",
              "      background-color: #E2EBFA;\n",
              "      box-shadow: 0px 1px 2px rgba(60, 64, 67, 0.3), 0px 1px 3px 1px rgba(60, 64, 67, 0.15);\n",
              "      fill: #174EA6;\n",
              "    }\n",
              "\n",
              "    [theme=dark] .colab-df-convert {\n",
              "      background-color: #3B4455;\n",
              "      fill: #D2E3FC;\n",
              "    }\n",
              "\n",
              "    [theme=dark] .colab-df-convert:hover {\n",
              "      background-color: #434B5C;\n",
              "      box-shadow: 0px 1px 3px 1px rgba(0, 0, 0, 0.15);\n",
              "      filter: drop-shadow(0px 1px 2px rgba(0, 0, 0, 0.3));\n",
              "      fill: #FFFFFF;\n",
              "    }\n",
              "  </style>\n",
              "\n",
              "      <script>\n",
              "        const buttonEl =\n",
              "          document.querySelector('#df-d6786462-767a-49e8-a73b-6ca7e54872e1 button.colab-df-convert');\n",
              "        buttonEl.style.display =\n",
              "          google.colab.kernel.accessAllowed ? 'block' : 'none';\n",
              "\n",
              "        async function convertToInteractive(key) {\n",
              "          const element = document.querySelector('#df-d6786462-767a-49e8-a73b-6ca7e54872e1');\n",
              "          const dataTable =\n",
              "            await google.colab.kernel.invokeFunction('convertToInteractive',\n",
              "                                                     [key], {});\n",
              "          if (!dataTable) return;\n",
              "\n",
              "          const docLinkHtml = 'Like what you see? Visit the ' +\n",
              "            '<a target=\"_blank\" href=https://colab.research.google.com/notebooks/data_table.ipynb>data table notebook</a>'\n",
              "            + ' to learn more about interactive tables.';\n",
              "          element.innerHTML = '';\n",
              "          dataTable['output_type'] = 'display_data';\n",
              "          await google.colab.output.renderOutput(dataTable, element);\n",
              "          const docLink = document.createElement('div');\n",
              "          docLink.innerHTML = docLinkHtml;\n",
              "          element.appendChild(docLink);\n",
              "        }\n",
              "      </script>\n",
              "    </div>\n",
              "  </div>\n",
              "  "
            ]
          },
          "metadata": {},
          "execution_count": 102
        }
      ],
      "source": [
        "# Example:\n",
        "\n",
        "text1 = 'आपण आरोग्याची काळजी घेतली '\n",
        "# English Translation:\n",
        "# 'We take care of our health'\n",
        "\n",
        "model1.next_word(text1)"
      ]
    },
    {
      "cell_type": "markdown",
      "metadata": {
        "id": "9X2pEWdcz_PB"
      },
      "source": [
        "Optional Parameter(s):\n",
        "* **num_of_predictions** (any number) in int - Default: 1\n",
        "  * Used to pass the number of predictions to be made"
      ]
    },
    {
      "cell_type": "code",
      "execution_count": null,
      "metadata": {
        "id": "ISwXl44iz_PC",
        "outputId": "3048ea10-fb5e-469b-975e-454a2ffad805",
        "colab": {
          "base_uri": "https://localhost:8080/",
          "height": 112
        }
      },
      "outputs": [
        {
          "output_type": "execute_result",
          "data": {
            "text/plain": [
              "                      generated_text\n",
              "0      आपण आरोग्याची काळजी घेतली  तर\n",
              "1  आपण आरोग्याची काळजी घेतली  पाहिजे"
            ],
            "text/html": [
              "\n",
              "  <div id=\"df-463c663a-41c0-4c12-9cd7-dc85c78cfaae\">\n",
              "    <div class=\"colab-df-container\">\n",
              "      <div>\n",
              "<style scoped>\n",
              "    .dataframe tbody tr th:only-of-type {\n",
              "        vertical-align: middle;\n",
              "    }\n",
              "\n",
              "    .dataframe tbody tr th {\n",
              "        vertical-align: top;\n",
              "    }\n",
              "\n",
              "    .dataframe thead th {\n",
              "        text-align: right;\n",
              "    }\n",
              "</style>\n",
              "<table border=\"1\" class=\"dataframe\">\n",
              "  <thead>\n",
              "    <tr style=\"text-align: right;\">\n",
              "      <th></th>\n",
              "      <th>generated_text</th>\n",
              "    </tr>\n",
              "  </thead>\n",
              "  <tbody>\n",
              "    <tr>\n",
              "      <th>0</th>\n",
              "      <td>आपण आरोग्याची काळजी घेतली  तर</td>\n",
              "    </tr>\n",
              "    <tr>\n",
              "      <th>1</th>\n",
              "      <td>आपण आरोग्याची काळजी घेतली  पाहिजे</td>\n",
              "    </tr>\n",
              "  </tbody>\n",
              "</table>\n",
              "</div>\n",
              "      <button class=\"colab-df-convert\" onclick=\"convertToInteractive('df-463c663a-41c0-4c12-9cd7-dc85c78cfaae')\"\n",
              "              title=\"Convert this dataframe to an interactive table.\"\n",
              "              style=\"display:none;\">\n",
              "        \n",
              "  <svg xmlns=\"http://www.w3.org/2000/svg\" height=\"24px\"viewBox=\"0 0 24 24\"\n",
              "       width=\"24px\">\n",
              "    <path d=\"M0 0h24v24H0V0z\" fill=\"none\"/>\n",
              "    <path d=\"M18.56 5.44l.94 2.06.94-2.06 2.06-.94-2.06-.94-.94-2.06-.94 2.06-2.06.94zm-11 1L8.5 8.5l.94-2.06 2.06-.94-2.06-.94L8.5 2.5l-.94 2.06-2.06.94zm10 10l.94 2.06.94-2.06 2.06-.94-2.06-.94-.94-2.06-.94 2.06-2.06.94z\"/><path d=\"M17.41 7.96l-1.37-1.37c-.4-.4-.92-.59-1.43-.59-.52 0-1.04.2-1.43.59L10.3 9.45l-7.72 7.72c-.78.78-.78 2.05 0 2.83L4 21.41c.39.39.9.59 1.41.59.51 0 1.02-.2 1.41-.59l7.78-7.78 2.81-2.81c.8-.78.8-2.07 0-2.86zM5.41 20L4 18.59l7.72-7.72 1.47 1.35L5.41 20z\"/>\n",
              "  </svg>\n",
              "      </button>\n",
              "      \n",
              "  <style>\n",
              "    .colab-df-container {\n",
              "      display:flex;\n",
              "      flex-wrap:wrap;\n",
              "      gap: 12px;\n",
              "    }\n",
              "\n",
              "    .colab-df-convert {\n",
              "      background-color: #E8F0FE;\n",
              "      border: none;\n",
              "      border-radius: 50%;\n",
              "      cursor: pointer;\n",
              "      display: none;\n",
              "      fill: #1967D2;\n",
              "      height: 32px;\n",
              "      padding: 0 0 0 0;\n",
              "      width: 32px;\n",
              "    }\n",
              "\n",
              "    .colab-df-convert:hover {\n",
              "      background-color: #E2EBFA;\n",
              "      box-shadow: 0px 1px 2px rgba(60, 64, 67, 0.3), 0px 1px 3px 1px rgba(60, 64, 67, 0.15);\n",
              "      fill: #174EA6;\n",
              "    }\n",
              "\n",
              "    [theme=dark] .colab-df-convert {\n",
              "      background-color: #3B4455;\n",
              "      fill: #D2E3FC;\n",
              "    }\n",
              "\n",
              "    [theme=dark] .colab-df-convert:hover {\n",
              "      background-color: #434B5C;\n",
              "      box-shadow: 0px 1px 3px 1px rgba(0, 0, 0, 0.15);\n",
              "      filter: drop-shadow(0px 1px 2px rgba(0, 0, 0, 0.3));\n",
              "      fill: #FFFFFF;\n",
              "    }\n",
              "  </style>\n",
              "\n",
              "      <script>\n",
              "        const buttonEl =\n",
              "          document.querySelector('#df-463c663a-41c0-4c12-9cd7-dc85c78cfaae button.colab-df-convert');\n",
              "        buttonEl.style.display =\n",
              "          google.colab.kernel.accessAllowed ? 'block' : 'none';\n",
              "\n",
              "        async function convertToInteractive(key) {\n",
              "          const element = document.querySelector('#df-463c663a-41c0-4c12-9cd7-dc85c78cfaae');\n",
              "          const dataTable =\n",
              "            await google.colab.kernel.invokeFunction('convertToInteractive',\n",
              "                                                     [key], {});\n",
              "          if (!dataTable) return;\n",
              "\n",
              "          const docLinkHtml = 'Like what you see? Visit the ' +\n",
              "            '<a target=\"_blank\" href=https://colab.research.google.com/notebooks/data_table.ipynb>data table notebook</a>'\n",
              "            + ' to learn more about interactive tables.';\n",
              "          element.innerHTML = '';\n",
              "          dataTable['output_type'] = 'display_data';\n",
              "          await google.colab.output.renderOutput(dataTable, element);\n",
              "          const docLink = document.createElement('div');\n",
              "          docLink.innerHTML = docLinkHtml;\n",
              "          element.appendChild(docLink);\n",
              "        }\n",
              "      </script>\n",
              "    </div>\n",
              "  </div>\n",
              "  "
            ]
          },
          "metadata": {},
          "execution_count": 187
        }
      ],
      "source": [
        "# Example:\n",
        "\n",
        "model1.next_word(text1, num_of_predictions = 2)\n",
        "# or\n",
        "# model1.next_word(text1, 2)"
      ]
    },
    {
      "cell_type": "markdown",
      "metadata": {
        "id": "F-lQGYIyz_PC"
      },
      "source": [
        "#### **complete_sentence:**"
      ]
    },
    {
      "cell_type": "code",
      "execution_count": null,
      "metadata": {
        "id": "XRSuUNMPz_PC",
        "outputId": "d76e55db-d2be-4819-d0a7-ea20dc1c85c1",
        "colab": {
          "base_uri": "https://localhost:8080/",
          "height": 142
        }
      },
      "outputs": [
        {
          "output_type": "execute_result",
          "data": {
            "text/plain": [
              "                                                                                                                                                                                                                     generated_text\n",
              "0  कडक उन्हाळ्यातून थंडगार पावसाळ्यात येताना, ऋतूमानातील बदल हा मानवी आरोग्यावरही परिणामकारक ठरतो. हवामानात होणार्‍या बदलांमुळे सर्दी, खोकला, ताप, कान, घसा, का विळ, घशात खव खव ख वणे यासारख्या आजारांचा प्रसार थांब वणं आवश्यक आहे"
            ],
            "text/html": [
              "\n",
              "  <div id=\"df-45069981-001c-49a3-85a1-5d14a81fa6d9\">\n",
              "    <div class=\"colab-df-container\">\n",
              "      <div>\n",
              "<style scoped>\n",
              "    .dataframe tbody tr th:only-of-type {\n",
              "        vertical-align: middle;\n",
              "    }\n",
              "\n",
              "    .dataframe tbody tr th {\n",
              "        vertical-align: top;\n",
              "    }\n",
              "\n",
              "    .dataframe thead th {\n",
              "        text-align: right;\n",
              "    }\n",
              "</style>\n",
              "<table border=\"1\" class=\"dataframe\">\n",
              "  <thead>\n",
              "    <tr style=\"text-align: right;\">\n",
              "      <th></th>\n",
              "      <th>generated_text</th>\n",
              "    </tr>\n",
              "  </thead>\n",
              "  <tbody>\n",
              "    <tr>\n",
              "      <th>0</th>\n",
              "      <td>कडक उन्हाळ्यातून थंडगार पावसाळ्यात येताना, ऋतूमानातील बदल हा मानवी आरोग्यावरही परिणामकारक ठरतो. हवामानात होणार्‍या बदलांमुळे सर्दी, खोकला, ताप, कान, घसा, का विळ, घशात खव खव ख वणे यासारख्या आजारांचा प्रसार थांब वणं आवश्यक आहे</td>\n",
              "    </tr>\n",
              "  </tbody>\n",
              "</table>\n",
              "</div>\n",
              "      <button class=\"colab-df-convert\" onclick=\"convertToInteractive('df-45069981-001c-49a3-85a1-5d14a81fa6d9')\"\n",
              "              title=\"Convert this dataframe to an interactive table.\"\n",
              "              style=\"display:none;\">\n",
              "        \n",
              "  <svg xmlns=\"http://www.w3.org/2000/svg\" height=\"24px\"viewBox=\"0 0 24 24\"\n",
              "       width=\"24px\">\n",
              "    <path d=\"M0 0h24v24H0V0z\" fill=\"none\"/>\n",
              "    <path d=\"M18.56 5.44l.94 2.06.94-2.06 2.06-.94-2.06-.94-.94-2.06-.94 2.06-2.06.94zm-11 1L8.5 8.5l.94-2.06 2.06-.94-2.06-.94L8.5 2.5l-.94 2.06-2.06.94zm10 10l.94 2.06.94-2.06 2.06-.94-2.06-.94-.94-2.06-.94 2.06-2.06.94z\"/><path d=\"M17.41 7.96l-1.37-1.37c-.4-.4-.92-.59-1.43-.59-.52 0-1.04.2-1.43.59L10.3 9.45l-7.72 7.72c-.78.78-.78 2.05 0 2.83L4 21.41c.39.39.9.59 1.41.59.51 0 1.02-.2 1.41-.59l7.78-7.78 2.81-2.81c.8-.78.8-2.07 0-2.86zM5.41 20L4 18.59l7.72-7.72 1.47 1.35L5.41 20z\"/>\n",
              "  </svg>\n",
              "      </button>\n",
              "      \n",
              "  <style>\n",
              "    .colab-df-container {\n",
              "      display:flex;\n",
              "      flex-wrap:wrap;\n",
              "      gap: 12px;\n",
              "    }\n",
              "\n",
              "    .colab-df-convert {\n",
              "      background-color: #E8F0FE;\n",
              "      border: none;\n",
              "      border-radius: 50%;\n",
              "      cursor: pointer;\n",
              "      display: none;\n",
              "      fill: #1967D2;\n",
              "      height: 32px;\n",
              "      padding: 0 0 0 0;\n",
              "      width: 32px;\n",
              "    }\n",
              "\n",
              "    .colab-df-convert:hover {\n",
              "      background-color: #E2EBFA;\n",
              "      box-shadow: 0px 1px 2px rgba(60, 64, 67, 0.3), 0px 1px 3px 1px rgba(60, 64, 67, 0.15);\n",
              "      fill: #174EA6;\n",
              "    }\n",
              "\n",
              "    [theme=dark] .colab-df-convert {\n",
              "      background-color: #3B4455;\n",
              "      fill: #D2E3FC;\n",
              "    }\n",
              "\n",
              "    [theme=dark] .colab-df-convert:hover {\n",
              "      background-color: #434B5C;\n",
              "      box-shadow: 0px 1px 3px 1px rgba(0, 0, 0, 0.15);\n",
              "      filter: drop-shadow(0px 1px 2px rgba(0, 0, 0, 0.3));\n",
              "      fill: #FFFFFF;\n",
              "    }\n",
              "  </style>\n",
              "\n",
              "      <script>\n",
              "        const buttonEl =\n",
              "          document.querySelector('#df-45069981-001c-49a3-85a1-5d14a81fa6d9 button.colab-df-convert');\n",
              "        buttonEl.style.display =\n",
              "          google.colab.kernel.accessAllowed ? 'block' : 'none';\n",
              "\n",
              "        async function convertToInteractive(key) {\n",
              "          const element = document.querySelector('#df-45069981-001c-49a3-85a1-5d14a81fa6d9');\n",
              "          const dataTable =\n",
              "            await google.colab.kernel.invokeFunction('convertToInteractive',\n",
              "                                                     [key], {});\n",
              "          if (!dataTable) return;\n",
              "\n",
              "          const docLinkHtml = 'Like what you see? Visit the ' +\n",
              "            '<a target=\"_blank\" href=https://colab.research.google.com/notebooks/data_table.ipynb>data table notebook</a>'\n",
              "            + ' to learn more about interactive tables.';\n",
              "          element.innerHTML = '';\n",
              "          dataTable['output_type'] = 'display_data';\n",
              "          await google.colab.output.renderOutput(dataTable, element);\n",
              "          const docLink = document.createElement('div');\n",
              "          docLink.innerHTML = docLinkHtml;\n",
              "          element.appendChild(docLink);\n",
              "        }\n",
              "      </script>\n",
              "    </div>\n",
              "  </div>\n",
              "  "
            ]
          },
          "metadata": {},
          "execution_count": 104
        }
      ],
      "source": [
        "# Example:\n",
        "\n",
        "text2 = 'कडक उन्हाळ्यातून थंडगार पावसाळ्यात येताना, ऋतूमानातील बदल हा मानवी आरोग्यावरही परिणामकारक ठरतो. हवामानात होणार्‍या बदलांमुळे'\n",
        "# English Translation:\n",
        "# 'From hot summers to cooler monsoons, the change in climate also affects human health. Due to changes in climate'\n",
        "\n",
        "model1.complete_sentence(text2)"
      ]
    },
    {
      "cell_type": "markdown",
      "metadata": {
        "id": "fDTVCsvxz_PD"
      },
      "source": [
        "Optional Parameter(s):\n",
        "* **num_of_words** (any number) in int - Default: 25\n",
        "  * Used to pass the number of words to be filled\n",
        "* **num_of_predictions** (any number) in int - Default: 1\n",
        "  * Used to pass the number of predictions to be made"
      ]
    },
    {
      "cell_type": "code",
      "execution_count": null,
      "metadata": {
        "id": "YSm8rhEnz_PD",
        "outputId": "d6639b7a-a6cd-43d5-a2af-414b33b250b8",
        "colab": {
          "base_uri": "https://localhost:8080/",
          "height": 175
        }
      },
      "outputs": [
        {
          "output_type": "execute_result",
          "data": {
            "text/plain": [
              "                                                                                                                                                                                     generated_text\n",
              "0                   कडक उन्हाळ्यातून थंडगार पावसाळ्यात येताना, ऋतूमानातील बदल हा मानवी आरोग्यावरही परिणामकारक ठरतो. हवामानात होणार्‍या बदलांमुळे सर्दी, ताप आणि दमा सारखे आजार होण्याची शक्यता अधिक\n",
              "1  कडक उन्हाळ्यातून थंडगार पावसाळ्यात येताना, ऋतूमानातील बदल हा मानवी आरोग्यावरही परिणामकारक ठरतो. हवामानात होणार्‍या बदलांमुळे आणि हवामानात होणाऱ्या घडामोडी ंमुळे उन्हाळा आता चांगलाच जाणवू लागला\n",
              "2                     कडक उन्हाळ्यातून थंडगार पावसाळ्यात येताना, ऋतूमानातील बदल हा मानवी आरोग्यावरही परिणामकारक ठरतो. हवामानात होणार्‍या बदलांमुळे ही काळजी घेणे गरजेचे असते. त्यासाठी त्यांनी ‘ एक\n",
              "3              कडक उन्हाळ्यातून थंडगार पावसाळ्यात येताना, ऋतूमानातील बदल हा मानवी आरोग्यावरही परिणामकारक ठरतो. हवामानात होणार्‍या बदलांमुळे ही पाण्याची बचत होऊन पाण्याची बचत होऊन पाणी साठ वलेल्या"
            ],
            "text/html": [
              "\n",
              "  <div id=\"df-ee0c76e6-a3eb-4a3f-a57e-382fccd14b4d\">\n",
              "    <div class=\"colab-df-container\">\n",
              "      <div>\n",
              "<style scoped>\n",
              "    .dataframe tbody tr th:only-of-type {\n",
              "        vertical-align: middle;\n",
              "    }\n",
              "\n",
              "    .dataframe tbody tr th {\n",
              "        vertical-align: top;\n",
              "    }\n",
              "\n",
              "    .dataframe thead th {\n",
              "        text-align: right;\n",
              "    }\n",
              "</style>\n",
              "<table border=\"1\" class=\"dataframe\">\n",
              "  <thead>\n",
              "    <tr style=\"text-align: right;\">\n",
              "      <th></th>\n",
              "      <th>generated_text</th>\n",
              "    </tr>\n",
              "  </thead>\n",
              "  <tbody>\n",
              "    <tr>\n",
              "      <th>0</th>\n",
              "      <td>कडक उन्हाळ्यातून थंडगार पावसाळ्यात येताना, ऋतूमानातील बदल हा मानवी आरोग्यावरही परिणामकारक ठरतो. हवामानात होणार्‍या बदलांमुळे सर्दी, ताप आणि दमा सारखे आजार होण्याची शक्यता अधिक</td>\n",
              "    </tr>\n",
              "    <tr>\n",
              "      <th>1</th>\n",
              "      <td>कडक उन्हाळ्यातून थंडगार पावसाळ्यात येताना, ऋतूमानातील बदल हा मानवी आरोग्यावरही परिणामकारक ठरतो. हवामानात होणार्‍या बदलांमुळे आणि हवामानात होणाऱ्या घडामोडी ंमुळे उन्हाळा आता चांगलाच जाणवू लागला</td>\n",
              "    </tr>\n",
              "    <tr>\n",
              "      <th>2</th>\n",
              "      <td>कडक उन्हाळ्यातून थंडगार पावसाळ्यात येताना, ऋतूमानातील बदल हा मानवी आरोग्यावरही परिणामकारक ठरतो. हवामानात होणार्‍या बदलांमुळे ही काळजी घेणे गरजेचे असते. त्यासाठी त्यांनी ‘ एक</td>\n",
              "    </tr>\n",
              "    <tr>\n",
              "      <th>3</th>\n",
              "      <td>कडक उन्हाळ्यातून थंडगार पावसाळ्यात येताना, ऋतूमानातील बदल हा मानवी आरोग्यावरही परिणामकारक ठरतो. हवामानात होणार्‍या बदलांमुळे ही पाण्याची बचत होऊन पाण्याची बचत होऊन पाणी साठ वलेल्या</td>\n",
              "    </tr>\n",
              "  </tbody>\n",
              "</table>\n",
              "</div>\n",
              "      <button class=\"colab-df-convert\" onclick=\"convertToInteractive('df-ee0c76e6-a3eb-4a3f-a57e-382fccd14b4d')\"\n",
              "              title=\"Convert this dataframe to an interactive table.\"\n",
              "              style=\"display:none;\">\n",
              "        \n",
              "  <svg xmlns=\"http://www.w3.org/2000/svg\" height=\"24px\"viewBox=\"0 0 24 24\"\n",
              "       width=\"24px\">\n",
              "    <path d=\"M0 0h24v24H0V0z\" fill=\"none\"/>\n",
              "    <path d=\"M18.56 5.44l.94 2.06.94-2.06 2.06-.94-2.06-.94-.94-2.06-.94 2.06-2.06.94zm-11 1L8.5 8.5l.94-2.06 2.06-.94-2.06-.94L8.5 2.5l-.94 2.06-2.06.94zm10 10l.94 2.06.94-2.06 2.06-.94-2.06-.94-.94-2.06-.94 2.06-2.06.94z\"/><path d=\"M17.41 7.96l-1.37-1.37c-.4-.4-.92-.59-1.43-.59-.52 0-1.04.2-1.43.59L10.3 9.45l-7.72 7.72c-.78.78-.78 2.05 0 2.83L4 21.41c.39.39.9.59 1.41.59.51 0 1.02-.2 1.41-.59l7.78-7.78 2.81-2.81c.8-.78.8-2.07 0-2.86zM5.41 20L4 18.59l7.72-7.72 1.47 1.35L5.41 20z\"/>\n",
              "  </svg>\n",
              "      </button>\n",
              "      \n",
              "  <style>\n",
              "    .colab-df-container {\n",
              "      display:flex;\n",
              "      flex-wrap:wrap;\n",
              "      gap: 12px;\n",
              "    }\n",
              "\n",
              "    .colab-df-convert {\n",
              "      background-color: #E8F0FE;\n",
              "      border: none;\n",
              "      border-radius: 50%;\n",
              "      cursor: pointer;\n",
              "      display: none;\n",
              "      fill: #1967D2;\n",
              "      height: 32px;\n",
              "      padding: 0 0 0 0;\n",
              "      width: 32px;\n",
              "    }\n",
              "\n",
              "    .colab-df-convert:hover {\n",
              "      background-color: #E2EBFA;\n",
              "      box-shadow: 0px 1px 2px rgba(60, 64, 67, 0.3), 0px 1px 3px 1px rgba(60, 64, 67, 0.15);\n",
              "      fill: #174EA6;\n",
              "    }\n",
              "\n",
              "    [theme=dark] .colab-df-convert {\n",
              "      background-color: #3B4455;\n",
              "      fill: #D2E3FC;\n",
              "    }\n",
              "\n",
              "    [theme=dark] .colab-df-convert:hover {\n",
              "      background-color: #434B5C;\n",
              "      box-shadow: 0px 1px 3px 1px rgba(0, 0, 0, 0.15);\n",
              "      filter: drop-shadow(0px 1px 2px rgba(0, 0, 0, 0.3));\n",
              "      fill: #FFFFFF;\n",
              "    }\n",
              "  </style>\n",
              "\n",
              "      <script>\n",
              "        const buttonEl =\n",
              "          document.querySelector('#df-ee0c76e6-a3eb-4a3f-a57e-382fccd14b4d button.colab-df-convert');\n",
              "        buttonEl.style.display =\n",
              "          google.colab.kernel.accessAllowed ? 'block' : 'none';\n",
              "\n",
              "        async function convertToInteractive(key) {\n",
              "          const element = document.querySelector('#df-ee0c76e6-a3eb-4a3f-a57e-382fccd14b4d');\n",
              "          const dataTable =\n",
              "            await google.colab.kernel.invokeFunction('convertToInteractive',\n",
              "                                                     [key], {});\n",
              "          if (!dataTable) return;\n",
              "\n",
              "          const docLinkHtml = 'Like what you see? Visit the ' +\n",
              "            '<a target=\"_blank\" href=https://colab.research.google.com/notebooks/data_table.ipynb>data table notebook</a>'\n",
              "            + ' to learn more about interactive tables.';\n",
              "          element.innerHTML = '';\n",
              "          dataTable['output_type'] = 'display_data';\n",
              "          await google.colab.output.renderOutput(dataTable, element);\n",
              "          const docLink = document.createElement('div');\n",
              "          docLink.innerHTML = docLinkHtml;\n",
              "          element.appendChild(docLink);\n",
              "        }\n",
              "      </script>\n",
              "    </div>\n",
              "  </div>\n",
              "  "
            ]
          },
          "metadata": {},
          "execution_count": 105
        }
      ],
      "source": [
        "# Example:\n",
        "\n",
        "model1.complete_sentence(text2, num_of_words = 10, num_of_predictions = 4)"
      ]
    },
    {
      "cell_type": "markdown",
      "metadata": {
        "id": "piVMgpOYz_PE"
      },
      "source": [
        "***"
      ]
    },
    {
      "cell_type": "markdown",
      "metadata": {
        "id": "r2NlXc8Hz_PE"
      },
      "source": [
        "### **c. Preprocess**"
      ]
    },
    {
      "cell_type": "markdown",
      "metadata": {
        "id": "xj91JczJz_PF"
      },
      "source": [
        "#### import"
      ]
    },
    {
      "cell_type": "code",
      "execution_count": null,
      "metadata": {
        "id": "ECIdq8hGz_PF"
      },
      "outputs": [],
      "source": [
        "from mahaNLP.preprocess import Preprocess"
      ]
    },
    {
      "cell_type": "markdown",
      "metadata": {
        "id": "sJHmm7_Lz_PF"
      },
      "source": [
        "#### create an object"
      ]
    },
    {
      "cell_type": "code",
      "execution_count": null,
      "metadata": {
        "id": "7vcz0dXaz_PF"
      },
      "outputs": [],
      "source": [
        "model2 = Preprocess()"
      ]
    },
    {
      "cell_type": "markdown",
      "metadata": {
        "id": "9x9TXj8Dz_PG"
      },
      "source": [
        "### **Usage of preprocess:**\n",
        "It provides three functionalities\n",
        "* **remove_url:** Removes url from the text\n",
        "* **remove_stopwords:** Removes stopwords from the text\n",
        "* **remove_nondevnagari:** Removes the non-marathi characters"
      ]
    },
    {
      "cell_type": "markdown",
      "metadata": {
        "id": "dYgiSdzIz_PG"
      },
      "source": [
        "#### **remove_url:**"
      ]
    },
    {
      "cell_type": "code",
      "execution_count": null,
      "metadata": {
        "id": "5MY7K6T_z_PG",
        "outputId": "165a251f-c87f-4799-d122-ec826d757bda",
        "colab": {
          "base_uri": "https://localhost:8080/",
          "height": 36
        }
      },
      "outputs": [
        {
          "output_type": "execute_result",
          "data": {
            "text/plain": [
              "'मी गुगल  वर शोधले कि भारतात जवळपास एकूण ८० टक्के लोकांचे बँकेत खाते आहे.'"
            ],
            "application/vnd.google.colaboratory.intrinsic+json": {
              "type": "string"
            }
          },
          "metadata": {},
          "execution_count": 108
        }
      ],
      "source": [
        "# Example:\n",
        "\n",
        "text3 = 'मी गुगल https://www.google.com/ वर शोधले कि भारतात जवळपास एकूण ८० टक्के लोकांचे बँकेत खाते आहे.'\n",
        "# English Translation:\n",
        "# 'I found on google https://www.google.com/ that almost 80 percent of total people in India have bank account.'\n",
        "\n",
        "model2.remove_url(text3)"
      ]
    },
    {
      "cell_type": "markdown",
      "metadata": {
        "id": "PwhWTGaZz_PG"
      },
      "source": [
        "#### **remove_stopwords:**"
      ]
    },
    {
      "cell_type": "code",
      "execution_count": null,
      "metadata": {
        "id": "GUoGfmX3z_PH",
        "outputId": "357d28da-de17-480d-87fb-0125fcec8c87",
        "colab": {
          "base_uri": "https://localhost:8080/"
        }
      },
      "outputs": [
        {
          "output_type": "execute_result",
          "data": {
            "text/plain": [
              "['दिवस', 'गाडी', 'अजून', 'सापडली', 'पोलिसांचा', 'कडक', 'तपास', 'सुरु']"
            ]
          },
          "metadata": {},
          "execution_count": 188
        }
      ],
      "source": [
        "# stopwords like articles, prepositions, pronouns, conjunctions, etc.\n",
        "\n",
        "# Example:\n",
        "\n",
        "text4 = 'तीन दिवस झाले, पण गाडी अजून सापडली नाही. पोलिसांचा कडक तपास सुरु आहे.'\n",
        "# English Translation:\n",
        "# 'It's been three days, but the car is still not found. Strict investigation by the police is going on.'\n",
        "\n",
        "model2.remove_stopwords(text4)"
      ]
    },
    {
      "cell_type": "markdown",
      "metadata": {
        "id": "NxNKQL1az_PH"
      },
      "source": [
        "#### **remove_nondevnagari:**"
      ]
    },
    {
      "cell_type": "code",
      "execution_count": null,
      "metadata": {
        "id": "-C5g-je9z_PI",
        "outputId": "3f5683df-1928-4ad3-efad-f39e99cb56c6",
        "colab": {
          "base_uri": "https://localhost:8080/"
        }
      },
      "outputs": [
        {
          "output_type": "stream",
          "name": "stdout",
          "text": [
            "डाळी भारतीय थाळीमध्ये सामील असलेले मुख्य भोजन आहेत.   , यु एस एग्रीकल्चर डिपार्टमेंट नुसार १०० ग्रॅम डाळ मध्ये 8 ते 9 ग्राम प्रोटीन असतात.\n"
          ]
        }
      ],
      "source": [
        "# Example:\n",
        "\n",
        "text5 = 'डाळी भारतीय थाळीमध्ये सामील असलेले मुख्य भोजन आहेत. US agriculture department, यु एस एग्रीकल्चर डिपार्टमेंट नुसार १०० ग्रॅम डाळ मध्ये 8 ते 9 ग्राम प्रोटीन असतात.'\n",
        "# English Translation:\n",
        "# 'Pulses are the staple food included in Indian Thali. According to the US agriculture department, 100 grams of dal contains 8-9 grams of protein.'\n",
        "\n",
        "model2.remove_nondevnagari(text5)"
      ]
    },
    {
      "cell_type": "markdown",
      "metadata": {
        "id": "omTXKJrhz_PI"
      },
      "source": [
        "Optional Parameter(s):\n",
        "* **en_num** (1, 0) in int - Default: 1\n",
        "  * Decides whether to keep English numericals (1-yes, 0-no)"
      ]
    },
    {
      "cell_type": "code",
      "execution_count": null,
      "metadata": {
        "id": "pl3KLtHez_PI",
        "outputId": "807f536e-ab05-4fdf-db37-d440bfb9c56e",
        "colab": {
          "base_uri": "https://localhost:8080/"
        }
      },
      "outputs": [
        {
          "output_type": "stream",
          "name": "stdout",
          "text": [
            "डाळी भारतीय थाळीमध्ये सामील असलेले मुख्य भोजन आहेत.   , यु एस एग्रीकल्चर डिपार्टमेंट नुसार १०० ग्रॅम डाळ मध्ये  ते  ग्राम प्रोटीन असतात.\n"
          ]
        }
      ],
      "source": [
        "# Example:\n",
        "\n",
        "model2.remove_nondevnagari(text5, en_num = 0)"
      ]
    },
    {
      "cell_type": "markdown",
      "metadata": {
        "id": "S89XZH_7z_PJ"
      },
      "source": [
        "***"
      ]
    },
    {
      "cell_type": "markdown",
      "metadata": {
        "id": "SoEAJyMDz_PJ"
      },
      "source": [
        "### **d. Tokenizer**"
      ]
    },
    {
      "cell_type": "markdown",
      "metadata": {
        "id": "0StlwoAkz_PK"
      },
      "source": [
        "#### import"
      ]
    },
    {
      "cell_type": "code",
      "execution_count": null,
      "metadata": {
        "id": "Y3g6wCssz_PK"
      },
      "outputs": [],
      "source": [
        "from mahaNLP.tokenizer import Tokenize"
      ]
    },
    {
      "cell_type": "markdown",
      "metadata": {
        "id": "aRzdJa1pz_PK"
      },
      "source": [
        "#### create an object"
      ]
    },
    {
      "cell_type": "code",
      "execution_count": null,
      "metadata": {
        "id": "nkQxHjyFz_PL"
      },
      "outputs": [],
      "source": [
        "model3 = Tokenize()"
      ]
    },
    {
      "cell_type": "markdown",
      "metadata": {
        "id": "Zh27L2gXz_PL"
      },
      "source": [
        "### **Usage of tokenizer:**\n",
        "It provides two functionalities\n",
        "* **word_tokenize:** Tokenizes words from sentences and stores them in an array\n",
        "* **sentence_tokenize:** Tokenizes sentences from paragraph or set of sentences"
      ]
    },
    {
      "cell_type": "markdown",
      "metadata": {
        "id": "5YyOx0u6z_PL"
      },
      "source": [
        "#### **wordTokenize:**"
      ]
    },
    {
      "cell_type": "code",
      "execution_count": null,
      "metadata": {
        "id": "q_q40jynz_PL",
        "outputId": "63f860e1-0c16-4547-c512-ea84add9f8e6",
        "colab": {
          "base_uri": "https://localhost:8080/"
        }
      },
      "outputs": [
        {
          "output_type": "execute_result",
          "data": {
            "text/plain": [
              "['तुमच्या',\n",
              " 'भावनाही',\n",
              " 'शरीर',\n",
              " 'निरोगी',\n",
              " 'ठेवण्यात',\n",
              " 'महत्त्वाची',\n",
              " 'भूमिका',\n",
              " 'बजावतात',\n",
              " '!']"
            ]
          },
          "metadata": {},
          "execution_count": 114
        }
      ],
      "source": [
        "# Example:\n",
        "\n",
        "text6 = 'तुमच्या भावनाही शरीर निरोगी ठेवण्यात महत्त्वाची भूमिका बजावतात!'\n",
        "# English Translation:\n",
        "# 'Your emotions also play an important role in keeping the body healthy!'\n",
        "\n",
        "model3.word_tokenize(text6)"
      ]
    },
    {
      "cell_type": "markdown",
      "metadata": {
        "id": "cMi9CBv-z_PM"
      },
      "source": [
        "You can see the above example also tokenized the punctuation marks"
      ]
    },
    {
      "cell_type": "markdown",
      "metadata": {
        "id": "yQTgKB7lz_PM"
      },
      "source": [
        "Optional Parameter(s):\n",
        "* **punctuation** (True, False) in bool - Default: True\n",
        "  * Decides whether to tokenize punctuation marks (True-yes, False-no)"
      ]
    },
    {
      "cell_type": "code",
      "execution_count": null,
      "metadata": {
        "scrolled": true,
        "id": "O3z5vzOjz_PN",
        "outputId": "08961900-4215-43bf-ad8e-b3c6e13f07fe",
        "colab": {
          "base_uri": "https://localhost:8080/"
        }
      },
      "outputs": [
        {
          "output_type": "execute_result",
          "data": {
            "text/plain": [
              "['तुमच्या',\n",
              " 'भावनाही',\n",
              " 'शरीर',\n",
              " 'निरोगी',\n",
              " 'ठेवण्यात',\n",
              " 'महत्त्वाची',\n",
              " 'भूमिका',\n",
              " 'बजावतात']"
            ]
          },
          "metadata": {},
          "execution_count": 115
        }
      ],
      "source": [
        "# Example:\n",
        "\n",
        "model3.word_tokenize(text6, punctuation = False)"
      ]
    },
    {
      "cell_type": "markdown",
      "metadata": {
        "id": "-2TN2127z_PN"
      },
      "source": [
        "#### **sentence_tokenize:**"
      ]
    },
    {
      "cell_type": "code",
      "execution_count": null,
      "metadata": {
        "id": "ueAS6ypEz_PO",
        "outputId": "52aa74a0-231b-4bb2-83a8-209be49a3043",
        "colab": {
          "base_uri": "https://localhost:8080/"
        }
      },
      "outputs": [
        {
          "output_type": "execute_result",
          "data": {
            "text/plain": [
              "['पावसाळ्यात हवेत ओलावा असल्यामुळे फळे व भाज्यांवर धूळ व कचरा बसतो.',\n",
              " ' त्यामुळे फळे व भाज्या स्वच्छ धुवून मगच खाव्यात!',\n",
              " ' पावसाळ्यात रोगप्रतिकारक शक्ती कमी झालेली असते.',\n",
              " ' त्यामुळे या दिवसांत शरीराला जास्त ताण देणारे व्यायाम केल्यास शरीरातील पित्त वाढते.',\n",
              " ' पावसाळ्यात पोहणे, योगासने किंवा चालणे यांसारखे सोपे व्यायम करावेत.']"
            ]
          },
          "metadata": {},
          "execution_count": 116
        }
      ],
      "source": [
        "# Example\n",
        "\n",
        "text7 = 'पावसाळ्यात हवेत ओलावा असल्यामुळे फळे व भाज्यांवर धूळ व कचरा बसतो. त्यामुळे फळे व भाज्या स्वच्छ धुवून मगच खाव्यात! पावसाळ्यात रोगप्रतिकारक शक्ती कमी झालेली असते. त्यामुळे या दिवसांत शरीराला जास्त ताण देणारे व्यायाम केल्यास शरीरातील पित्त वाढते. पावसाळ्यात पोहणे, योगासने किंवा चालणे यांसारखे सोपे व्यायम करावेत.'\n",
        "# English Translation:\n",
        "# 'Due to moisture in the air during monsoons, dust and garbage settle on fruits and vegetables. So fruits and vegetables should be washed and then eaten! The immune system is reduced during monsoon. Therefore, during these days, doing exercises that put more stress on the body increases the pitta in the body. Simple exercises like swimming, yoga or walking should be done during monsoons.'\n",
        "\n",
        "model3.sentence_tokenize(text7)"
      ]
    },
    {
      "cell_type": "markdown",
      "metadata": {
        "id": "8cogXx4cz_PO"
      },
      "source": [
        "***"
      ]
    },
    {
      "cell_type": "markdown",
      "metadata": {
        "id": "R_wA2jIwz_PO"
      },
      "source": [
        "### **e. Tagger**"
      ]
    },
    {
      "cell_type": "markdown",
      "metadata": {
        "id": "J7pQA3caz_PP"
      },
      "source": [
        "#### import"
      ]
    },
    {
      "cell_type": "code",
      "execution_count": null,
      "metadata": {
        "id": "AbrL_kIiz_PP"
      },
      "outputs": [],
      "source": [
        "from mahaNLP.tagger import EntityRecognizer"
      ]
    },
    {
      "cell_type": "markdown",
      "metadata": {
        "id": "4L7CNcQXz_PP"
      },
      "source": [
        "#### create an object"
      ]
    },
    {
      "cell_type": "code",
      "execution_count": null,
      "metadata": {
        "id": "bKo7wdcqz_PQ"
      },
      "outputs": [],
      "source": [
        "model4 = EntityRecognizer()"
      ]
    },
    {
      "cell_type": "markdown",
      "metadata": {
        "id": "DWnkOhtWz_PQ"
      },
      "source": [
        "### **Usage of tagger:**\n",
        "It provides two functionalities\n",
        "* **get_token_labels:** Prints token and entity label for each word\n",
        "* **get_tokens:** Prints a string with all entity lables for the respective tokens in the text"
      ]
    },
    {
      "cell_type": "markdown",
      "metadata": {
        "id": "AFk2HW8Tz_PQ"
      },
      "source": [
        "#### **get_token_labels:**"
      ]
    },
    {
      "cell_type": "code",
      "execution_count": null,
      "metadata": {
        "id": "mhlusjTEz_PQ",
        "outputId": "3c7afe2b-efd1-4f7b-e55f-b89c41d592a6",
        "colab": {
          "base_uri": "https://localhost:8080/",
          "height": 645
        }
      },
      "outputs": [
        {
          "output_type": "execute_result",
          "data": {
            "text/plain": [
              "          word entity_group\n",
              "0      भारताचे     Location\n",
              "1        दुसरे      Measure\n",
              "2   राष्ट्रपती  Designation\n",
              "3          डॉ.  Designation\n",
              "4    सर्वपल्ली       Person\n",
              "5   राधाकृष्णन       Person\n",
              "6        यांचा        Other\n",
              "7     जन्मदिवस        Other\n",
              "8     म्हणजेच,        Other\n",
              "9            ५         Date\n",
              "10    सप्टेंबर         Date\n",
              "11          हा        Other\n",
              "12        दिवस        Other\n",
              "13      शिक्षक        Other\n",
              "14         दिन        Other\n",
              "15      म्हणून        Other\n",
              "16       साजरा        Other\n",
              "17     करण्यात        Other\n",
              "18       येतो.        Other"
            ],
            "text/html": [
              "\n",
              "  <div id=\"df-eebbd55a-cd4a-42e7-9bb5-1366d460a789\">\n",
              "    <div class=\"colab-df-container\">\n",
              "      <div>\n",
              "<style scoped>\n",
              "    .dataframe tbody tr th:only-of-type {\n",
              "        vertical-align: middle;\n",
              "    }\n",
              "\n",
              "    .dataframe tbody tr th {\n",
              "        vertical-align: top;\n",
              "    }\n",
              "\n",
              "    .dataframe thead th {\n",
              "        text-align: right;\n",
              "    }\n",
              "</style>\n",
              "<table border=\"1\" class=\"dataframe\">\n",
              "  <thead>\n",
              "    <tr style=\"text-align: right;\">\n",
              "      <th></th>\n",
              "      <th>word</th>\n",
              "      <th>entity_group</th>\n",
              "    </tr>\n",
              "  </thead>\n",
              "  <tbody>\n",
              "    <tr>\n",
              "      <th>0</th>\n",
              "      <td>भारताचे</td>\n",
              "      <td>Location</td>\n",
              "    </tr>\n",
              "    <tr>\n",
              "      <th>1</th>\n",
              "      <td>दुसरे</td>\n",
              "      <td>Measure</td>\n",
              "    </tr>\n",
              "    <tr>\n",
              "      <th>2</th>\n",
              "      <td>राष्ट्रपती</td>\n",
              "      <td>Designation</td>\n",
              "    </tr>\n",
              "    <tr>\n",
              "      <th>3</th>\n",
              "      <td>डॉ.</td>\n",
              "      <td>Designation</td>\n",
              "    </tr>\n",
              "    <tr>\n",
              "      <th>4</th>\n",
              "      <td>सर्वपल्ली</td>\n",
              "      <td>Person</td>\n",
              "    </tr>\n",
              "    <tr>\n",
              "      <th>5</th>\n",
              "      <td>राधाकृष्णन</td>\n",
              "      <td>Person</td>\n",
              "    </tr>\n",
              "    <tr>\n",
              "      <th>6</th>\n",
              "      <td>यांचा</td>\n",
              "      <td>Other</td>\n",
              "    </tr>\n",
              "    <tr>\n",
              "      <th>7</th>\n",
              "      <td>जन्मदिवस</td>\n",
              "      <td>Other</td>\n",
              "    </tr>\n",
              "    <tr>\n",
              "      <th>8</th>\n",
              "      <td>म्हणजेच,</td>\n",
              "      <td>Other</td>\n",
              "    </tr>\n",
              "    <tr>\n",
              "      <th>9</th>\n",
              "      <td>५</td>\n",
              "      <td>Date</td>\n",
              "    </tr>\n",
              "    <tr>\n",
              "      <th>10</th>\n",
              "      <td>सप्टेंबर</td>\n",
              "      <td>Date</td>\n",
              "    </tr>\n",
              "    <tr>\n",
              "      <th>11</th>\n",
              "      <td>हा</td>\n",
              "      <td>Other</td>\n",
              "    </tr>\n",
              "    <tr>\n",
              "      <th>12</th>\n",
              "      <td>दिवस</td>\n",
              "      <td>Other</td>\n",
              "    </tr>\n",
              "    <tr>\n",
              "      <th>13</th>\n",
              "      <td>शिक्षक</td>\n",
              "      <td>Other</td>\n",
              "    </tr>\n",
              "    <tr>\n",
              "      <th>14</th>\n",
              "      <td>दिन</td>\n",
              "      <td>Other</td>\n",
              "    </tr>\n",
              "    <tr>\n",
              "      <th>15</th>\n",
              "      <td>म्हणून</td>\n",
              "      <td>Other</td>\n",
              "    </tr>\n",
              "    <tr>\n",
              "      <th>16</th>\n",
              "      <td>साजरा</td>\n",
              "      <td>Other</td>\n",
              "    </tr>\n",
              "    <tr>\n",
              "      <th>17</th>\n",
              "      <td>करण्यात</td>\n",
              "      <td>Other</td>\n",
              "    </tr>\n",
              "    <tr>\n",
              "      <th>18</th>\n",
              "      <td>येतो.</td>\n",
              "      <td>Other</td>\n",
              "    </tr>\n",
              "  </tbody>\n",
              "</table>\n",
              "</div>\n",
              "      <button class=\"colab-df-convert\" onclick=\"convertToInteractive('df-eebbd55a-cd4a-42e7-9bb5-1366d460a789')\"\n",
              "              title=\"Convert this dataframe to an interactive table.\"\n",
              "              style=\"display:none;\">\n",
              "        \n",
              "  <svg xmlns=\"http://www.w3.org/2000/svg\" height=\"24px\"viewBox=\"0 0 24 24\"\n",
              "       width=\"24px\">\n",
              "    <path d=\"M0 0h24v24H0V0z\" fill=\"none\"/>\n",
              "    <path d=\"M18.56 5.44l.94 2.06.94-2.06 2.06-.94-2.06-.94-.94-2.06-.94 2.06-2.06.94zm-11 1L8.5 8.5l.94-2.06 2.06-.94-2.06-.94L8.5 2.5l-.94 2.06-2.06.94zm10 10l.94 2.06.94-2.06 2.06-.94-2.06-.94-.94-2.06-.94 2.06-2.06.94z\"/><path d=\"M17.41 7.96l-1.37-1.37c-.4-.4-.92-.59-1.43-.59-.52 0-1.04.2-1.43.59L10.3 9.45l-7.72 7.72c-.78.78-.78 2.05 0 2.83L4 21.41c.39.39.9.59 1.41.59.51 0 1.02-.2 1.41-.59l7.78-7.78 2.81-2.81c.8-.78.8-2.07 0-2.86zM5.41 20L4 18.59l7.72-7.72 1.47 1.35L5.41 20z\"/>\n",
              "  </svg>\n",
              "      </button>\n",
              "      \n",
              "  <style>\n",
              "    .colab-df-container {\n",
              "      display:flex;\n",
              "      flex-wrap:wrap;\n",
              "      gap: 12px;\n",
              "    }\n",
              "\n",
              "    .colab-df-convert {\n",
              "      background-color: #E8F0FE;\n",
              "      border: none;\n",
              "      border-radius: 50%;\n",
              "      cursor: pointer;\n",
              "      display: none;\n",
              "      fill: #1967D2;\n",
              "      height: 32px;\n",
              "      padding: 0 0 0 0;\n",
              "      width: 32px;\n",
              "    }\n",
              "\n",
              "    .colab-df-convert:hover {\n",
              "      background-color: #E2EBFA;\n",
              "      box-shadow: 0px 1px 2px rgba(60, 64, 67, 0.3), 0px 1px 3px 1px rgba(60, 64, 67, 0.15);\n",
              "      fill: #174EA6;\n",
              "    }\n",
              "\n",
              "    [theme=dark] .colab-df-convert {\n",
              "      background-color: #3B4455;\n",
              "      fill: #D2E3FC;\n",
              "    }\n",
              "\n",
              "    [theme=dark] .colab-df-convert:hover {\n",
              "      background-color: #434B5C;\n",
              "      box-shadow: 0px 1px 3px 1px rgba(0, 0, 0, 0.15);\n",
              "      filter: drop-shadow(0px 1px 2px rgba(0, 0, 0, 0.3));\n",
              "      fill: #FFFFFF;\n",
              "    }\n",
              "  </style>\n",
              "\n",
              "      <script>\n",
              "        const buttonEl =\n",
              "          document.querySelector('#df-eebbd55a-cd4a-42e7-9bb5-1366d460a789 button.colab-df-convert');\n",
              "        buttonEl.style.display =\n",
              "          google.colab.kernel.accessAllowed ? 'block' : 'none';\n",
              "\n",
              "        async function convertToInteractive(key) {\n",
              "          const element = document.querySelector('#df-eebbd55a-cd4a-42e7-9bb5-1366d460a789');\n",
              "          const dataTable =\n",
              "            await google.colab.kernel.invokeFunction('convertToInteractive',\n",
              "                                                     [key], {});\n",
              "          if (!dataTable) return;\n",
              "\n",
              "          const docLinkHtml = 'Like what you see? Visit the ' +\n",
              "            '<a target=\"_blank\" href=https://colab.research.google.com/notebooks/data_table.ipynb>data table notebook</a>'\n",
              "            + ' to learn more about interactive tables.';\n",
              "          element.innerHTML = '';\n",
              "          dataTable['output_type'] = 'display_data';\n",
              "          await google.colab.output.renderOutput(dataTable, element);\n",
              "          const docLink = document.createElement('div');\n",
              "          docLink.innerHTML = docLinkHtml;\n",
              "          element.appendChild(docLink);\n",
              "        }\n",
              "      </script>\n",
              "    </div>\n",
              "  </div>\n",
              "  "
            ]
          },
          "metadata": {},
          "execution_count": 119
        }
      ],
      "source": [
        "# Example:\n",
        "\n",
        "text8 = 'भारताचे दुसरे राष्ट्रपती डॉ. सर्वपल्ली राधाकृष्णन यांचा जन्मदिवस म्हणजेच, ५ सप्टेंबर हा दिवस शिक्षक दिन म्हणून साजरा करण्यात येतो.'\n",
        "# English Translation:\n",
        "# 'Second President of India Dr. Sarvapalli Radhakrishnan's birthday i.e. 5th September is celebrated as Teachers' Day.'\n",
        "model4.get_token_labels(text8)"
      ]
    },
    {
      "cell_type": "markdown",
      "metadata": {
        "id": "2GguTR0pz_PR"
      },
      "source": [
        "Optional Parameter(s):\n",
        "* **details** (minimum, medium, all) in string - Default: minimum\n",
        "  * Used to pass the detailedness to be considered like entity prediction score, start-end index of word, etc.\n",
        "* **as_dict** (True, False) in boolean - Default: False\n",
        "  * Used to define the print type"
      ]
    },
    {
      "cell_type": "code",
      "execution_count": null,
      "metadata": {
        "id": "2v5sD0X7z_PS",
        "outputId": "e771f2cd-4fb4-471a-bf46-8c4d774b39c8",
        "colab": {
          "base_uri": "https://localhost:8080/",
          "height": 645
        }
      },
      "outputs": [
        {
          "output_type": "execute_result",
          "data": {
            "text/plain": [
              "          word entity_group     score\n",
              "0      भारताचे     Location  0.990536\n",
              "1        दुसरे      Measure  0.992870\n",
              "2   राष्ट्रपती  Designation  0.872444\n",
              "3          डॉ.  Designation  0.872444\n",
              "4    सर्वपल्ली       Person  0.926756\n",
              "5   राधाकृष्णन       Person  0.926756\n",
              "6        यांचा        Other  0.999950\n",
              "7     जन्मदिवस        Other  0.999950\n",
              "8     म्हणजेच,        Other  0.999950\n",
              "9            ५         Date  0.999657\n",
              "10    सप्टेंबर         Date  0.999657\n",
              "11          हा        Other  0.999919\n",
              "12        दिवस        Other  0.999919\n",
              "13      शिक्षक        Other  0.999919\n",
              "14         दिन        Other  0.999919\n",
              "15      म्हणून        Other  0.999919\n",
              "16       साजरा        Other  0.999919\n",
              "17     करण्यात        Other  0.999919\n",
              "18       येतो.        Other  0.999919"
            ],
            "text/html": [
              "\n",
              "  <div id=\"df-d1ef07a0-06fa-42a8-8f80-3d0640590e37\">\n",
              "    <div class=\"colab-df-container\">\n",
              "      <div>\n",
              "<style scoped>\n",
              "    .dataframe tbody tr th:only-of-type {\n",
              "        vertical-align: middle;\n",
              "    }\n",
              "\n",
              "    .dataframe tbody tr th {\n",
              "        vertical-align: top;\n",
              "    }\n",
              "\n",
              "    .dataframe thead th {\n",
              "        text-align: right;\n",
              "    }\n",
              "</style>\n",
              "<table border=\"1\" class=\"dataframe\">\n",
              "  <thead>\n",
              "    <tr style=\"text-align: right;\">\n",
              "      <th></th>\n",
              "      <th>word</th>\n",
              "      <th>entity_group</th>\n",
              "      <th>score</th>\n",
              "    </tr>\n",
              "  </thead>\n",
              "  <tbody>\n",
              "    <tr>\n",
              "      <th>0</th>\n",
              "      <td>भारताचे</td>\n",
              "      <td>Location</td>\n",
              "      <td>0.990536</td>\n",
              "    </tr>\n",
              "    <tr>\n",
              "      <th>1</th>\n",
              "      <td>दुसरे</td>\n",
              "      <td>Measure</td>\n",
              "      <td>0.992870</td>\n",
              "    </tr>\n",
              "    <tr>\n",
              "      <th>2</th>\n",
              "      <td>राष्ट्रपती</td>\n",
              "      <td>Designation</td>\n",
              "      <td>0.872444</td>\n",
              "    </tr>\n",
              "    <tr>\n",
              "      <th>3</th>\n",
              "      <td>डॉ.</td>\n",
              "      <td>Designation</td>\n",
              "      <td>0.872444</td>\n",
              "    </tr>\n",
              "    <tr>\n",
              "      <th>4</th>\n",
              "      <td>सर्वपल्ली</td>\n",
              "      <td>Person</td>\n",
              "      <td>0.926756</td>\n",
              "    </tr>\n",
              "    <tr>\n",
              "      <th>5</th>\n",
              "      <td>राधाकृष्णन</td>\n",
              "      <td>Person</td>\n",
              "      <td>0.926756</td>\n",
              "    </tr>\n",
              "    <tr>\n",
              "      <th>6</th>\n",
              "      <td>यांचा</td>\n",
              "      <td>Other</td>\n",
              "      <td>0.999950</td>\n",
              "    </tr>\n",
              "    <tr>\n",
              "      <th>7</th>\n",
              "      <td>जन्मदिवस</td>\n",
              "      <td>Other</td>\n",
              "      <td>0.999950</td>\n",
              "    </tr>\n",
              "    <tr>\n",
              "      <th>8</th>\n",
              "      <td>म्हणजेच,</td>\n",
              "      <td>Other</td>\n",
              "      <td>0.999950</td>\n",
              "    </tr>\n",
              "    <tr>\n",
              "      <th>9</th>\n",
              "      <td>५</td>\n",
              "      <td>Date</td>\n",
              "      <td>0.999657</td>\n",
              "    </tr>\n",
              "    <tr>\n",
              "      <th>10</th>\n",
              "      <td>सप्टेंबर</td>\n",
              "      <td>Date</td>\n",
              "      <td>0.999657</td>\n",
              "    </tr>\n",
              "    <tr>\n",
              "      <th>11</th>\n",
              "      <td>हा</td>\n",
              "      <td>Other</td>\n",
              "      <td>0.999919</td>\n",
              "    </tr>\n",
              "    <tr>\n",
              "      <th>12</th>\n",
              "      <td>दिवस</td>\n",
              "      <td>Other</td>\n",
              "      <td>0.999919</td>\n",
              "    </tr>\n",
              "    <tr>\n",
              "      <th>13</th>\n",
              "      <td>शिक्षक</td>\n",
              "      <td>Other</td>\n",
              "      <td>0.999919</td>\n",
              "    </tr>\n",
              "    <tr>\n",
              "      <th>14</th>\n",
              "      <td>दिन</td>\n",
              "      <td>Other</td>\n",
              "      <td>0.999919</td>\n",
              "    </tr>\n",
              "    <tr>\n",
              "      <th>15</th>\n",
              "      <td>म्हणून</td>\n",
              "      <td>Other</td>\n",
              "      <td>0.999919</td>\n",
              "    </tr>\n",
              "    <tr>\n",
              "      <th>16</th>\n",
              "      <td>साजरा</td>\n",
              "      <td>Other</td>\n",
              "      <td>0.999919</td>\n",
              "    </tr>\n",
              "    <tr>\n",
              "      <th>17</th>\n",
              "      <td>करण्यात</td>\n",
              "      <td>Other</td>\n",
              "      <td>0.999919</td>\n",
              "    </tr>\n",
              "    <tr>\n",
              "      <th>18</th>\n",
              "      <td>येतो.</td>\n",
              "      <td>Other</td>\n",
              "      <td>0.999919</td>\n",
              "    </tr>\n",
              "  </tbody>\n",
              "</table>\n",
              "</div>\n",
              "      <button class=\"colab-df-convert\" onclick=\"convertToInteractive('df-d1ef07a0-06fa-42a8-8f80-3d0640590e37')\"\n",
              "              title=\"Convert this dataframe to an interactive table.\"\n",
              "              style=\"display:none;\">\n",
              "        \n",
              "  <svg xmlns=\"http://www.w3.org/2000/svg\" height=\"24px\"viewBox=\"0 0 24 24\"\n",
              "       width=\"24px\">\n",
              "    <path d=\"M0 0h24v24H0V0z\" fill=\"none\"/>\n",
              "    <path d=\"M18.56 5.44l.94 2.06.94-2.06 2.06-.94-2.06-.94-.94-2.06-.94 2.06-2.06.94zm-11 1L8.5 8.5l.94-2.06 2.06-.94-2.06-.94L8.5 2.5l-.94 2.06-2.06.94zm10 10l.94 2.06.94-2.06 2.06-.94-2.06-.94-.94-2.06-.94 2.06-2.06.94z\"/><path d=\"M17.41 7.96l-1.37-1.37c-.4-.4-.92-.59-1.43-.59-.52 0-1.04.2-1.43.59L10.3 9.45l-7.72 7.72c-.78.78-.78 2.05 0 2.83L4 21.41c.39.39.9.59 1.41.59.51 0 1.02-.2 1.41-.59l7.78-7.78 2.81-2.81c.8-.78.8-2.07 0-2.86zM5.41 20L4 18.59l7.72-7.72 1.47 1.35L5.41 20z\"/>\n",
              "  </svg>\n",
              "      </button>\n",
              "      \n",
              "  <style>\n",
              "    .colab-df-container {\n",
              "      display:flex;\n",
              "      flex-wrap:wrap;\n",
              "      gap: 12px;\n",
              "    }\n",
              "\n",
              "    .colab-df-convert {\n",
              "      background-color: #E8F0FE;\n",
              "      border: none;\n",
              "      border-radius: 50%;\n",
              "      cursor: pointer;\n",
              "      display: none;\n",
              "      fill: #1967D2;\n",
              "      height: 32px;\n",
              "      padding: 0 0 0 0;\n",
              "      width: 32px;\n",
              "    }\n",
              "\n",
              "    .colab-df-convert:hover {\n",
              "      background-color: #E2EBFA;\n",
              "      box-shadow: 0px 1px 2px rgba(60, 64, 67, 0.3), 0px 1px 3px 1px rgba(60, 64, 67, 0.15);\n",
              "      fill: #174EA6;\n",
              "    }\n",
              "\n",
              "    [theme=dark] .colab-df-convert {\n",
              "      background-color: #3B4455;\n",
              "      fill: #D2E3FC;\n",
              "    }\n",
              "\n",
              "    [theme=dark] .colab-df-convert:hover {\n",
              "      background-color: #434B5C;\n",
              "      box-shadow: 0px 1px 3px 1px rgba(0, 0, 0, 0.15);\n",
              "      filter: drop-shadow(0px 1px 2px rgba(0, 0, 0, 0.3));\n",
              "      fill: #FFFFFF;\n",
              "    }\n",
              "  </style>\n",
              "\n",
              "      <script>\n",
              "        const buttonEl =\n",
              "          document.querySelector('#df-d1ef07a0-06fa-42a8-8f80-3d0640590e37 button.colab-df-convert');\n",
              "        buttonEl.style.display =\n",
              "          google.colab.kernel.accessAllowed ? 'block' : 'none';\n",
              "\n",
              "        async function convertToInteractive(key) {\n",
              "          const element = document.querySelector('#df-d1ef07a0-06fa-42a8-8f80-3d0640590e37');\n",
              "          const dataTable =\n",
              "            await google.colab.kernel.invokeFunction('convertToInteractive',\n",
              "                                                     [key], {});\n",
              "          if (!dataTable) return;\n",
              "\n",
              "          const docLinkHtml = 'Like what you see? Visit the ' +\n",
              "            '<a target=\"_blank\" href=https://colab.research.google.com/notebooks/data_table.ipynb>data table notebook</a>'\n",
              "            + ' to learn more about interactive tables.';\n",
              "          element.innerHTML = '';\n",
              "          dataTable['output_type'] = 'display_data';\n",
              "          await google.colab.output.renderOutput(dataTable, element);\n",
              "          const docLink = document.createElement('div');\n",
              "          docLink.innerHTML = docLinkHtml;\n",
              "          element.appendChild(docLink);\n",
              "        }\n",
              "      </script>\n",
              "    </div>\n",
              "  </div>\n",
              "  "
            ]
          },
          "metadata": {},
          "execution_count": 120
        }
      ],
      "source": [
        "model4.get_token_labels(text8, details = 'medium', as_dict = False)"
      ]
    },
    {
      "cell_type": "code",
      "execution_count": null,
      "metadata": {
        "id": "7nnu9tdnz_PS",
        "outputId": "d593eea3-34ec-40a0-8816-2eab9595abdf",
        "colab": {
          "base_uri": "https://localhost:8080/",
          "height": 645
        }
      },
      "outputs": [
        {
          "output_type": "execute_result",
          "data": {
            "text/plain": [
              "          word entity_group     score  start  end\n",
              "0      भारताचे     Location  0.990536      0    7\n",
              "1        दुसरे      Measure  0.992870      8   13\n",
              "2   राष्ट्रपती  Designation  0.872444     14   28\n",
              "3          डॉ.  Designation  0.872444     14   28\n",
              "4    सर्वपल्ली       Person  0.926756     29   49\n",
              "5   राधाकृष्णन       Person  0.926756     29   49\n",
              "6        यांचा        Other  0.999950     50   73\n",
              "7     जन्मदिवस        Other  0.999950     50   73\n",
              "8     म्हणजेच,        Other  0.999950     50   73\n",
              "9            ५         Date  0.999657     74   84\n",
              "10    सप्टेंबर         Date  0.999657     74   84\n",
              "11          हा        Other  0.999919     85  130\n",
              "12        दिवस        Other  0.999919     85  130\n",
              "13      शिक्षक        Other  0.999919     85  130\n",
              "14         दिन        Other  0.999919     85  130\n",
              "15      म्हणून        Other  0.999919     85  130\n",
              "16       साजरा        Other  0.999919     85  130\n",
              "17     करण्यात        Other  0.999919     85  130\n",
              "18       येतो.        Other  0.999919     85  130"
            ],
            "text/html": [
              "\n",
              "  <div id=\"df-f9eb5aeb-b016-4a64-87be-9604ff7548a0\">\n",
              "    <div class=\"colab-df-container\">\n",
              "      <div>\n",
              "<style scoped>\n",
              "    .dataframe tbody tr th:only-of-type {\n",
              "        vertical-align: middle;\n",
              "    }\n",
              "\n",
              "    .dataframe tbody tr th {\n",
              "        vertical-align: top;\n",
              "    }\n",
              "\n",
              "    .dataframe thead th {\n",
              "        text-align: right;\n",
              "    }\n",
              "</style>\n",
              "<table border=\"1\" class=\"dataframe\">\n",
              "  <thead>\n",
              "    <tr style=\"text-align: right;\">\n",
              "      <th></th>\n",
              "      <th>word</th>\n",
              "      <th>entity_group</th>\n",
              "      <th>score</th>\n",
              "      <th>start</th>\n",
              "      <th>end</th>\n",
              "    </tr>\n",
              "  </thead>\n",
              "  <tbody>\n",
              "    <tr>\n",
              "      <th>0</th>\n",
              "      <td>भारताचे</td>\n",
              "      <td>Location</td>\n",
              "      <td>0.990536</td>\n",
              "      <td>0</td>\n",
              "      <td>7</td>\n",
              "    </tr>\n",
              "    <tr>\n",
              "      <th>1</th>\n",
              "      <td>दुसरे</td>\n",
              "      <td>Measure</td>\n",
              "      <td>0.992870</td>\n",
              "      <td>8</td>\n",
              "      <td>13</td>\n",
              "    </tr>\n",
              "    <tr>\n",
              "      <th>2</th>\n",
              "      <td>राष्ट्रपती</td>\n",
              "      <td>Designation</td>\n",
              "      <td>0.872444</td>\n",
              "      <td>14</td>\n",
              "      <td>28</td>\n",
              "    </tr>\n",
              "    <tr>\n",
              "      <th>3</th>\n",
              "      <td>डॉ.</td>\n",
              "      <td>Designation</td>\n",
              "      <td>0.872444</td>\n",
              "      <td>14</td>\n",
              "      <td>28</td>\n",
              "    </tr>\n",
              "    <tr>\n",
              "      <th>4</th>\n",
              "      <td>सर्वपल्ली</td>\n",
              "      <td>Person</td>\n",
              "      <td>0.926756</td>\n",
              "      <td>29</td>\n",
              "      <td>49</td>\n",
              "    </tr>\n",
              "    <tr>\n",
              "      <th>5</th>\n",
              "      <td>राधाकृष्णन</td>\n",
              "      <td>Person</td>\n",
              "      <td>0.926756</td>\n",
              "      <td>29</td>\n",
              "      <td>49</td>\n",
              "    </tr>\n",
              "    <tr>\n",
              "      <th>6</th>\n",
              "      <td>यांचा</td>\n",
              "      <td>Other</td>\n",
              "      <td>0.999950</td>\n",
              "      <td>50</td>\n",
              "      <td>73</td>\n",
              "    </tr>\n",
              "    <tr>\n",
              "      <th>7</th>\n",
              "      <td>जन्मदिवस</td>\n",
              "      <td>Other</td>\n",
              "      <td>0.999950</td>\n",
              "      <td>50</td>\n",
              "      <td>73</td>\n",
              "    </tr>\n",
              "    <tr>\n",
              "      <th>8</th>\n",
              "      <td>म्हणजेच,</td>\n",
              "      <td>Other</td>\n",
              "      <td>0.999950</td>\n",
              "      <td>50</td>\n",
              "      <td>73</td>\n",
              "    </tr>\n",
              "    <tr>\n",
              "      <th>9</th>\n",
              "      <td>५</td>\n",
              "      <td>Date</td>\n",
              "      <td>0.999657</td>\n",
              "      <td>74</td>\n",
              "      <td>84</td>\n",
              "    </tr>\n",
              "    <tr>\n",
              "      <th>10</th>\n",
              "      <td>सप्टेंबर</td>\n",
              "      <td>Date</td>\n",
              "      <td>0.999657</td>\n",
              "      <td>74</td>\n",
              "      <td>84</td>\n",
              "    </tr>\n",
              "    <tr>\n",
              "      <th>11</th>\n",
              "      <td>हा</td>\n",
              "      <td>Other</td>\n",
              "      <td>0.999919</td>\n",
              "      <td>85</td>\n",
              "      <td>130</td>\n",
              "    </tr>\n",
              "    <tr>\n",
              "      <th>12</th>\n",
              "      <td>दिवस</td>\n",
              "      <td>Other</td>\n",
              "      <td>0.999919</td>\n",
              "      <td>85</td>\n",
              "      <td>130</td>\n",
              "    </tr>\n",
              "    <tr>\n",
              "      <th>13</th>\n",
              "      <td>शिक्षक</td>\n",
              "      <td>Other</td>\n",
              "      <td>0.999919</td>\n",
              "      <td>85</td>\n",
              "      <td>130</td>\n",
              "    </tr>\n",
              "    <tr>\n",
              "      <th>14</th>\n",
              "      <td>दिन</td>\n",
              "      <td>Other</td>\n",
              "      <td>0.999919</td>\n",
              "      <td>85</td>\n",
              "      <td>130</td>\n",
              "    </tr>\n",
              "    <tr>\n",
              "      <th>15</th>\n",
              "      <td>म्हणून</td>\n",
              "      <td>Other</td>\n",
              "      <td>0.999919</td>\n",
              "      <td>85</td>\n",
              "      <td>130</td>\n",
              "    </tr>\n",
              "    <tr>\n",
              "      <th>16</th>\n",
              "      <td>साजरा</td>\n",
              "      <td>Other</td>\n",
              "      <td>0.999919</td>\n",
              "      <td>85</td>\n",
              "      <td>130</td>\n",
              "    </tr>\n",
              "    <tr>\n",
              "      <th>17</th>\n",
              "      <td>करण्यात</td>\n",
              "      <td>Other</td>\n",
              "      <td>0.999919</td>\n",
              "      <td>85</td>\n",
              "      <td>130</td>\n",
              "    </tr>\n",
              "    <tr>\n",
              "      <th>18</th>\n",
              "      <td>येतो.</td>\n",
              "      <td>Other</td>\n",
              "      <td>0.999919</td>\n",
              "      <td>85</td>\n",
              "      <td>130</td>\n",
              "    </tr>\n",
              "  </tbody>\n",
              "</table>\n",
              "</div>\n",
              "      <button class=\"colab-df-convert\" onclick=\"convertToInteractive('df-f9eb5aeb-b016-4a64-87be-9604ff7548a0')\"\n",
              "              title=\"Convert this dataframe to an interactive table.\"\n",
              "              style=\"display:none;\">\n",
              "        \n",
              "  <svg xmlns=\"http://www.w3.org/2000/svg\" height=\"24px\"viewBox=\"0 0 24 24\"\n",
              "       width=\"24px\">\n",
              "    <path d=\"M0 0h24v24H0V0z\" fill=\"none\"/>\n",
              "    <path d=\"M18.56 5.44l.94 2.06.94-2.06 2.06-.94-2.06-.94-.94-2.06-.94 2.06-2.06.94zm-11 1L8.5 8.5l.94-2.06 2.06-.94-2.06-.94L8.5 2.5l-.94 2.06-2.06.94zm10 10l.94 2.06.94-2.06 2.06-.94-2.06-.94-.94-2.06-.94 2.06-2.06.94z\"/><path d=\"M17.41 7.96l-1.37-1.37c-.4-.4-.92-.59-1.43-.59-.52 0-1.04.2-1.43.59L10.3 9.45l-7.72 7.72c-.78.78-.78 2.05 0 2.83L4 21.41c.39.39.9.59 1.41.59.51 0 1.02-.2 1.41-.59l7.78-7.78 2.81-2.81c.8-.78.8-2.07 0-2.86zM5.41 20L4 18.59l7.72-7.72 1.47 1.35L5.41 20z\"/>\n",
              "  </svg>\n",
              "      </button>\n",
              "      \n",
              "  <style>\n",
              "    .colab-df-container {\n",
              "      display:flex;\n",
              "      flex-wrap:wrap;\n",
              "      gap: 12px;\n",
              "    }\n",
              "\n",
              "    .colab-df-convert {\n",
              "      background-color: #E8F0FE;\n",
              "      border: none;\n",
              "      border-radius: 50%;\n",
              "      cursor: pointer;\n",
              "      display: none;\n",
              "      fill: #1967D2;\n",
              "      height: 32px;\n",
              "      padding: 0 0 0 0;\n",
              "      width: 32px;\n",
              "    }\n",
              "\n",
              "    .colab-df-convert:hover {\n",
              "      background-color: #E2EBFA;\n",
              "      box-shadow: 0px 1px 2px rgba(60, 64, 67, 0.3), 0px 1px 3px 1px rgba(60, 64, 67, 0.15);\n",
              "      fill: #174EA6;\n",
              "    }\n",
              "\n",
              "    [theme=dark] .colab-df-convert {\n",
              "      background-color: #3B4455;\n",
              "      fill: #D2E3FC;\n",
              "    }\n",
              "\n",
              "    [theme=dark] .colab-df-convert:hover {\n",
              "      background-color: #434B5C;\n",
              "      box-shadow: 0px 1px 3px 1px rgba(0, 0, 0, 0.15);\n",
              "      filter: drop-shadow(0px 1px 2px rgba(0, 0, 0, 0.3));\n",
              "      fill: #FFFFFF;\n",
              "    }\n",
              "  </style>\n",
              "\n",
              "      <script>\n",
              "        const buttonEl =\n",
              "          document.querySelector('#df-f9eb5aeb-b016-4a64-87be-9604ff7548a0 button.colab-df-convert');\n",
              "        buttonEl.style.display =\n",
              "          google.colab.kernel.accessAllowed ? 'block' : 'none';\n",
              "\n",
              "        async function convertToInteractive(key) {\n",
              "          const element = document.querySelector('#df-f9eb5aeb-b016-4a64-87be-9604ff7548a0');\n",
              "          const dataTable =\n",
              "            await google.colab.kernel.invokeFunction('convertToInteractive',\n",
              "                                                     [key], {});\n",
              "          if (!dataTable) return;\n",
              "\n",
              "          const docLinkHtml = 'Like what you see? Visit the ' +\n",
              "            '<a target=\"_blank\" href=https://colab.research.google.com/notebooks/data_table.ipynb>data table notebook</a>'\n",
              "            + ' to learn more about interactive tables.';\n",
              "          element.innerHTML = '';\n",
              "          dataTable['output_type'] = 'display_data';\n",
              "          await google.colab.output.renderOutput(dataTable, element);\n",
              "          const docLink = document.createElement('div');\n",
              "          docLink.innerHTML = docLinkHtml;\n",
              "          element.appendChild(docLink);\n",
              "        }\n",
              "      </script>\n",
              "    </div>\n",
              "  </div>\n",
              "  "
            ]
          },
          "metadata": {},
          "execution_count": 121
        }
      ],
      "source": [
        "model4.get_token_labels(text8, details = 'all', as_dict = False)"
      ]
    },
    {
      "cell_type": "code",
      "execution_count": null,
      "metadata": {
        "id": "f1ss1Jd1z_PS",
        "outputId": "aea897c9-b877-4a83-e0ff-a6b369aa4aaf",
        "colab": {
          "base_uri": "https://localhost:8080/"
        }
      },
      "outputs": [
        {
          "output_type": "execute_result",
          "data": {
            "text/plain": [
              "[{'word': 'भारताचे',\n",
              "  'entity_group': 'Location',\n",
              "  'score': 0.99053555727005,\n",
              "  'start': 0,\n",
              "  'end': 7},\n",
              " {'word': 'दुसरे',\n",
              "  'entity_group': 'Measure',\n",
              "  'score': 0.9928703904151917,\n",
              "  'start': 8,\n",
              "  'end': 13},\n",
              " {'word': 'राष्ट्रपती',\n",
              "  'entity_group': 'Designation',\n",
              "  'score': 0.872444212436676,\n",
              "  'start': 14,\n",
              "  'end': 28},\n",
              " {'word': 'डॉ.',\n",
              "  'entity_group': 'Designation',\n",
              "  'score': 0.872444212436676,\n",
              "  'start': 14,\n",
              "  'end': 28},\n",
              " {'word': 'सर्वपल्ली',\n",
              "  'entity_group': 'Person',\n",
              "  'score': 0.9267563223838806,\n",
              "  'start': 29,\n",
              "  'end': 49},\n",
              " {'word': 'राधाकृष्णन',\n",
              "  'entity_group': 'Person',\n",
              "  'score': 0.9267563223838806,\n",
              "  'start': 29,\n",
              "  'end': 49},\n",
              " {'word': 'यांचा',\n",
              "  'entity_group': 'Other',\n",
              "  'score': 0.9999501705169678,\n",
              "  'start': 50,\n",
              "  'end': 73},\n",
              " {'word': 'जन्मदिवस',\n",
              "  'entity_group': 'Other',\n",
              "  'score': 0.9999501705169678,\n",
              "  'start': 50,\n",
              "  'end': 73},\n",
              " {'word': 'म्हणजेच,',\n",
              "  'entity_group': 'Other',\n",
              "  'score': 0.9999501705169678,\n",
              "  'start': 50,\n",
              "  'end': 73},\n",
              " {'word': '५',\n",
              "  'entity_group': 'Date',\n",
              "  'score': 0.9996570944786072,\n",
              "  'start': 74,\n",
              "  'end': 84},\n",
              " {'word': 'सप्टेंबर',\n",
              "  'entity_group': 'Date',\n",
              "  'score': 0.9996570944786072,\n",
              "  'start': 74,\n",
              "  'end': 84},\n",
              " {'word': 'हा',\n",
              "  'entity_group': 'Other',\n",
              "  'score': 0.9999191761016846,\n",
              "  'start': 85,\n",
              "  'end': 130},\n",
              " {'word': 'दिवस',\n",
              "  'entity_group': 'Other',\n",
              "  'score': 0.9999191761016846,\n",
              "  'start': 85,\n",
              "  'end': 130},\n",
              " {'word': 'शिक्षक',\n",
              "  'entity_group': 'Other',\n",
              "  'score': 0.9999191761016846,\n",
              "  'start': 85,\n",
              "  'end': 130},\n",
              " {'word': 'दिन',\n",
              "  'entity_group': 'Other',\n",
              "  'score': 0.9999191761016846,\n",
              "  'start': 85,\n",
              "  'end': 130},\n",
              " {'word': 'म्हणून',\n",
              "  'entity_group': 'Other',\n",
              "  'score': 0.9999191761016846,\n",
              "  'start': 85,\n",
              "  'end': 130},\n",
              " {'word': 'साजरा',\n",
              "  'entity_group': 'Other',\n",
              "  'score': 0.9999191761016846,\n",
              "  'start': 85,\n",
              "  'end': 130},\n",
              " {'word': 'करण्यात',\n",
              "  'entity_group': 'Other',\n",
              "  'score': 0.9999191761016846,\n",
              "  'start': 85,\n",
              "  'end': 130},\n",
              " {'word': 'येतो.',\n",
              "  'entity_group': 'Other',\n",
              "  'score': 0.9999191761016846,\n",
              "  'start': 85,\n",
              "  'end': 130}]"
            ]
          },
          "metadata": {},
          "execution_count": 122
        }
      ],
      "source": [
        "model4.get_token_labels(text8, details = 'all', as_dict = 'True')\n",
        "# prints in dictionary form"
      ]
    },
    {
      "cell_type": "markdown",
      "metadata": {
        "id": "JXiRJnYJz_PT"
      },
      "source": [
        "#### **get_tokens:**"
      ]
    },
    {
      "cell_type": "code",
      "execution_count": null,
      "metadata": {
        "id": "Oh2dCEmiz_PT",
        "outputId": "cb5901de-6423-4c72-fa56-c67ea0ac5c64",
        "colab": {
          "base_uri": "https://localhost:8080/",
          "height": 36
        }
      },
      "outputs": [
        {
          "output_type": "execute_result",
          "data": {
            "text/plain": [
              "'Location Measure Designation Designation Person Person Other Other Other Date Date Other Other Other Other Other Other Other Other'"
            ],
            "application/vnd.google.colaboratory.intrinsic+json": {
              "type": "string"
            }
          },
          "metadata": {},
          "execution_count": 123
        }
      ],
      "source": [
        "# Example:\n",
        "\n",
        "model4.get_tokens(text8)"
      ]
    },
    {
      "cell_type": "markdown",
      "metadata": {
        "id": "Hc_eLdnFz_PT"
      },
      "source": [
        "***"
      ]
    },
    {
      "cell_type": "markdown",
      "metadata": {
        "id": "RcMuGamKz_PU"
      },
      "source": [
        "### **f. MaskFill:**"
      ]
    },
    {
      "cell_type": "markdown",
      "metadata": {
        "id": "pE0XUoKlz_PU"
      },
      "source": [
        "#### import"
      ]
    },
    {
      "cell_type": "code",
      "execution_count": null,
      "metadata": {
        "id": "2h6TFkfpz_PU"
      },
      "outputs": [],
      "source": [
        "from mahaNLP.mask_fill import MaskPredictor"
      ]
    },
    {
      "cell_type": "markdown",
      "metadata": {
        "id": "t97QkDKTz_PV"
      },
      "source": [
        "#### create an object"
      ]
    },
    {
      "cell_type": "code",
      "execution_count": null,
      "metadata": {
        "id": "YhZpYxcAz_PV"
      },
      "outputs": [],
      "source": [
        "model5 = MaskPredictor()"
      ]
    },
    {
      "cell_type": "markdown",
      "metadata": {
        "id": "KACA6EKMpN-m"
      },
      "source": [
        "### **Usage of maskFill:**\n",
        "It provides one functionality\n",
        "* **predict_mask:** Predicts the masked token"
      ]
    },
    {
      "cell_type": "code",
      "execution_count": null,
      "metadata": {
        "colab": {
          "base_uri": "https://localhost:8080/",
          "height": 206
        },
        "id": "4yRJFZHjsvzH",
        "outputId": "0be8373e-2ba7-4985-9163-cb0a507d592a"
      },
      "outputs": [
        {
          "output_type": "execute_result",
          "data": {
            "text/plain": [
              "  token_str                 sequence\n",
              "0       आहे     मी महाराष्ट्रात आहे.\n",
              "1    राहणार  मी महाराष्ट्रात राहणार.\n",
              "2      नाही    मी महाराष्ट्रात नाही.\n",
              "3       ##च        मी महाराष्ट्रातच.\n",
              "4     राहतो   मी महाराष्ट्रात राहतो."
            ],
            "text/html": [
              "\n",
              "  <div id=\"df-17d9e844-e581-4b66-88af-3ed59f0c645e\">\n",
              "    <div class=\"colab-df-container\">\n",
              "      <div>\n",
              "<style scoped>\n",
              "    .dataframe tbody tr th:only-of-type {\n",
              "        vertical-align: middle;\n",
              "    }\n",
              "\n",
              "    .dataframe tbody tr th {\n",
              "        vertical-align: top;\n",
              "    }\n",
              "\n",
              "    .dataframe thead th {\n",
              "        text-align: right;\n",
              "    }\n",
              "</style>\n",
              "<table border=\"1\" class=\"dataframe\">\n",
              "  <thead>\n",
              "    <tr style=\"text-align: right;\">\n",
              "      <th></th>\n",
              "      <th>token_str</th>\n",
              "      <th>sequence</th>\n",
              "    </tr>\n",
              "  </thead>\n",
              "  <tbody>\n",
              "    <tr>\n",
              "      <th>0</th>\n",
              "      <td>आहे</td>\n",
              "      <td>मी महाराष्ट्रात आहे.</td>\n",
              "    </tr>\n",
              "    <tr>\n",
              "      <th>1</th>\n",
              "      <td>राहणार</td>\n",
              "      <td>मी महाराष्ट्रात राहणार.</td>\n",
              "    </tr>\n",
              "    <tr>\n",
              "      <th>2</th>\n",
              "      <td>नाही</td>\n",
              "      <td>मी महाराष्ट्रात नाही.</td>\n",
              "    </tr>\n",
              "    <tr>\n",
              "      <th>3</th>\n",
              "      <td>##च</td>\n",
              "      <td>मी महाराष्ट्रातच.</td>\n",
              "    </tr>\n",
              "    <tr>\n",
              "      <th>4</th>\n",
              "      <td>राहतो</td>\n",
              "      <td>मी महाराष्ट्रात राहतो.</td>\n",
              "    </tr>\n",
              "  </tbody>\n",
              "</table>\n",
              "</div>\n",
              "      <button class=\"colab-df-convert\" onclick=\"convertToInteractive('df-17d9e844-e581-4b66-88af-3ed59f0c645e')\"\n",
              "              title=\"Convert this dataframe to an interactive table.\"\n",
              "              style=\"display:none;\">\n",
              "        \n",
              "  <svg xmlns=\"http://www.w3.org/2000/svg\" height=\"24px\"viewBox=\"0 0 24 24\"\n",
              "       width=\"24px\">\n",
              "    <path d=\"M0 0h24v24H0V0z\" fill=\"none\"/>\n",
              "    <path d=\"M18.56 5.44l.94 2.06.94-2.06 2.06-.94-2.06-.94-.94-2.06-.94 2.06-2.06.94zm-11 1L8.5 8.5l.94-2.06 2.06-.94-2.06-.94L8.5 2.5l-.94 2.06-2.06.94zm10 10l.94 2.06.94-2.06 2.06-.94-2.06-.94-.94-2.06-.94 2.06-2.06.94z\"/><path d=\"M17.41 7.96l-1.37-1.37c-.4-.4-.92-.59-1.43-.59-.52 0-1.04.2-1.43.59L10.3 9.45l-7.72 7.72c-.78.78-.78 2.05 0 2.83L4 21.41c.39.39.9.59 1.41.59.51 0 1.02-.2 1.41-.59l7.78-7.78 2.81-2.81c.8-.78.8-2.07 0-2.86zM5.41 20L4 18.59l7.72-7.72 1.47 1.35L5.41 20z\"/>\n",
              "  </svg>\n",
              "      </button>\n",
              "      \n",
              "  <style>\n",
              "    .colab-df-container {\n",
              "      display:flex;\n",
              "      flex-wrap:wrap;\n",
              "      gap: 12px;\n",
              "    }\n",
              "\n",
              "    .colab-df-convert {\n",
              "      background-color: #E8F0FE;\n",
              "      border: none;\n",
              "      border-radius: 50%;\n",
              "      cursor: pointer;\n",
              "      display: none;\n",
              "      fill: #1967D2;\n",
              "      height: 32px;\n",
              "      padding: 0 0 0 0;\n",
              "      width: 32px;\n",
              "    }\n",
              "\n",
              "    .colab-df-convert:hover {\n",
              "      background-color: #E2EBFA;\n",
              "      box-shadow: 0px 1px 2px rgba(60, 64, 67, 0.3), 0px 1px 3px 1px rgba(60, 64, 67, 0.15);\n",
              "      fill: #174EA6;\n",
              "    }\n",
              "\n",
              "    [theme=dark] .colab-df-convert {\n",
              "      background-color: #3B4455;\n",
              "      fill: #D2E3FC;\n",
              "    }\n",
              "\n",
              "    [theme=dark] .colab-df-convert:hover {\n",
              "      background-color: #434B5C;\n",
              "      box-shadow: 0px 1px 3px 1px rgba(0, 0, 0, 0.15);\n",
              "      filter: drop-shadow(0px 1px 2px rgba(0, 0, 0, 0.3));\n",
              "      fill: #FFFFFF;\n",
              "    }\n",
              "  </style>\n",
              "\n",
              "      <script>\n",
              "        const buttonEl =\n",
              "          document.querySelector('#df-17d9e844-e581-4b66-88af-3ed59f0c645e button.colab-df-convert');\n",
              "        buttonEl.style.display =\n",
              "          google.colab.kernel.accessAllowed ? 'block' : 'none';\n",
              "\n",
              "        async function convertToInteractive(key) {\n",
              "          const element = document.querySelector('#df-17d9e844-e581-4b66-88af-3ed59f0c645e');\n",
              "          const dataTable =\n",
              "            await google.colab.kernel.invokeFunction('convertToInteractive',\n",
              "                                                     [key], {});\n",
              "          if (!dataTable) return;\n",
              "\n",
              "          const docLinkHtml = 'Like what you see? Visit the ' +\n",
              "            '<a target=\"_blank\" href=https://colab.research.google.com/notebooks/data_table.ipynb>data table notebook</a>'\n",
              "            + ' to learn more about interactive tables.';\n",
              "          element.innerHTML = '';\n",
              "          dataTable['output_type'] = 'display_data';\n",
              "          await google.colab.output.renderOutput(dataTable, element);\n",
              "          const docLink = document.createElement('div');\n",
              "          docLink.innerHTML = docLinkHtml;\n",
              "          element.appendChild(docLink);\n",
              "        }\n",
              "      </script>\n",
              "    </div>\n",
              "  </div>\n",
              "  "
            ]
          },
          "metadata": {},
          "execution_count": 126
        }
      ],
      "source": [
        "# Example\n",
        "\n",
        "# pass the string with the word to be predicted replaced with '[MASK]'\n",
        "text9 = 'मी महाराष्ट्रात [MASK].'\n",
        "# English Translation:\n",
        "# 'I in Maharashtra [MASK]'\n",
        "\n",
        "model5.predict_mask(text9)"
      ]
    },
    {
      "cell_type": "markdown",
      "metadata": {
        "id": "aefqejbwq3qo"
      },
      "source": [
        "Optional Parameter(s):\n",
        "* **details** (minimum, medium, all) in string - Default: minimum\n",
        "  * Used to pass the detailedness to be considered\n",
        "* **as_dict** (True, False) in boolean - Default: False\n",
        "  * Used to define the print type"
      ]
    },
    {
      "cell_type": "code",
      "execution_count": null,
      "metadata": {
        "colab": {
          "base_uri": "https://localhost:8080/",
          "height": 206
        },
        "id": "NkQkLnW1q0ro",
        "outputId": "d4cf2647-5493-4307-bf3c-f70a64743fd8",
        "scrolled": true
      },
      "outputs": [
        {
          "output_type": "execute_result",
          "data": {
            "text/plain": [
              "  token_str     score                 sequence\n",
              "0       आहे  0.465601     मी महाराष्ट्रात आहे.\n",
              "1    राहणार  0.079690  मी महाराष्ट्रात राहणार.\n",
              "2      नाही  0.074001    मी महाराष्ट्रात नाही.\n",
              "3       ##च  0.050423        मी महाराष्ट्रातच.\n",
              "4     राहतो  0.043737   मी महाराष्ट्रात राहतो."
            ],
            "text/html": [
              "\n",
              "  <div id=\"df-bc5e38bf-b36e-4ffe-9817-8187bc23c69e\">\n",
              "    <div class=\"colab-df-container\">\n",
              "      <div>\n",
              "<style scoped>\n",
              "    .dataframe tbody tr th:only-of-type {\n",
              "        vertical-align: middle;\n",
              "    }\n",
              "\n",
              "    .dataframe tbody tr th {\n",
              "        vertical-align: top;\n",
              "    }\n",
              "\n",
              "    .dataframe thead th {\n",
              "        text-align: right;\n",
              "    }\n",
              "</style>\n",
              "<table border=\"1\" class=\"dataframe\">\n",
              "  <thead>\n",
              "    <tr style=\"text-align: right;\">\n",
              "      <th></th>\n",
              "      <th>token_str</th>\n",
              "      <th>score</th>\n",
              "      <th>sequence</th>\n",
              "    </tr>\n",
              "  </thead>\n",
              "  <tbody>\n",
              "    <tr>\n",
              "      <th>0</th>\n",
              "      <td>आहे</td>\n",
              "      <td>0.465601</td>\n",
              "      <td>मी महाराष्ट्रात आहे.</td>\n",
              "    </tr>\n",
              "    <tr>\n",
              "      <th>1</th>\n",
              "      <td>राहणार</td>\n",
              "      <td>0.079690</td>\n",
              "      <td>मी महाराष्ट्रात राहणार.</td>\n",
              "    </tr>\n",
              "    <tr>\n",
              "      <th>2</th>\n",
              "      <td>नाही</td>\n",
              "      <td>0.074001</td>\n",
              "      <td>मी महाराष्ट्रात नाही.</td>\n",
              "    </tr>\n",
              "    <tr>\n",
              "      <th>3</th>\n",
              "      <td>##च</td>\n",
              "      <td>0.050423</td>\n",
              "      <td>मी महाराष्ट्रातच.</td>\n",
              "    </tr>\n",
              "    <tr>\n",
              "      <th>4</th>\n",
              "      <td>राहतो</td>\n",
              "      <td>0.043737</td>\n",
              "      <td>मी महाराष्ट्रात राहतो.</td>\n",
              "    </tr>\n",
              "  </tbody>\n",
              "</table>\n",
              "</div>\n",
              "      <button class=\"colab-df-convert\" onclick=\"convertToInteractive('df-bc5e38bf-b36e-4ffe-9817-8187bc23c69e')\"\n",
              "              title=\"Convert this dataframe to an interactive table.\"\n",
              "              style=\"display:none;\">\n",
              "        \n",
              "  <svg xmlns=\"http://www.w3.org/2000/svg\" height=\"24px\"viewBox=\"0 0 24 24\"\n",
              "       width=\"24px\">\n",
              "    <path d=\"M0 0h24v24H0V0z\" fill=\"none\"/>\n",
              "    <path d=\"M18.56 5.44l.94 2.06.94-2.06 2.06-.94-2.06-.94-.94-2.06-.94 2.06-2.06.94zm-11 1L8.5 8.5l.94-2.06 2.06-.94-2.06-.94L8.5 2.5l-.94 2.06-2.06.94zm10 10l.94 2.06.94-2.06 2.06-.94-2.06-.94-.94-2.06-.94 2.06-2.06.94z\"/><path d=\"M17.41 7.96l-1.37-1.37c-.4-.4-.92-.59-1.43-.59-.52 0-1.04.2-1.43.59L10.3 9.45l-7.72 7.72c-.78.78-.78 2.05 0 2.83L4 21.41c.39.39.9.59 1.41.59.51 0 1.02-.2 1.41-.59l7.78-7.78 2.81-2.81c.8-.78.8-2.07 0-2.86zM5.41 20L4 18.59l7.72-7.72 1.47 1.35L5.41 20z\"/>\n",
              "  </svg>\n",
              "      </button>\n",
              "      \n",
              "  <style>\n",
              "    .colab-df-container {\n",
              "      display:flex;\n",
              "      flex-wrap:wrap;\n",
              "      gap: 12px;\n",
              "    }\n",
              "\n",
              "    .colab-df-convert {\n",
              "      background-color: #E8F0FE;\n",
              "      border: none;\n",
              "      border-radius: 50%;\n",
              "      cursor: pointer;\n",
              "      display: none;\n",
              "      fill: #1967D2;\n",
              "      height: 32px;\n",
              "      padding: 0 0 0 0;\n",
              "      width: 32px;\n",
              "    }\n",
              "\n",
              "    .colab-df-convert:hover {\n",
              "      background-color: #E2EBFA;\n",
              "      box-shadow: 0px 1px 2px rgba(60, 64, 67, 0.3), 0px 1px 3px 1px rgba(60, 64, 67, 0.15);\n",
              "      fill: #174EA6;\n",
              "    }\n",
              "\n",
              "    [theme=dark] .colab-df-convert {\n",
              "      background-color: #3B4455;\n",
              "      fill: #D2E3FC;\n",
              "    }\n",
              "\n",
              "    [theme=dark] .colab-df-convert:hover {\n",
              "      background-color: #434B5C;\n",
              "      box-shadow: 0px 1px 3px 1px rgba(0, 0, 0, 0.15);\n",
              "      filter: drop-shadow(0px 1px 2px rgba(0, 0, 0, 0.3));\n",
              "      fill: #FFFFFF;\n",
              "    }\n",
              "  </style>\n",
              "\n",
              "      <script>\n",
              "        const buttonEl =\n",
              "          document.querySelector('#df-bc5e38bf-b36e-4ffe-9817-8187bc23c69e button.colab-df-convert');\n",
              "        buttonEl.style.display =\n",
              "          google.colab.kernel.accessAllowed ? 'block' : 'none';\n",
              "\n",
              "        async function convertToInteractive(key) {\n",
              "          const element = document.querySelector('#df-bc5e38bf-b36e-4ffe-9817-8187bc23c69e');\n",
              "          const dataTable =\n",
              "            await google.colab.kernel.invokeFunction('convertToInteractive',\n",
              "                                                     [key], {});\n",
              "          if (!dataTable) return;\n",
              "\n",
              "          const docLinkHtml = 'Like what you see? Visit the ' +\n",
              "            '<a target=\"_blank\" href=https://colab.research.google.com/notebooks/data_table.ipynb>data table notebook</a>'\n",
              "            + ' to learn more about interactive tables.';\n",
              "          element.innerHTML = '';\n",
              "          dataTable['output_type'] = 'display_data';\n",
              "          await google.colab.output.renderOutput(dataTable, element);\n",
              "          const docLink = document.createElement('div');\n",
              "          docLink.innerHTML = docLinkHtml;\n",
              "          element.appendChild(docLink);\n",
              "        }\n",
              "      </script>\n",
              "    </div>\n",
              "  </div>\n",
              "  "
            ]
          },
          "metadata": {},
          "execution_count": 127
        }
      ],
      "source": [
        "model5.predict_mask(text9, details = 'medium', as_dict = False)"
      ]
    },
    {
      "cell_type": "code",
      "execution_count": null,
      "metadata": {
        "colab": {
          "base_uri": "https://localhost:8080/",
          "height": 206
        },
        "id": "40zDLnoPsLzE",
        "outputId": "782c3c1f-6c82-4476-86cf-ef4d03420707"
      },
      "outputs": [
        {
          "output_type": "execute_result",
          "data": {
            "text/plain": [
              "      score  token token_str                 sequence\n",
              "0  0.465601   1155       आहे     मी महाराष्ट्रात आहे.\n",
              "1  0.079690  92222    राहणार  मी महाराष्ट्रात राहणार.\n",
              "2  0.074001   1826      नाही    मी महाराष्ट्रात नाही.\n",
              "3  0.050423   1617       ##च        मी महाराष्ट्रातच.\n",
              "4  0.043737  62560     राहतो   मी महाराष्ट्रात राहतो."
            ],
            "text/html": [
              "\n",
              "  <div id=\"df-9e2c7ce3-a665-4b43-82ad-ea9fdcec17a6\">\n",
              "    <div class=\"colab-df-container\">\n",
              "      <div>\n",
              "<style scoped>\n",
              "    .dataframe tbody tr th:only-of-type {\n",
              "        vertical-align: middle;\n",
              "    }\n",
              "\n",
              "    .dataframe tbody tr th {\n",
              "        vertical-align: top;\n",
              "    }\n",
              "\n",
              "    .dataframe thead th {\n",
              "        text-align: right;\n",
              "    }\n",
              "</style>\n",
              "<table border=\"1\" class=\"dataframe\">\n",
              "  <thead>\n",
              "    <tr style=\"text-align: right;\">\n",
              "      <th></th>\n",
              "      <th>score</th>\n",
              "      <th>token</th>\n",
              "      <th>token_str</th>\n",
              "      <th>sequence</th>\n",
              "    </tr>\n",
              "  </thead>\n",
              "  <tbody>\n",
              "    <tr>\n",
              "      <th>0</th>\n",
              "      <td>0.465601</td>\n",
              "      <td>1155</td>\n",
              "      <td>आहे</td>\n",
              "      <td>मी महाराष्ट्रात आहे.</td>\n",
              "    </tr>\n",
              "    <tr>\n",
              "      <th>1</th>\n",
              "      <td>0.079690</td>\n",
              "      <td>92222</td>\n",
              "      <td>राहणार</td>\n",
              "      <td>मी महाराष्ट्रात राहणार.</td>\n",
              "    </tr>\n",
              "    <tr>\n",
              "      <th>2</th>\n",
              "      <td>0.074001</td>\n",
              "      <td>1826</td>\n",
              "      <td>नाही</td>\n",
              "      <td>मी महाराष्ट्रात नाही.</td>\n",
              "    </tr>\n",
              "    <tr>\n",
              "      <th>3</th>\n",
              "      <td>0.050423</td>\n",
              "      <td>1617</td>\n",
              "      <td>##च</td>\n",
              "      <td>मी महाराष्ट्रातच.</td>\n",
              "    </tr>\n",
              "    <tr>\n",
              "      <th>4</th>\n",
              "      <td>0.043737</td>\n",
              "      <td>62560</td>\n",
              "      <td>राहतो</td>\n",
              "      <td>मी महाराष्ट्रात राहतो.</td>\n",
              "    </tr>\n",
              "  </tbody>\n",
              "</table>\n",
              "</div>\n",
              "      <button class=\"colab-df-convert\" onclick=\"convertToInteractive('df-9e2c7ce3-a665-4b43-82ad-ea9fdcec17a6')\"\n",
              "              title=\"Convert this dataframe to an interactive table.\"\n",
              "              style=\"display:none;\">\n",
              "        \n",
              "  <svg xmlns=\"http://www.w3.org/2000/svg\" height=\"24px\"viewBox=\"0 0 24 24\"\n",
              "       width=\"24px\">\n",
              "    <path d=\"M0 0h24v24H0V0z\" fill=\"none\"/>\n",
              "    <path d=\"M18.56 5.44l.94 2.06.94-2.06 2.06-.94-2.06-.94-.94-2.06-.94 2.06-2.06.94zm-11 1L8.5 8.5l.94-2.06 2.06-.94-2.06-.94L8.5 2.5l-.94 2.06-2.06.94zm10 10l.94 2.06.94-2.06 2.06-.94-2.06-.94-.94-2.06-.94 2.06-2.06.94z\"/><path d=\"M17.41 7.96l-1.37-1.37c-.4-.4-.92-.59-1.43-.59-.52 0-1.04.2-1.43.59L10.3 9.45l-7.72 7.72c-.78.78-.78 2.05 0 2.83L4 21.41c.39.39.9.59 1.41.59.51 0 1.02-.2 1.41-.59l7.78-7.78 2.81-2.81c.8-.78.8-2.07 0-2.86zM5.41 20L4 18.59l7.72-7.72 1.47 1.35L5.41 20z\"/>\n",
              "  </svg>\n",
              "      </button>\n",
              "      \n",
              "  <style>\n",
              "    .colab-df-container {\n",
              "      display:flex;\n",
              "      flex-wrap:wrap;\n",
              "      gap: 12px;\n",
              "    }\n",
              "\n",
              "    .colab-df-convert {\n",
              "      background-color: #E8F0FE;\n",
              "      border: none;\n",
              "      border-radius: 50%;\n",
              "      cursor: pointer;\n",
              "      display: none;\n",
              "      fill: #1967D2;\n",
              "      height: 32px;\n",
              "      padding: 0 0 0 0;\n",
              "      width: 32px;\n",
              "    }\n",
              "\n",
              "    .colab-df-convert:hover {\n",
              "      background-color: #E2EBFA;\n",
              "      box-shadow: 0px 1px 2px rgba(60, 64, 67, 0.3), 0px 1px 3px 1px rgba(60, 64, 67, 0.15);\n",
              "      fill: #174EA6;\n",
              "    }\n",
              "\n",
              "    [theme=dark] .colab-df-convert {\n",
              "      background-color: #3B4455;\n",
              "      fill: #D2E3FC;\n",
              "    }\n",
              "\n",
              "    [theme=dark] .colab-df-convert:hover {\n",
              "      background-color: #434B5C;\n",
              "      box-shadow: 0px 1px 3px 1px rgba(0, 0, 0, 0.15);\n",
              "      filter: drop-shadow(0px 1px 2px rgba(0, 0, 0, 0.3));\n",
              "      fill: #FFFFFF;\n",
              "    }\n",
              "  </style>\n",
              "\n",
              "      <script>\n",
              "        const buttonEl =\n",
              "          document.querySelector('#df-9e2c7ce3-a665-4b43-82ad-ea9fdcec17a6 button.colab-df-convert');\n",
              "        buttonEl.style.display =\n",
              "          google.colab.kernel.accessAllowed ? 'block' : 'none';\n",
              "\n",
              "        async function convertToInteractive(key) {\n",
              "          const element = document.querySelector('#df-9e2c7ce3-a665-4b43-82ad-ea9fdcec17a6');\n",
              "          const dataTable =\n",
              "            await google.colab.kernel.invokeFunction('convertToInteractive',\n",
              "                                                     [key], {});\n",
              "          if (!dataTable) return;\n",
              "\n",
              "          const docLinkHtml = 'Like what you see? Visit the ' +\n",
              "            '<a target=\"_blank\" href=https://colab.research.google.com/notebooks/data_table.ipynb>data table notebook</a>'\n",
              "            + ' to learn more about interactive tables.';\n",
              "          element.innerHTML = '';\n",
              "          dataTable['output_type'] = 'display_data';\n",
              "          await google.colab.output.renderOutput(dataTable, element);\n",
              "          const docLink = document.createElement('div');\n",
              "          docLink.innerHTML = docLinkHtml;\n",
              "          element.appendChild(docLink);\n",
              "        }\n",
              "      </script>\n",
              "    </div>\n",
              "  </div>\n",
              "  "
            ]
          },
          "metadata": {},
          "execution_count": 128
        }
      ],
      "source": [
        "model5.predict_mask(text9, 'all', False)"
      ]
    },
    {
      "cell_type": "code",
      "execution_count": null,
      "metadata": {
        "colab": {
          "base_uri": "https://localhost:8080/"
        },
        "id": "TDHKbNqXsPMt",
        "outputId": "f27d9aed-49de-40be-8150-ffa4d741ae64"
      },
      "outputs": [
        {
          "output_type": "execute_result",
          "data": {
            "text/plain": [
              "[{'score': 0.46560075879096985,\n",
              "  'token': 1155,\n",
              "  'token_str': 'आहे',\n",
              "  'sequence': 'मी महाराष्ट्रात आहे.'},\n",
              " {'score': 0.07969045639038086,\n",
              "  'token': 92222,\n",
              "  'token_str': 'राहणार',\n",
              "  'sequence': 'मी महाराष्ट्रात राहणार.'},\n",
              " {'score': 0.07400081306695938,\n",
              "  'token': 1826,\n",
              "  'token_str': 'नाही',\n",
              "  'sequence': 'मी महाराष्ट्रात नाही.'},\n",
              " {'score': 0.050422605127096176,\n",
              "  'token': 1617,\n",
              "  'token_str': '##च',\n",
              "  'sequence': 'मी महाराष्ट्रातच.'},\n",
              " {'score': 0.04373728483915329,\n",
              "  'token': 62560,\n",
              "  'token_str': 'राहतो',\n",
              "  'sequence': 'मी महाराष्ट्रात राहतो.'}]"
            ]
          },
          "metadata": {},
          "execution_count": 129
        }
      ],
      "source": [
        "# Print as dictionary\n",
        "model5.predict_mask(text9, 'all', True)"
      ]
    },
    {
      "cell_type": "markdown",
      "metadata": {
        "id": "7mjdCPc_z_PX"
      },
      "source": [
        "***"
      ]
    },
    {
      "cell_type": "markdown",
      "metadata": {
        "id": "1092RW2xz_PY"
      },
      "source": [
        "### **g. Hate**"
      ]
    },
    {
      "cell_type": "markdown",
      "metadata": {
        "id": "hhLfSDZPz_PY"
      },
      "source": [
        "#### import"
      ]
    },
    {
      "cell_type": "code",
      "source": [
        "from mahaNLP.hate import HateAnalyzer"
      ],
      "metadata": {
        "id": "ImXv1iJeR1YK"
      },
      "execution_count": null,
      "outputs": []
    },
    {
      "cell_type": "markdown",
      "metadata": {
        "id": "atTB-EaUz_PY"
      },
      "source": [
        "#### create an object"
      ]
    },
    {
      "cell_type": "code",
      "execution_count": null,
      "metadata": {
        "id": "LAE1xs97z_PY"
      },
      "outputs": [],
      "source": [
        "model6 = HateAnalyzer()"
      ]
    },
    {
      "cell_type": "code",
      "execution_count": null,
      "metadata": {
        "id": "Ci2eGkKtz_PZ",
        "outputId": "110c357e-8310-4598-a2af-50c2822af939",
        "colab": {
          "base_uri": "https://localhost:8080/"
        }
      },
      "outputs": [
        {
          "output_type": "stream",
          "name": "stdout",
          "text": [
            "Supported labels: \n",
            "\t hate -> 1\n",
            "\t non-hate -> 0\n",
            "\n"
          ]
        }
      ],
      "source": [
        "# list the labels supported\n",
        "model6.list_supported_labels()"
      ]
    },
    {
      "cell_type": "markdown",
      "metadata": {
        "id": "7Mv5FkjEz_PZ"
      },
      "source": [
        "### **Usage of hate:**\n",
        "It provides one functionality\n",
        "* **get_hate_score:** Gives the hate score of a sentence. It gives the scores as hate (1) and non-hate (0)"
      ]
    },
    {
      "cell_type": "code",
      "execution_count": null,
      "metadata": {
        "colab": {
          "base_uri": "https://localhost:8080/",
          "height": 81
        },
        "id": "9i6eVgjRZLtd",
        "outputId": "2f8c48fd-7dab-441b-e1bc-4ec98130019d"
      },
      "outputs": [
        {
          "output_type": "execute_result",
          "data": {
            "text/plain": [
              "  label     score\n",
              "0  hate  0.966924"
            ],
            "text/html": [
              "\n",
              "  <div id=\"df-af2fe493-d756-44ab-9fe5-775fe1a1d473\">\n",
              "    <div class=\"colab-df-container\">\n",
              "      <div>\n",
              "<style scoped>\n",
              "    .dataframe tbody tr th:only-of-type {\n",
              "        vertical-align: middle;\n",
              "    }\n",
              "\n",
              "    .dataframe tbody tr th {\n",
              "        vertical-align: top;\n",
              "    }\n",
              "\n",
              "    .dataframe thead th {\n",
              "        text-align: right;\n",
              "    }\n",
              "</style>\n",
              "<table border=\"1\" class=\"dataframe\">\n",
              "  <thead>\n",
              "    <tr style=\"text-align: right;\">\n",
              "      <th></th>\n",
              "      <th>label</th>\n",
              "      <th>score</th>\n",
              "    </tr>\n",
              "  </thead>\n",
              "  <tbody>\n",
              "    <tr>\n",
              "      <th>0</th>\n",
              "      <td>hate</td>\n",
              "      <td>0.966924</td>\n",
              "    </tr>\n",
              "  </tbody>\n",
              "</table>\n",
              "</div>\n",
              "      <button class=\"colab-df-convert\" onclick=\"convertToInteractive('df-af2fe493-d756-44ab-9fe5-775fe1a1d473')\"\n",
              "              title=\"Convert this dataframe to an interactive table.\"\n",
              "              style=\"display:none;\">\n",
              "        \n",
              "  <svg xmlns=\"http://www.w3.org/2000/svg\" height=\"24px\"viewBox=\"0 0 24 24\"\n",
              "       width=\"24px\">\n",
              "    <path d=\"M0 0h24v24H0V0z\" fill=\"none\"/>\n",
              "    <path d=\"M18.56 5.44l.94 2.06.94-2.06 2.06-.94-2.06-.94-.94-2.06-.94 2.06-2.06.94zm-11 1L8.5 8.5l.94-2.06 2.06-.94-2.06-.94L8.5 2.5l-.94 2.06-2.06.94zm10 10l.94 2.06.94-2.06 2.06-.94-2.06-.94-.94-2.06-.94 2.06-2.06.94z\"/><path d=\"M17.41 7.96l-1.37-1.37c-.4-.4-.92-.59-1.43-.59-.52 0-1.04.2-1.43.59L10.3 9.45l-7.72 7.72c-.78.78-.78 2.05 0 2.83L4 21.41c.39.39.9.59 1.41.59.51 0 1.02-.2 1.41-.59l7.78-7.78 2.81-2.81c.8-.78.8-2.07 0-2.86zM5.41 20L4 18.59l7.72-7.72 1.47 1.35L5.41 20z\"/>\n",
              "  </svg>\n",
              "      </button>\n",
              "      \n",
              "  <style>\n",
              "    .colab-df-container {\n",
              "      display:flex;\n",
              "      flex-wrap:wrap;\n",
              "      gap: 12px;\n",
              "    }\n",
              "\n",
              "    .colab-df-convert {\n",
              "      background-color: #E8F0FE;\n",
              "      border: none;\n",
              "      border-radius: 50%;\n",
              "      cursor: pointer;\n",
              "      display: none;\n",
              "      fill: #1967D2;\n",
              "      height: 32px;\n",
              "      padding: 0 0 0 0;\n",
              "      width: 32px;\n",
              "    }\n",
              "\n",
              "    .colab-df-convert:hover {\n",
              "      background-color: #E2EBFA;\n",
              "      box-shadow: 0px 1px 2px rgba(60, 64, 67, 0.3), 0px 1px 3px 1px rgba(60, 64, 67, 0.15);\n",
              "      fill: #174EA6;\n",
              "    }\n",
              "\n",
              "    [theme=dark] .colab-df-convert {\n",
              "      background-color: #3B4455;\n",
              "      fill: #D2E3FC;\n",
              "    }\n",
              "\n",
              "    [theme=dark] .colab-df-convert:hover {\n",
              "      background-color: #434B5C;\n",
              "      box-shadow: 0px 1px 3px 1px rgba(0, 0, 0, 0.15);\n",
              "      filter: drop-shadow(0px 1px 2px rgba(0, 0, 0, 0.3));\n",
              "      fill: #FFFFFF;\n",
              "    }\n",
              "  </style>\n",
              "\n",
              "      <script>\n",
              "        const buttonEl =\n",
              "          document.querySelector('#df-af2fe493-d756-44ab-9fe5-775fe1a1d473 button.colab-df-convert');\n",
              "        buttonEl.style.display =\n",
              "          google.colab.kernel.accessAllowed ? 'block' : 'none';\n",
              "\n",
              "        async function convertToInteractive(key) {\n",
              "          const element = document.querySelector('#df-af2fe493-d756-44ab-9fe5-775fe1a1d473');\n",
              "          const dataTable =\n",
              "            await google.colab.kernel.invokeFunction('convertToInteractive',\n",
              "                                                     [key], {});\n",
              "          if (!dataTable) return;\n",
              "\n",
              "          const docLinkHtml = 'Like what you see? Visit the ' +\n",
              "            '<a target=\"_blank\" href=https://colab.research.google.com/notebooks/data_table.ipynb>data table notebook</a>'\n",
              "            + ' to learn more about interactive tables.';\n",
              "          element.innerHTML = '';\n",
              "          dataTable['output_type'] = 'display_data';\n",
              "          await google.colab.output.renderOutput(dataTable, element);\n",
              "          const docLink = document.createElement('div');\n",
              "          docLink.innerHTML = docLinkHtml;\n",
              "          element.appendChild(docLink);\n",
              "        }\n",
              "      </script>\n",
              "    </div>\n",
              "  </div>\n",
              "  "
            ]
          },
          "metadata": {},
          "execution_count": 133
        }
      ],
      "source": [
        "# Example:\n",
        "\n",
        "text10 = 'ती मूर्ख आहे. मला ती आवडत नाही.'\n",
        "# English Translation:\n",
        "# 'She is stupid. I don't like her.'\n",
        "\n",
        "model6.get_hate_score(text10)"
      ]
    },
    {
      "cell_type": "code",
      "execution_count": null,
      "metadata": {
        "colab": {
          "base_uri": "https://localhost:8080/",
          "height": 81
        },
        "id": "IXByNO3aZwB7",
        "outputId": "4045e07f-dc9b-4178-fa20-67f2997e6de5"
      },
      "outputs": [
        {
          "output_type": "execute_result",
          "data": {
            "text/plain": [
              "      label     score\n",
              "0  non-hate  0.999377"
            ],
            "text/html": [
              "\n",
              "  <div id=\"df-16925e4c-fa10-4c2e-9c6e-d216b22fa9dd\">\n",
              "    <div class=\"colab-df-container\">\n",
              "      <div>\n",
              "<style scoped>\n",
              "    .dataframe tbody tr th:only-of-type {\n",
              "        vertical-align: middle;\n",
              "    }\n",
              "\n",
              "    .dataframe tbody tr th {\n",
              "        vertical-align: top;\n",
              "    }\n",
              "\n",
              "    .dataframe thead th {\n",
              "        text-align: right;\n",
              "    }\n",
              "</style>\n",
              "<table border=\"1\" class=\"dataframe\">\n",
              "  <thead>\n",
              "    <tr style=\"text-align: right;\">\n",
              "      <th></th>\n",
              "      <th>label</th>\n",
              "      <th>score</th>\n",
              "    </tr>\n",
              "  </thead>\n",
              "  <tbody>\n",
              "    <tr>\n",
              "      <th>0</th>\n",
              "      <td>non-hate</td>\n",
              "      <td>0.999377</td>\n",
              "    </tr>\n",
              "  </tbody>\n",
              "</table>\n",
              "</div>\n",
              "      <button class=\"colab-df-convert\" onclick=\"convertToInteractive('df-16925e4c-fa10-4c2e-9c6e-d216b22fa9dd')\"\n",
              "              title=\"Convert this dataframe to an interactive table.\"\n",
              "              style=\"display:none;\">\n",
              "        \n",
              "  <svg xmlns=\"http://www.w3.org/2000/svg\" height=\"24px\"viewBox=\"0 0 24 24\"\n",
              "       width=\"24px\">\n",
              "    <path d=\"M0 0h24v24H0V0z\" fill=\"none\"/>\n",
              "    <path d=\"M18.56 5.44l.94 2.06.94-2.06 2.06-.94-2.06-.94-.94-2.06-.94 2.06-2.06.94zm-11 1L8.5 8.5l.94-2.06 2.06-.94-2.06-.94L8.5 2.5l-.94 2.06-2.06.94zm10 10l.94 2.06.94-2.06 2.06-.94-2.06-.94-.94-2.06-.94 2.06-2.06.94z\"/><path d=\"M17.41 7.96l-1.37-1.37c-.4-.4-.92-.59-1.43-.59-.52 0-1.04.2-1.43.59L10.3 9.45l-7.72 7.72c-.78.78-.78 2.05 0 2.83L4 21.41c.39.39.9.59 1.41.59.51 0 1.02-.2 1.41-.59l7.78-7.78 2.81-2.81c.8-.78.8-2.07 0-2.86zM5.41 20L4 18.59l7.72-7.72 1.47 1.35L5.41 20z\"/>\n",
              "  </svg>\n",
              "      </button>\n",
              "      \n",
              "  <style>\n",
              "    .colab-df-container {\n",
              "      display:flex;\n",
              "      flex-wrap:wrap;\n",
              "      gap: 12px;\n",
              "    }\n",
              "\n",
              "    .colab-df-convert {\n",
              "      background-color: #E8F0FE;\n",
              "      border: none;\n",
              "      border-radius: 50%;\n",
              "      cursor: pointer;\n",
              "      display: none;\n",
              "      fill: #1967D2;\n",
              "      height: 32px;\n",
              "      padding: 0 0 0 0;\n",
              "      width: 32px;\n",
              "    }\n",
              "\n",
              "    .colab-df-convert:hover {\n",
              "      background-color: #E2EBFA;\n",
              "      box-shadow: 0px 1px 2px rgba(60, 64, 67, 0.3), 0px 1px 3px 1px rgba(60, 64, 67, 0.15);\n",
              "      fill: #174EA6;\n",
              "    }\n",
              "\n",
              "    [theme=dark] .colab-df-convert {\n",
              "      background-color: #3B4455;\n",
              "      fill: #D2E3FC;\n",
              "    }\n",
              "\n",
              "    [theme=dark] .colab-df-convert:hover {\n",
              "      background-color: #434B5C;\n",
              "      box-shadow: 0px 1px 3px 1px rgba(0, 0, 0, 0.15);\n",
              "      filter: drop-shadow(0px 1px 2px rgba(0, 0, 0, 0.3));\n",
              "      fill: #FFFFFF;\n",
              "    }\n",
              "  </style>\n",
              "\n",
              "      <script>\n",
              "        const buttonEl =\n",
              "          document.querySelector('#df-16925e4c-fa10-4c2e-9c6e-d216b22fa9dd button.colab-df-convert');\n",
              "        buttonEl.style.display =\n",
              "          google.colab.kernel.accessAllowed ? 'block' : 'none';\n",
              "\n",
              "        async function convertToInteractive(key) {\n",
              "          const element = document.querySelector('#df-16925e4c-fa10-4c2e-9c6e-d216b22fa9dd');\n",
              "          const dataTable =\n",
              "            await google.colab.kernel.invokeFunction('convertToInteractive',\n",
              "                                                     [key], {});\n",
              "          if (!dataTable) return;\n",
              "\n",
              "          const docLinkHtml = 'Like what you see? Visit the ' +\n",
              "            '<a target=\"_blank\" href=https://colab.research.google.com/notebooks/data_table.ipynb>data table notebook</a>'\n",
              "            + ' to learn more about interactive tables.';\n",
              "          element.innerHTML = '';\n",
              "          dataTable['output_type'] = 'display_data';\n",
              "          await google.colab.output.renderOutput(dataTable, element);\n",
              "          const docLink = document.createElement('div');\n",
              "          docLink.innerHTML = docLinkHtml;\n",
              "          element.appendChild(docLink);\n",
              "        }\n",
              "      </script>\n",
              "    </div>\n",
              "  </div>\n",
              "  "
            ]
          },
          "metadata": {},
          "execution_count": 134
        }
      ],
      "source": [
        "# Example:\n",
        "\n",
        "text11 = 'मला तुझे खूप कौतुक वाटते.'\n",
        "# English Translation:\n",
        "# 'I appreciate you so much.'\n",
        "\n",
        "model6.get_hate_score(text11)"
      ]
    },
    {
      "cell_type": "markdown",
      "metadata": {
        "id": "j33AaOMzz_Pc"
      },
      "source": [
        "***"
      ]
    },
    {
      "cell_type": "markdown",
      "metadata": {
        "id": "SdjAS1zXz_Pd"
      },
      "source": [
        "### **h. Sentiment**"
      ]
    },
    {
      "cell_type": "markdown",
      "metadata": {
        "id": "3f_SN20_z_Pd"
      },
      "source": [
        "#### import"
      ]
    },
    {
      "cell_type": "code",
      "execution_count": null,
      "metadata": {
        "id": "gYPoSX9zz_Pd"
      },
      "outputs": [],
      "source": [
        "from mahaNLP.sentiment import SentimentAnalyzer"
      ]
    },
    {
      "cell_type": "markdown",
      "metadata": {
        "id": "diLkeHtJz_Pe"
      },
      "source": [
        "#### create an object"
      ]
    },
    {
      "cell_type": "code",
      "execution_count": null,
      "metadata": {
        "id": "om7upVW9z_Pe"
      },
      "outputs": [],
      "source": [
        "model7 = SentimentAnalyzer()"
      ]
    },
    {
      "cell_type": "code",
      "execution_count": null,
      "metadata": {
        "id": "VwGkCtn1z_Pe",
        "outputId": "98b620ce-4684-48b6-819c-2087a8245231",
        "colab": {
          "base_uri": "https://localhost:8080/"
        }
      },
      "outputs": [
        {
          "output_type": "stream",
          "name": "stdout",
          "text": [
            "Supported labels: \n",
            " -Positive\n",
            " -Negative\n",
            " -Neutral\n",
            "\n"
          ]
        }
      ],
      "source": [
        "# list the lables supported\n",
        "model7.list_supported_labels()"
      ]
    },
    {
      "cell_type": "markdown",
      "metadata": {
        "id": "xebkrEo_99s9"
      },
      "source": [
        "### **Usage of sentiment:**\n",
        "It provides one functionality\n",
        "* **get_polarity_score:** Gives the polarity score of words in a sentence along with the tokens (Neutral, Positive, Negative)"
      ]
    },
    {
      "cell_type": "code",
      "execution_count": null,
      "metadata": {
        "colab": {
          "base_uri": "https://localhost:8080/",
          "height": 81
        },
        "id": "yTSsgjCqiIAa",
        "outputId": "f8d8794a-9338-4e22-bd23-e4ae19da4515"
      },
      "outputs": [
        {
          "output_type": "execute_result",
          "data": {
            "text/plain": [
              "      label     score\n",
              "0  Positive  0.995338"
            ],
            "text/html": [
              "\n",
              "  <div id=\"df-07e06a00-f904-4639-94ee-18226f08e8e9\">\n",
              "    <div class=\"colab-df-container\">\n",
              "      <div>\n",
              "<style scoped>\n",
              "    .dataframe tbody tr th:only-of-type {\n",
              "        vertical-align: middle;\n",
              "    }\n",
              "\n",
              "    .dataframe tbody tr th {\n",
              "        vertical-align: top;\n",
              "    }\n",
              "\n",
              "    .dataframe thead th {\n",
              "        text-align: right;\n",
              "    }\n",
              "</style>\n",
              "<table border=\"1\" class=\"dataframe\">\n",
              "  <thead>\n",
              "    <tr style=\"text-align: right;\">\n",
              "      <th></th>\n",
              "      <th>label</th>\n",
              "      <th>score</th>\n",
              "    </tr>\n",
              "  </thead>\n",
              "  <tbody>\n",
              "    <tr>\n",
              "      <th>0</th>\n",
              "      <td>Positive</td>\n",
              "      <td>0.995338</td>\n",
              "    </tr>\n",
              "  </tbody>\n",
              "</table>\n",
              "</div>\n",
              "      <button class=\"colab-df-convert\" onclick=\"convertToInteractive('df-07e06a00-f904-4639-94ee-18226f08e8e9')\"\n",
              "              title=\"Convert this dataframe to an interactive table.\"\n",
              "              style=\"display:none;\">\n",
              "        \n",
              "  <svg xmlns=\"http://www.w3.org/2000/svg\" height=\"24px\"viewBox=\"0 0 24 24\"\n",
              "       width=\"24px\">\n",
              "    <path d=\"M0 0h24v24H0V0z\" fill=\"none\"/>\n",
              "    <path d=\"M18.56 5.44l.94 2.06.94-2.06 2.06-.94-2.06-.94-.94-2.06-.94 2.06-2.06.94zm-11 1L8.5 8.5l.94-2.06 2.06-.94-2.06-.94L8.5 2.5l-.94 2.06-2.06.94zm10 10l.94 2.06.94-2.06 2.06-.94-2.06-.94-.94-2.06-.94 2.06-2.06.94z\"/><path d=\"M17.41 7.96l-1.37-1.37c-.4-.4-.92-.59-1.43-.59-.52 0-1.04.2-1.43.59L10.3 9.45l-7.72 7.72c-.78.78-.78 2.05 0 2.83L4 21.41c.39.39.9.59 1.41.59.51 0 1.02-.2 1.41-.59l7.78-7.78 2.81-2.81c.8-.78.8-2.07 0-2.86zM5.41 20L4 18.59l7.72-7.72 1.47 1.35L5.41 20z\"/>\n",
              "  </svg>\n",
              "      </button>\n",
              "      \n",
              "  <style>\n",
              "    .colab-df-container {\n",
              "      display:flex;\n",
              "      flex-wrap:wrap;\n",
              "      gap: 12px;\n",
              "    }\n",
              "\n",
              "    .colab-df-convert {\n",
              "      background-color: #E8F0FE;\n",
              "      border: none;\n",
              "      border-radius: 50%;\n",
              "      cursor: pointer;\n",
              "      display: none;\n",
              "      fill: #1967D2;\n",
              "      height: 32px;\n",
              "      padding: 0 0 0 0;\n",
              "      width: 32px;\n",
              "    }\n",
              "\n",
              "    .colab-df-convert:hover {\n",
              "      background-color: #E2EBFA;\n",
              "      box-shadow: 0px 1px 2px rgba(60, 64, 67, 0.3), 0px 1px 3px 1px rgba(60, 64, 67, 0.15);\n",
              "      fill: #174EA6;\n",
              "    }\n",
              "\n",
              "    [theme=dark] .colab-df-convert {\n",
              "      background-color: #3B4455;\n",
              "      fill: #D2E3FC;\n",
              "    }\n",
              "\n",
              "    [theme=dark] .colab-df-convert:hover {\n",
              "      background-color: #434B5C;\n",
              "      box-shadow: 0px 1px 3px 1px rgba(0, 0, 0, 0.15);\n",
              "      filter: drop-shadow(0px 1px 2px rgba(0, 0, 0, 0.3));\n",
              "      fill: #FFFFFF;\n",
              "    }\n",
              "  </style>\n",
              "\n",
              "      <script>\n",
              "        const buttonEl =\n",
              "          document.querySelector('#df-07e06a00-f904-4639-94ee-18226f08e8e9 button.colab-df-convert');\n",
              "        buttonEl.style.display =\n",
              "          google.colab.kernel.accessAllowed ? 'block' : 'none';\n",
              "\n",
              "        async function convertToInteractive(key) {\n",
              "          const element = document.querySelector('#df-07e06a00-f904-4639-94ee-18226f08e8e9');\n",
              "          const dataTable =\n",
              "            await google.colab.kernel.invokeFunction('convertToInteractive',\n",
              "                                                     [key], {});\n",
              "          if (!dataTable) return;\n",
              "\n",
              "          const docLinkHtml = 'Like what you see? Visit the ' +\n",
              "            '<a target=\"_blank\" href=https://colab.research.google.com/notebooks/data_table.ipynb>data table notebook</a>'\n",
              "            + ' to learn more about interactive tables.';\n",
              "          element.innerHTML = '';\n",
              "          dataTable['output_type'] = 'display_data';\n",
              "          await google.colab.output.renderOutput(dataTable, element);\n",
              "          const docLink = document.createElement('div');\n",
              "          docLink.innerHTML = docLinkHtml;\n",
              "          element.appendChild(docLink);\n",
              "        }\n",
              "      </script>\n",
              "    </div>\n",
              "  </div>\n",
              "  "
            ]
          },
          "metadata": {},
          "execution_count": 138
        }
      ],
      "source": [
        "# Example:\n",
        "\n",
        "text12 = 'दिवाळीच्या सणादरम्यान सगळे आनंदी असतात.'\n",
        "# English Translation:\n",
        "# 'Everyone is happy during Diwali festival.'\n",
        "\n",
        "model7.get_polarity_score(text12)"
      ]
    },
    {
      "cell_type": "code",
      "execution_count": null,
      "metadata": {
        "colab": {
          "base_uri": "https://localhost:8080/",
          "height": 81
        },
        "id": "Ex-fzzcM-4Ht",
        "outputId": "da1d0822-3919-45b8-e560-06b72d52ca9d"
      },
      "outputs": [
        {
          "output_type": "execute_result",
          "data": {
            "text/plain": [
              "     label     score\n",
              "0  Neutral  0.989352"
            ],
            "text/html": [
              "\n",
              "  <div id=\"df-0196a889-7d22-41df-82e1-98c053813462\">\n",
              "    <div class=\"colab-df-container\">\n",
              "      <div>\n",
              "<style scoped>\n",
              "    .dataframe tbody tr th:only-of-type {\n",
              "        vertical-align: middle;\n",
              "    }\n",
              "\n",
              "    .dataframe tbody tr th {\n",
              "        vertical-align: top;\n",
              "    }\n",
              "\n",
              "    .dataframe thead th {\n",
              "        text-align: right;\n",
              "    }\n",
              "</style>\n",
              "<table border=\"1\" class=\"dataframe\">\n",
              "  <thead>\n",
              "    <tr style=\"text-align: right;\">\n",
              "      <th></th>\n",
              "      <th>label</th>\n",
              "      <th>score</th>\n",
              "    </tr>\n",
              "  </thead>\n",
              "  <tbody>\n",
              "    <tr>\n",
              "      <th>0</th>\n",
              "      <td>Neutral</td>\n",
              "      <td>0.989352</td>\n",
              "    </tr>\n",
              "  </tbody>\n",
              "</table>\n",
              "</div>\n",
              "      <button class=\"colab-df-convert\" onclick=\"convertToInteractive('df-0196a889-7d22-41df-82e1-98c053813462')\"\n",
              "              title=\"Convert this dataframe to an interactive table.\"\n",
              "              style=\"display:none;\">\n",
              "        \n",
              "  <svg xmlns=\"http://www.w3.org/2000/svg\" height=\"24px\"viewBox=\"0 0 24 24\"\n",
              "       width=\"24px\">\n",
              "    <path d=\"M0 0h24v24H0V0z\" fill=\"none\"/>\n",
              "    <path d=\"M18.56 5.44l.94 2.06.94-2.06 2.06-.94-2.06-.94-.94-2.06-.94 2.06-2.06.94zm-11 1L8.5 8.5l.94-2.06 2.06-.94-2.06-.94L8.5 2.5l-.94 2.06-2.06.94zm10 10l.94 2.06.94-2.06 2.06-.94-2.06-.94-.94-2.06-.94 2.06-2.06.94z\"/><path d=\"M17.41 7.96l-1.37-1.37c-.4-.4-.92-.59-1.43-.59-.52 0-1.04.2-1.43.59L10.3 9.45l-7.72 7.72c-.78.78-.78 2.05 0 2.83L4 21.41c.39.39.9.59 1.41.59.51 0 1.02-.2 1.41-.59l7.78-7.78 2.81-2.81c.8-.78.8-2.07 0-2.86zM5.41 20L4 18.59l7.72-7.72 1.47 1.35L5.41 20z\"/>\n",
              "  </svg>\n",
              "      </button>\n",
              "      \n",
              "  <style>\n",
              "    .colab-df-container {\n",
              "      display:flex;\n",
              "      flex-wrap:wrap;\n",
              "      gap: 12px;\n",
              "    }\n",
              "\n",
              "    .colab-df-convert {\n",
              "      background-color: #E8F0FE;\n",
              "      border: none;\n",
              "      border-radius: 50%;\n",
              "      cursor: pointer;\n",
              "      display: none;\n",
              "      fill: #1967D2;\n",
              "      height: 32px;\n",
              "      padding: 0 0 0 0;\n",
              "      width: 32px;\n",
              "    }\n",
              "\n",
              "    .colab-df-convert:hover {\n",
              "      background-color: #E2EBFA;\n",
              "      box-shadow: 0px 1px 2px rgba(60, 64, 67, 0.3), 0px 1px 3px 1px rgba(60, 64, 67, 0.15);\n",
              "      fill: #174EA6;\n",
              "    }\n",
              "\n",
              "    [theme=dark] .colab-df-convert {\n",
              "      background-color: #3B4455;\n",
              "      fill: #D2E3FC;\n",
              "    }\n",
              "\n",
              "    [theme=dark] .colab-df-convert:hover {\n",
              "      background-color: #434B5C;\n",
              "      box-shadow: 0px 1px 3px 1px rgba(0, 0, 0, 0.15);\n",
              "      filter: drop-shadow(0px 1px 2px rgba(0, 0, 0, 0.3));\n",
              "      fill: #FFFFFF;\n",
              "    }\n",
              "  </style>\n",
              "\n",
              "      <script>\n",
              "        const buttonEl =\n",
              "          document.querySelector('#df-0196a889-7d22-41df-82e1-98c053813462 button.colab-df-convert');\n",
              "        buttonEl.style.display =\n",
              "          google.colab.kernel.accessAllowed ? 'block' : 'none';\n",
              "\n",
              "        async function convertToInteractive(key) {\n",
              "          const element = document.querySelector('#df-0196a889-7d22-41df-82e1-98c053813462');\n",
              "          const dataTable =\n",
              "            await google.colab.kernel.invokeFunction('convertToInteractive',\n",
              "                                                     [key], {});\n",
              "          if (!dataTable) return;\n",
              "\n",
              "          const docLinkHtml = 'Like what you see? Visit the ' +\n",
              "            '<a target=\"_blank\" href=https://colab.research.google.com/notebooks/data_table.ipynb>data table notebook</a>'\n",
              "            + ' to learn more about interactive tables.';\n",
              "          element.innerHTML = '';\n",
              "          dataTable['output_type'] = 'display_data';\n",
              "          await google.colab.output.renderOutput(dataTable, element);\n",
              "          const docLink = document.createElement('div');\n",
              "          docLink.innerHTML = docLinkHtml;\n",
              "          element.appendChild(docLink);\n",
              "        }\n",
              "      </script>\n",
              "    </div>\n",
              "  </div>\n",
              "  "
            ]
          },
          "metadata": {},
          "execution_count": 193
        }
      ],
      "source": [
        "# Example:\n",
        "\n",
        "text13 = 'मी तुझा तिरस्कार करते.'\n",
        "# English Translation:\n",
        "# 'I hate you.'\n",
        "\n",
        "model7.get_polarity_score(text13)"
      ]
    },
    {
      "cell_type": "code",
      "execution_count": null,
      "metadata": {
        "colab": {
          "base_uri": "https://localhost:8080/",
          "height": 81
        },
        "id": "5NKYQ91x_P8Z",
        "outputId": "16d1baaa-2de4-48e9-e8d3-4cc22a7761a6"
      },
      "outputs": [
        {
          "output_type": "execute_result",
          "data": {
            "text/plain": [
              "     label     score\n",
              "0  Neutral  0.993329"
            ],
            "text/html": [
              "\n",
              "  <div id=\"df-8c93beda-a0c9-421f-949c-0d25add0183c\">\n",
              "    <div class=\"colab-df-container\">\n",
              "      <div>\n",
              "<style scoped>\n",
              "    .dataframe tbody tr th:only-of-type {\n",
              "        vertical-align: middle;\n",
              "    }\n",
              "\n",
              "    .dataframe tbody tr th {\n",
              "        vertical-align: top;\n",
              "    }\n",
              "\n",
              "    .dataframe thead th {\n",
              "        text-align: right;\n",
              "    }\n",
              "</style>\n",
              "<table border=\"1\" class=\"dataframe\">\n",
              "  <thead>\n",
              "    <tr style=\"text-align: right;\">\n",
              "      <th></th>\n",
              "      <th>label</th>\n",
              "      <th>score</th>\n",
              "    </tr>\n",
              "  </thead>\n",
              "  <tbody>\n",
              "    <tr>\n",
              "      <th>0</th>\n",
              "      <td>Neutral</td>\n",
              "      <td>0.993329</td>\n",
              "    </tr>\n",
              "  </tbody>\n",
              "</table>\n",
              "</div>\n",
              "      <button class=\"colab-df-convert\" onclick=\"convertToInteractive('df-8c93beda-a0c9-421f-949c-0d25add0183c')\"\n",
              "              title=\"Convert this dataframe to an interactive table.\"\n",
              "              style=\"display:none;\">\n",
              "        \n",
              "  <svg xmlns=\"http://www.w3.org/2000/svg\" height=\"24px\"viewBox=\"0 0 24 24\"\n",
              "       width=\"24px\">\n",
              "    <path d=\"M0 0h24v24H0V0z\" fill=\"none\"/>\n",
              "    <path d=\"M18.56 5.44l.94 2.06.94-2.06 2.06-.94-2.06-.94-.94-2.06-.94 2.06-2.06.94zm-11 1L8.5 8.5l.94-2.06 2.06-.94-2.06-.94L8.5 2.5l-.94 2.06-2.06.94zm10 10l.94 2.06.94-2.06 2.06-.94-2.06-.94-.94-2.06-.94 2.06-2.06.94z\"/><path d=\"M17.41 7.96l-1.37-1.37c-.4-.4-.92-.59-1.43-.59-.52 0-1.04.2-1.43.59L10.3 9.45l-7.72 7.72c-.78.78-.78 2.05 0 2.83L4 21.41c.39.39.9.59 1.41.59.51 0 1.02-.2 1.41-.59l7.78-7.78 2.81-2.81c.8-.78.8-2.07 0-2.86zM5.41 20L4 18.59l7.72-7.72 1.47 1.35L5.41 20z\"/>\n",
              "  </svg>\n",
              "      </button>\n",
              "      \n",
              "  <style>\n",
              "    .colab-df-container {\n",
              "      display:flex;\n",
              "      flex-wrap:wrap;\n",
              "      gap: 12px;\n",
              "    }\n",
              "\n",
              "    .colab-df-convert {\n",
              "      background-color: #E8F0FE;\n",
              "      border: none;\n",
              "      border-radius: 50%;\n",
              "      cursor: pointer;\n",
              "      display: none;\n",
              "      fill: #1967D2;\n",
              "      height: 32px;\n",
              "      padding: 0 0 0 0;\n",
              "      width: 32px;\n",
              "    }\n",
              "\n",
              "    .colab-df-convert:hover {\n",
              "      background-color: #E2EBFA;\n",
              "      box-shadow: 0px 1px 2px rgba(60, 64, 67, 0.3), 0px 1px 3px 1px rgba(60, 64, 67, 0.15);\n",
              "      fill: #174EA6;\n",
              "    }\n",
              "\n",
              "    [theme=dark] .colab-df-convert {\n",
              "      background-color: #3B4455;\n",
              "      fill: #D2E3FC;\n",
              "    }\n",
              "\n",
              "    [theme=dark] .colab-df-convert:hover {\n",
              "      background-color: #434B5C;\n",
              "      box-shadow: 0px 1px 3px 1px rgba(0, 0, 0, 0.15);\n",
              "      filter: drop-shadow(0px 1px 2px rgba(0, 0, 0, 0.3));\n",
              "      fill: #FFFFFF;\n",
              "    }\n",
              "  </style>\n",
              "\n",
              "      <script>\n",
              "        const buttonEl =\n",
              "          document.querySelector('#df-8c93beda-a0c9-421f-949c-0d25add0183c button.colab-df-convert');\n",
              "        buttonEl.style.display =\n",
              "          google.colab.kernel.accessAllowed ? 'block' : 'none';\n",
              "\n",
              "        async function convertToInteractive(key) {\n",
              "          const element = document.querySelector('#df-8c93beda-a0c9-421f-949c-0d25add0183c');\n",
              "          const dataTable =\n",
              "            await google.colab.kernel.invokeFunction('convertToInteractive',\n",
              "                                                     [key], {});\n",
              "          if (!dataTable) return;\n",
              "\n",
              "          const docLinkHtml = 'Like what you see? Visit the ' +\n",
              "            '<a target=\"_blank\" href=https://colab.research.google.com/notebooks/data_table.ipynb>data table notebook</a>'\n",
              "            + ' to learn more about interactive tables.';\n",
              "          element.innerHTML = '';\n",
              "          dataTable['output_type'] = 'display_data';\n",
              "          await google.colab.output.renderOutput(dataTable, element);\n",
              "          const docLink = document.createElement('div');\n",
              "          docLink.innerHTML = docLinkHtml;\n",
              "          element.appendChild(docLink);\n",
              "        }\n",
              "      </script>\n",
              "    </div>\n",
              "  </div>\n",
              "  "
            ]
          },
          "metadata": {},
          "execution_count": 194
        }
      ],
      "source": [
        "# Example:\n",
        "\n",
        "text14 = 'मी कॉलेजला जात आहे.'\n",
        "# English Translation:\n",
        "# 'I am going to college.'\n",
        "\n",
        "model7.get_polarity_score(text14)"
      ]
    },
    {
      "cell_type": "markdown",
      "metadata": {
        "id": "4AIhgXYGAl2O"
      },
      "source": [
        "***"
      ]
    },
    {
      "cell_type": "markdown",
      "metadata": {
        "id": "4rRkapn1z_Pg"
      },
      "source": [
        "### **i. Similarity**"
      ]
    },
    {
      "cell_type": "markdown",
      "metadata": {
        "id": "LeXsdkMQz_Pg"
      },
      "source": [
        "#### import"
      ]
    },
    {
      "cell_type": "code",
      "execution_count": null,
      "metadata": {
        "id": "9ojOkQsBz_Ph"
      },
      "outputs": [],
      "source": [
        "from mahaNLP.similarity import SimilarityAnalyzer"
      ]
    },
    {
      "cell_type": "markdown",
      "metadata": {
        "id": "s3wEAUbPz_Ph"
      },
      "source": [
        "#### create an object"
      ]
    },
    {
      "cell_type": "code",
      "execution_count": null,
      "metadata": {
        "id": "mlyp8xUsz_Ph"
      },
      "outputs": [],
      "source": [
        "model8 = SimilarityAnalyzer()"
      ]
    },
    {
      "cell_type": "markdown",
      "metadata": {
        "id": "ZCe5bkxCz_Pi"
      },
      "source": [
        "### **Usage of similarity:**\n",
        "It provides two functionalities\n",
        "* **embed_sentences:** Embeds the sentences and return the values in an array\n",
        "* **get_similarity_score:** Checks the similarity of a sentence with respect to array of sentences"
      ]
    },
    {
      "cell_type": "markdown",
      "metadata": {
        "id": "1taMIYA2CbTE"
      },
      "source": [
        "#### **embed_sentences:**"
      ]
    },
    {
      "cell_type": "code",
      "execution_count": null,
      "metadata": {
        "colab": {
          "base_uri": "https://localhost:8080/"
        },
        "id": "8KEbGOWhCl3f",
        "outputId": "bc7f3259-951f-4332-807a-b831004e5179"
      },
      "outputs": [
        {
          "output_type": "execute_result",
          "data": {
            "text/plain": [
              "array([-3.01300809e-02,  5.90831181e-03, -1.33653795e-02, -3.19638439e-02,\n",
              "        1.86218787e-02, -4.54362743e-02, -4.17430745e-03, -1.99699737e-02,\n",
              "        3.58055718e-03,  6.32557133e-03,  8.54484178e-03, -4.28140257e-03,\n",
              "       -2.65209517e-03, -2.75102034e-02, -4.76909569e-03, -1.02574341e-02,\n",
              "        1.45057784e-02, -2.26347111e-02,  1.03825880e-02,  1.66710429e-02,\n",
              "        1.12478444e-02, -1.54639995e-02,  1.83427557e-02, -7.28148175e-03,\n",
              "        3.23612406e-03, -7.66688536e-05, -2.73413360e-02, -7.00747129e-03,\n",
              "       -1.96131505e-02,  1.76330376e-03, -1.34859420e-02, -6.28396496e-03,\n",
              "        7.86420144e-03,  6.67925971e-03, -1.99246369e-02, -7.11165322e-03,\n",
              "        1.37242498e-02,  4.83196788e-03,  1.89736369e-03,  1.25255501e-02,\n",
              "       -2.43625697e-03, -3.05463783e-02, -5.00233378e-03,  1.55041227e-02,\n",
              "       -6.46518636e-03,  3.41290201e-04, -1.23328273e-03,  2.16220766e-02,\n",
              "        8.16372968e-03, -1.91043504e-03, -1.46023212e-02,  3.50542180e-03,\n",
              "        1.29642645e-02, -1.31144300e-02, -1.07188867e-02,  6.13190327e-03,\n",
              "        1.57648586e-02,  1.49627142e-02, -8.68069381e-03,  8.70533101e-03,\n",
              "        2.02721148e-03, -1.04711000e-02, -3.13782468e-02,  8.12012050e-03,\n",
              "        1.86757594e-02, -2.37665884e-02,  1.68768782e-02,  1.86287630e-02,\n",
              "        5.38040651e-03, -1.64038688e-02,  1.82129554e-02, -3.06159444e-03,\n",
              "       -1.36264302e-02, -1.37236423e-03, -2.08050553e-02, -2.17535887e-02,\n",
              "        4.09565354e-03, -2.18794565e-03,  2.38251500e-02, -7.78464309e-04,\n",
              "        8.39470513e-03,  6.64880639e-03, -4.71079780e-04, -1.31823192e-03,\n",
              "        4.67980355e-02,  1.38628185e-02, -1.40459370e-02, -7.31586944e-03,\n",
              "       -8.53210315e-03,  1.02604246e-02,  1.39796594e-02, -7.38809467e-04,\n",
              "        1.52944950e-02, -2.30120234e-02, -5.92222437e-03,  2.89008170e-02,\n",
              "       -1.05706258e-02, -5.85502200e-02,  8.75737425e-03,  2.83687487e-02,\n",
              "       -2.77395523e-03, -6.92065572e-04, -1.43744675e-02, -7.93469325e-03,\n",
              "        9.78246238e-03,  3.90987936e-03, -8.96374974e-03,  1.04735233e-03,\n",
              "       -1.68775618e-02, -1.14353374e-03, -2.11837292e-02,  1.41877346e-02,\n",
              "       -2.88327020e-02,  1.32411020e-02, -3.15349945e-03, -6.60709431e-03,\n",
              "       -1.81566412e-03,  3.65666230e-03, -7.90644251e-03, -2.48121726e-03,\n",
              "        3.74473482e-02, -7.60900043e-03, -1.64395180e-02, -7.73812365e-03,\n",
              "        5.42662153e-03, -6.12251740e-03,  5.78614837e-03,  3.22829895e-02,\n",
              "       -8.73411354e-03, -1.07156355e-02,  2.41189543e-02, -1.13051273e-02,\n",
              "        7.06661493e-03, -2.10517682e-02,  8.64952337e-03, -1.07455924e-02,\n",
              "       -5.31350449e-03, -1.93835441e-02, -3.23520158e-03,  1.87288243e-02,\n",
              "        6.24930859e-03, -2.20636278e-03,  2.40044598e-03, -3.70714406e-04,\n",
              "       -8.10144283e-03, -2.61169989e-02, -2.74009351e-03,  3.89310950e-03,\n",
              "       -1.62401143e-02,  7.72358384e-04, -7.89664872e-03,  1.69366971e-02,\n",
              "       -2.06135027e-03,  6.27974002e-03, -3.60580646e-02, -1.65324192e-02,\n",
              "        2.61243470e-02, -3.32333590e-03,  1.92946531e-02, -1.75731536e-02,\n",
              "       -5.80233801e-03,  3.87423262e-02, -1.57056347e-04,  1.81754660e-02,\n",
              "        7.39019876e-03,  4.74239234e-03,  7.72051420e-03, -9.33595747e-03,\n",
              "        3.10207922e-02,  1.66415460e-02,  3.07551641e-02,  5.44882240e-03,\n",
              "        1.91004816e-02,  1.01934867e-02, -1.34223150e-02,  1.39273787e-02,\n",
              "        3.23651242e-03, -4.07274626e-03, -8.36978317e-04, -2.70107239e-02,\n",
              "       -3.93888447e-03,  1.58594679e-02,  1.38497101e-02, -1.43317943e-02,\n",
              "        1.36467610e-02,  5.63271204e-03,  5.98637294e-03, -1.14387795e-02,\n",
              "        1.28081441e-02,  1.39406165e-02, -1.83686521e-03,  2.37052720e-02,\n",
              "        1.07621336e-02,  2.21172301e-03,  1.40940789e-02,  3.71910818e-03,\n",
              "       -3.26685049e-02, -1.04478421e-02,  1.56309791e-02,  5.50477766e-03,\n",
              "       -9.24829952e-03, -2.82028713e-03,  5.35629049e-04, -2.00676080e-03,\n",
              "        2.05834508e-02, -3.77388136e-03,  1.71750169e-02, -1.00417761e-02,\n",
              "       -1.05263963e-02, -6.66322187e-03, -5.86904818e-03, -4.71706595e-03,\n",
              "       -2.00132634e-02, -1.78187266e-02,  5.58415614e-03,  7.57336244e-03,\n",
              "       -1.67107694e-02, -1.30010303e-03, -1.49274161e-02,  3.50551121e-03,\n",
              "        2.17670314e-02, -1.67797767e-02,  3.83340358e-03, -1.05553875e-02,\n",
              "       -2.35121176e-02,  2.08901474e-04, -3.39194015e-03, -1.86632443e-02,\n",
              "        2.64606718e-02,  6.08104002e-03,  9.50833689e-03,  1.72959976e-02,\n",
              "       -1.90124735e-02,  1.02615263e-02,  3.19077484e-02,  1.16296811e-02,\n",
              "       -1.04003567e-02, -1.07591450e-02, -5.22281602e-03, -7.83952698e-03,\n",
              "       -2.10185628e-02,  3.65024321e-02, -2.43751658e-03, -7.85903633e-03,\n",
              "       -9.43527184e-03, -2.06877179e-02,  4.29566018e-03, -1.19257346e-02,\n",
              "        1.45899365e-02,  2.81835254e-03, -8.95558950e-03,  9.80569702e-03,\n",
              "        6.91806292e-03, -9.91334114e-03,  9.81581979e-05, -1.75190140e-02,\n",
              "       -1.44562009e-03,  9.32446308e-03,  1.28548834e-02, -5.05371857e-03,\n",
              "       -2.35051699e-02,  9.83051490e-04, -1.95381921e-02,  1.78223625e-02,\n",
              "       -9.21748485e-03,  1.47577729e-02, -6.65485207e-03, -3.82755511e-03,\n",
              "       -2.12943479e-02,  4.55990806e-03,  2.39619240e-03, -2.66811680e-02,\n",
              "        3.33867408e-02,  1.18107896e-03, -8.40935577e-03, -2.35186461e-02,\n",
              "        1.17391050e-02, -2.09729257e-03,  2.12102160e-02,  1.30233709e-02,\n",
              "        5.20479353e-03,  4.58412478e-03, -1.06222145e-02,  5.80320274e-03,\n",
              "        8.34930502e-03, -5.98841114e-03,  2.53006406e-02, -2.03151675e-03,\n",
              "       -5.21425530e-03, -1.70673802e-02,  1.18642375e-02, -8.61733500e-03,\n",
              "       -1.26699023e-02, -2.00787978e-03,  1.58148166e-02,  1.90216815e-03,\n",
              "        2.31811199e-02,  1.74661726e-03,  1.12167383e-02, -1.44134252e-03,\n",
              "       -9.30210948e-03, -1.46288536e-02, -5.37519995e-03, -1.51128797e-02,\n",
              "       -6.52605668e-03, -1.84239093e-02,  1.16902702e-02, -1.10544963e-02,\n",
              "        6.47493498e-03,  8.24404415e-03,  2.25995295e-02,  1.12281495e-03,\n",
              "        2.79650334e-02, -1.09997969e-02, -2.39875019e-02,  6.61455654e-03,\n",
              "       -2.13237014e-03, -1.07544018e-02, -1.44521017e-02,  8.23262800e-03,\n",
              "       -6.24396931e-03,  1.00773545e-02, -1.72208343e-03,  7.03164041e-02,\n",
              "        2.26020627e-02, -1.87014379e-02,  9.41382069e-03, -2.26891576e-03,\n",
              "       -8.50851089e-03,  2.18220730e-03, -5.21363504e-03, -2.49599013e-02,\n",
              "       -1.95235247e-03,  8.72647390e-03,  2.24970223e-04,  2.50084102e-02,\n",
              "        1.09973215e-02,  2.34574154e-02,  1.75529835e-03, -7.50084082e-03,\n",
              "       -1.20159062e-02, -2.25395188e-02,  3.14263278e-03,  8.86609126e-03,\n",
              "        1.39705120e-02, -5.49423229e-03,  1.06052775e-03, -7.56045396e-04,\n",
              "        6.75427075e-03,  3.88717325e-03, -4.17592190e-02, -1.21613927e-02,\n",
              "        1.72176436e-02, -2.00801026e-02,  1.64938420e-02,  3.24597247e-02,\n",
              "        1.27259840e-03,  2.64031766e-03,  1.64149739e-02, -1.65665988e-02,\n",
              "        1.38497287e-02, -1.34747969e-02, -1.70683134e-02, -7.75007007e-04,\n",
              "       -7.62506435e-03,  1.06169013e-02, -8.30881204e-03, -1.63614415e-02,\n",
              "       -8.31434131e-03, -5.89036709e-03, -4.56706993e-03,  4.10309108e-03,\n",
              "       -5.28457621e-03, -2.16052309e-03, -8.41695070e-03, -1.98921915e-02,\n",
              "       -5.73335495e-03, -2.97826994e-03, -1.58060081e-02,  6.83034910e-03,\n",
              "       -6.80320244e-03, -2.68580168e-02,  2.66459276e-04, -1.20157236e-03,\n",
              "       -4.36739484e-03,  2.58185342e-02,  1.46681322e-02, -1.91858169e-02,\n",
              "        5.36356866e-03, -3.59884230e-03, -8.10728967e-03, -2.03213058e-02,\n",
              "       -1.30788255e-02, -1.97041035e-03,  2.97905616e-02, -8.12921952e-03,\n",
              "        4.82294196e-03,  3.26282950e-03, -5.63283963e-03, -2.42652129e-02,\n",
              "       -2.56951507e-02, -1.05881253e-02,  1.37404967e-02, -3.08426539e-03,\n",
              "       -9.66540165e-03, -5.70279779e-03,  3.73372622e-03,  2.99664345e-02,\n",
              "        2.30271015e-02,  2.61647999e-02,  6.24329504e-03, -1.58823989e-02,\n",
              "       -7.67878210e-03, -2.34378856e-02,  1.97628932e-03,  3.83256702e-03,\n",
              "       -1.64742803e-03, -1.29566416e-02,  2.37314925e-02, -2.19344664e-02,\n",
              "        6.77841390e-03, -3.21579236e-03,  4.07669321e-03,  1.10282283e-02,\n",
              "       -2.01006141e-02, -1.91606162e-03,  2.48767231e-02,  1.03209019e-02,\n",
              "        9.56634805e-03,  1.29271275e-03,  1.51438813e-04,  2.52911542e-02,\n",
              "        1.55032882e-02, -1.83341019e-02, -2.37571001e-02, -2.01135837e-02,\n",
              "        3.22717871e-03,  1.25111928e-02, -3.53139848e-03,  1.99056473e-02,\n",
              "       -1.10834921e-02,  8.20702873e-04, -1.71925034e-02, -1.46575563e-03,\n",
              "        2.32204814e-02, -4.31601284e-03, -3.10518816e-02,  1.21611794e-02,\n",
              "        2.51019816e-03, -1.27003919e-02,  3.91935697e-03, -8.34067445e-03,\n",
              "       -4.12001386e-02,  2.64251102e-02, -2.23739948e-02,  1.53114051e-02,\n",
              "       -8.00362788e-03,  4.03148588e-03, -6.09046139e-04,  1.20638497e-02,\n",
              "       -8.32260400e-03,  3.14436406e-02,  5.42647019e-03,  3.54677718e-03,\n",
              "        6.54092431e-03, -4.42248117e-03, -1.59550030e-02,  8.70789401e-03,\n",
              "       -1.13972696e-02, -4.96649370e-03,  5.19423047e-04, -5.11823781e-03,\n",
              "        2.90488079e-03,  1.43197346e-02, -2.15492002e-03,  4.41000890e-03,\n",
              "       -7.72807701e-03,  1.00093912e-02,  1.39529686e-02,  1.97348464e-02,\n",
              "        2.92347884e-03,  2.31071096e-03,  2.28686780e-02, -1.32424310e-02,\n",
              "        4.46878560e-03, -2.24520713e-02,  1.26555813e-02,  1.26668792e-02,\n",
              "        2.51053199e-02,  1.66569639e-03,  1.62841100e-02,  4.91092633e-03,\n",
              "        1.18311094e-02,  3.06225568e-03, -4.41729799e-02,  6.44658785e-03,\n",
              "        3.77440476e-03, -4.45345696e-03,  2.51483964e-03, -9.54747852e-03,\n",
              "        5.07295970e-03,  9.58895683e-03, -9.64018982e-03, -1.29908100e-02,\n",
              "        1.25605389e-02, -6.00944553e-03, -4.05536704e-02, -8.90582241e-03,\n",
              "        4.75800410e-03, -1.29225114e-02, -1.31087378e-02, -2.99637136e-03,\n",
              "        2.67905779e-02, -8.39133654e-03, -1.71411838e-02,  1.17618786e-02,\n",
              "        3.46101355e-03, -1.04996664e-02,  1.91917699e-02,  1.60048455e-02,\n",
              "       -1.26531739e-02, -9.30884480e-03, -8.85534473e-03,  3.47553939e-03,\n",
              "       -8.06653593e-03, -7.09112920e-03, -1.45570207e-02, -8.53009149e-03,\n",
              "       -5.50550455e-03, -1.11811925e-02,  1.39078945e-02, -1.78972036e-02,\n",
              "       -5.37263462e-03, -7.95116089e-03,  1.66612188e-03,  1.49715003e-02,\n",
              "       -2.29896139e-03, -3.51317320e-03, -1.34335412e-02, -1.89827774e-02,\n",
              "        5.65613480e-03, -6.13899762e-03, -1.35030933e-02, -2.06421819e-02,\n",
              "       -3.99334989e-02, -7.07364781e-03,  1.32413558e-03,  3.05913240e-02,\n",
              "       -9.25755128e-03,  1.17319878e-02,  1.67940930e-02,  2.27046711e-03,\n",
              "        4.21515442e-02,  8.95139819e-04,  4.53620963e-03, -2.27014273e-02,\n",
              "       -1.70505680e-02, -6.69909990e-04, -2.95234704e-03, -1.20120011e-02,\n",
              "       -3.03255697e-03, -5.08836797e-03,  1.16614243e-02, -7.95296207e-03,\n",
              "       -6.87582837e-03, -8.76113214e-03,  1.59097705e-02, -4.99887578e-03,\n",
              "        7.86300004e-03, -1.07486721e-03, -2.52840705e-02,  1.73653010e-02,\n",
              "       -1.19469306e-02, -3.15723894e-03, -3.18113975e-02, -5.91696298e-04,\n",
              "       -1.77470371e-02, -6.21764399e-02,  2.17336416e-02,  2.50397827e-02,\n",
              "        1.11514786e-02, -3.27469222e-02,  3.57396528e-02, -9.02441610e-03,\n",
              "       -1.27898622e-02, -1.43719036e-02, -2.80507957e-03,  1.96212828e-02,\n",
              "       -1.33930182e-03, -5.71801979e-03,  4.31844592e-03,  4.44457214e-03,\n",
              "        1.84682347e-02,  9.90217924e-03, -1.22834304e-02,  2.90954299e-03,\n",
              "        1.11034662e-02,  1.16471387e-02, -6.29853318e-03, -7.61908200e-03,\n",
              "        1.22876791e-02,  1.49464258e-03,  2.51777172e-02, -6.27732603e-03,\n",
              "       -6.30157243e-04,  3.11643910e-02, -1.33118257e-02,  2.01808289e-02,\n",
              "        2.35714894e-02,  2.90485611e-03, -2.32108869e-02, -1.14355087e-02,\n",
              "        2.43298281e-02,  2.64594308e-03, -1.36404168e-02,  1.72139183e-02,\n",
              "        2.78569013e-03, -1.99184269e-02, -1.02488715e-02, -1.62941944e-02,\n",
              "        1.39602023e-04, -1.38764987e-02, -1.59546304e-02,  1.71408746e-02,\n",
              "       -4.28703660e-03,  3.97855882e-03, -2.13087369e-02, -4.46557824e-04,\n",
              "        9.97365918e-03, -5.33415820e-04, -7.81102059e-03, -1.03363041e-02,\n",
              "        2.32493188e-02,  2.53359322e-03,  1.06881512e-02, -2.75757574e-02,\n",
              "        3.05544725e-03,  1.20836413e-02,  2.55080964e-03, -2.64084875e-03,\n",
              "        1.18886614e-02,  1.65476967e-02, -1.50255933e-02, -1.35924788e-02,\n",
              "        6.30687457e-03,  2.13903971e-02,  1.28481898e-03,  2.58356109e-02,\n",
              "        1.88110378e-02, -9.25006159e-03,  4.92774788e-03,  1.25913508e-02,\n",
              "       -1.53622916e-02, -1.30425720e-02,  2.58008633e-02,  2.26189271e-02,\n",
              "        9.28014517e-03,  1.91216730e-02,  1.08732022e-02, -6.55537611e-03,\n",
              "        2.28530131e-02, -4.78427391e-03,  5.64279966e-03, -5.65334596e-03,\n",
              "       -4.90859384e-04, -3.22094932e-02,  2.43365939e-05,  1.82267409e-02,\n",
              "        6.36830274e-03,  2.40061115e-02,  1.80955902e-02,  1.81317341e-03,\n",
              "        2.65917294e-02, -1.02234026e-02, -2.56279614e-02, -5.13049820e-03,\n",
              "        1.09303994e-02, -1.27968304e-02,  9.69257485e-03,  1.76790208e-02,\n",
              "        1.44254672e-03, -6.05859002e-03, -2.89139021e-02, -1.32559557e-02,\n",
              "       -7.05092167e-03, -2.23880680e-03, -1.88184832e-03,  1.28575694e-02,\n",
              "       -5.90166217e-03, -1.04621686e-02, -1.81798656e-02,  8.95336457e-03,\n",
              "        8.05973820e-03, -1.66233480e-02,  2.88753863e-02,  2.69941203e-02,\n",
              "        1.93423796e-02, -4.08307370e-03,  4.58932389e-03, -1.18301455e-02,\n",
              "       -1.46909487e-02, -1.16072549e-03,  2.01492081e-03, -1.39602041e-02,\n",
              "        1.46909859e-02,  7.47408299e-03,  1.28439870e-02,  5.91196259e-03,\n",
              "        6.19409047e-03, -1.85675789e-02,  1.62065085e-02,  3.00651807e-02,\n",
              "        9.27972235e-03, -1.05103357e-02,  5.09447511e-03, -1.12341775e-04,\n",
              "        1.16246659e-02,  4.33592424e-02,  6.43807231e-03, -3.87381972e-03,\n",
              "       -2.10319627e-02, -3.44374403e-02,  1.10652950e-02, -6.04629423e-03,\n",
              "       -1.20555311e-02,  2.49229036e-02, -6.58341963e-03, -1.27568729e-02,\n",
              "        6.28885301e-03,  1.43585894e-02,  1.13199186e-02,  1.54524501e-02,\n",
              "       -1.88142445e-03,  1.09161250e-02,  2.53680366e-04,  5.61841205e-03,\n",
              "       -3.67084215e-03, -9.13178921e-03, -3.68265738e-03, -1.66544225e-03,\n",
              "        5.78228151e-03,  1.98796624e-06, -2.71640886e-02,  3.18496004e-02,\n",
              "        6.25977898e-03,  6.11359766e-03, -2.89460011e-02,  1.64688025e-02,\n",
              "        6.17532805e-03,  1.75410528e-02,  2.47646570e-02, -1.63277145e-03,\n",
              "       -1.83101988e-03,  1.62396338e-02, -1.26726814e-02, -1.03971902e-02,\n",
              "       -1.69838406e-02,  1.63755901e-02,  1.68589968e-02,  7.78541155e-03,\n",
              "       -5.80569322e-04,  4.29578125e-03, -1.49363773e-02, -1.92048103e-02,\n",
              "       -4.44946066e-03,  2.57898681e-02, -2.06551626e-02, -5.76212863e-03],\n",
              "      dtype=float32)"
            ]
          },
          "metadata": {},
          "execution_count": 143
        }
      ],
      "source": [
        "# Example\n",
        "\n",
        "text15 = 'भारतात एकूण २८ राज्ये आहेत.'\n",
        "# English Translation:\n",
        "# 'There are total 28 states in India.'\n",
        "\n",
        "model8.embed_sentences(text15)"
      ]
    },
    {
      "cell_type": "markdown",
      "metadata": {
        "id": "fGYqivgMDZCU"
      },
      "source": [
        "#### **get_similarity_score:**"
      ]
    },
    {
      "cell_type": "code",
      "execution_count": null,
      "metadata": {
        "colab": {
          "base_uri": "https://localhost:8080/"
        },
        "id": "zI8KCkb5DYr5",
        "outputId": "4e1ff884-e6ef-4865-b9ce-e0f5ac8590f3"
      },
      "outputs": [
        {
          "output_type": "execute_result",
          "data": {
            "text/plain": [
              "array([0.9999999 , 0.24566297, 0.3010444 ], dtype=float32)"
            ]
          },
          "metadata": {},
          "execution_count": 144
        }
      ],
      "source": [
        "# Example\n",
        "\n",
        "textsource = 'वसई तालुक्यातील 15 ग्रामपंचायतींसाठी निवडणूक होत आहे.'\n",
        "# English Translation:\n",
        "# 'Elections are being held for 15 gram panchayats in Vasai taluka.'\n",
        "textsentences = ['वसई तालुक्यातील 15 ग्रामपंचायतींसाठी निवडणूक होत आहे.', '28 ते 2 डिसेंबर पर्यंत उमेदवारी अर्ज भरण्याची वेळ असून आज आणि उध्या दोन दिवसात ऑफलाईन उमेदवारी अर्ज भरण्यासाठी 5 वाजेपर्यंत वेळ वाढवून दिला आहे.', 'त्यामुळे आज दिवसभरात उमेदवारांनी आपले उमेदवारी अर्ज भरण्यासाठी तहसील कार्यालयात गर्दी केली होती.']\n",
        "# English Translation:\n",
        "# [\n",
        "# 'Elections are being held for 15 gram panchayats in Vasai taluka.',\n",
        "# 'The time to fill candidature form is from 28th to 2nd December and the time for filling offline candidature form has been extended till 5 pm today and tomorrow.',\n",
        "# 'Therefore, candidates thronged the tehsil office to fill their nomination forms today.'\n",
        "# ]\n",
        "\n",
        "model8.get_similarity_score(textsource, textsentences)"
      ]
    },
    {
      "cell_type": "markdown",
      "metadata": {
        "id": "0ZEKKLm4EFkg"
      },
      "source": [
        "Optional Parameter(s):\n",
        "* **as_dict** (True, False) in boolean - Default: False\n",
        "  * Used to define the print type"
      ]
    },
    {
      "cell_type": "code",
      "execution_count": null,
      "metadata": {
        "colab": {
          "base_uri": "https://localhost:8080/"
        },
        "id": "CQWBAuv3ELiA",
        "outputId": "1f39e6c8-a4bd-4d08-c537-838920f67e43"
      },
      "outputs": [
        {
          "output_type": "execute_result",
          "data": {
            "text/plain": [
              "{'वसई तालुक्यातील 15 ग्रामपंचायतींसाठी निवडणूक होत आहे.': 0.9999999,\n",
              " '28 ते 2 डिसेंबर पर्यंत उमेदवारी अर्ज भरण्याची वेळ असून आज आणि उध्या दोन दिवसात ऑफलाईन उमेदवारी अर्ज भरण्यासाठी 5 वाजेपर्यंत वेळ वाढवून दिला आहे.': 0.24566297,\n",
              " 'त्यामुळे आज दिवसभरात उमेदवारांनी आपले उमेदवारी अर्ज भरण्यासाठी तहसील कार्यालयात गर्दी केली होती.': 0.3010444}"
            ]
          },
          "metadata": {},
          "execution_count": 145
        }
      ],
      "source": [
        "model8.get_similarity_score(textsource, textsentences, as_dict = True)"
      ]
    },
    {
      "cell_type": "markdown",
      "metadata": {
        "id": "AcH_y27Qz_Pk"
      },
      "source": [
        "***\n",
        "***"
      ]
    },
    {
      "cell_type": "markdown",
      "metadata": {
        "id": "gwHCuBDqonky"
      },
      "source": [
        "## **2. Advanced Usage:**\n",
        "\n",
        "This way of accessing the library is designed from an ML Practitioners point of view and has more flexibility to choose a model for the desired task."
      ]
    },
    {
      "cell_type": "markdown",
      "metadata": {
        "id": "fIYh11lOz_Pl"
      },
      "source": [
        "## The below mentioned models are explained in the examples following:\n",
        "* **MaskFill Model:** Predicts the masked tokens\n",
        "* **GPT Model:** Text prediction\n",
        "* **Hate Model:** Detects hate speech\n",
        "* **NER Model:** Named entity recognision\n",
        "* **Sentiment Model:** Sentiment analysis\n",
        "* **Similarity Model:** Detects similarity\n",
        "\n",
        "Some of the mentioned models have sub models within them that can be seen using the **listModels()** function as described in the examples"
      ]
    },
    {
      "cell_type": "markdown",
      "metadata": {
        "id": "H9rvFtcaz_Pl"
      },
      "source": [
        "***"
      ]
    },
    {
      "cell_type": "markdown",
      "metadata": {
        "id": "HdHuP4cIS6Nw"
      },
      "source": [
        "#### import the models"
      ]
    },
    {
      "cell_type": "code",
      "execution_count": null,
      "metadata": {
        "id": "DSimhAYRSl5y"
      },
      "outputs": [],
      "source": [
        "from mahaNLP.model_repo import MaskFillModel, GPTModel, HateModel, NERModel, SentimentModel, SimilarityModel"
      ]
    },
    {
      "cell_type": "markdown",
      "metadata": {
        "id": "zaXCCzDQz_Pm"
      },
      "source": [
        "Here, we are accessing the functionalities via modelRepo"
      ]
    },
    {
      "cell_type": "markdown",
      "metadata": {
        "id": "N8inplsT7vO_"
      },
      "source": [
        "***"
      ]
    },
    {
      "cell_type": "markdown",
      "metadata": {
        "id": "fyArn1Z0Tdjf"
      },
      "source": [
        "## **MaskFill Model**:"
      ]
    },
    {
      "cell_type": "code",
      "execution_count": null,
      "metadata": {
        "id": "XMJhet6eTBqi"
      },
      "outputs": [],
      "source": [
        "# create an object\n",
        "modelMaskFill = MaskFillModel() # this loads with default model. Here, marathi-bert-v2"
      ]
    },
    {
      "cell_type": "code",
      "execution_count": null,
      "metadata": {
        "colab": {
          "base_uri": "https://localhost:8080/"
        },
        "id": "Xta4dP6PsY2l",
        "outputId": "389f4eaa-8b15-46d6-a201-a05ec5558fb7"
      },
      "outputs": [
        {
          "output_type": "stream",
          "name": "stdout",
          "text": [
            " mask_fill models: \n",
            "\t marathi-bert-v2 :  l3cube-pune/marathi-bert-v2\n",
            "\t marathi-roberta :  l3cube-pune/marathi-roberta\n",
            "\t marathi-albert :  l3cube-pune/marathi-albert\n",
            "\n",
            " tagger models: \n",
            "\t marathi-ner :  l3cube-pune/marathi-ner\n",
            "\n",
            " autocomplete models: \n",
            "\t marathi-gpt :  l3cube-pune/marathi-gpt\n",
            "\n",
            " similarity models: \n",
            "\t marathi-sentence-similarity-sbert :  l3cube-pune/marathi-sentence-similarity-sbert\n",
            "\t marathi-sentence-bert-nli :  l3cube-pune/marathi-sentence-bert-nli\n",
            "\n",
            " sentiment models: \n",
            "\t MarathiSentiment :  l3cube-pune/MarathiSentiment\n",
            "\n",
            " hate models: \n",
            "\t mahahate-bert :  l3cube-pune/mahahate-bert\n",
            "\t mahahate-multi-roberta :  l3cube-pune/mahahate-multi-roberta\n"
          ]
        }
      ],
      "source": [
        "# list models present in it\n",
        "modelMaskFill.list_models()"
      ]
    },
    {
      "cell_type": "markdown",
      "metadata": {
        "id": "nUH1Oi4Oq1B-"
      },
      "source": [
        "#### **To change the default model:**\n",
        "Pass the name of the model as the argument:\n",
        "\n",
        "modelMaskFill = MaskFillModel('name of model')"
      ]
    },
    {
      "cell_type": "code",
      "execution_count": null,
      "metadata": {
        "id": "BSXh4lN2rq7I"
      },
      "outputs": [],
      "source": [
        "# Example:\n",
        "\n",
        "modelMaskFill2 = MaskFillModel('marathi-roberta')"
      ]
    },
    {
      "cell_type": "markdown",
      "metadata": {
        "id": "SfVSkGnpz_Po"
      },
      "source": [
        "### **Usage of MaskFillModel:**\n",
        "It provides one functionality\n",
        "* **predict_mask:** Predicts the masked token"
      ]
    },
    {
      "cell_type": "code",
      "execution_count": null,
      "metadata": {
        "colab": {
          "base_uri": "https://localhost:8080/",
          "height": 206
        },
        "outputId": "5ea722d0-6820-4940-b6cf-86768d0ebb0f",
        "id": "7qq2-ePAz_Po"
      },
      "outputs": [
        {
          "output_type": "execute_result",
          "data": {
            "text/plain": [
              "  token_str                 sequence\n",
              "0       आहे     मी महाराष्ट्रात आहे.\n",
              "1    राहणार  मी महाराष्ट्रात राहणार.\n",
              "2      नाही    मी महाराष्ट्रात नाही.\n",
              "3       ##च        मी महाराष्ट्रातच.\n",
              "4     राहतो   मी महाराष्ट्रात राहतो."
            ],
            "text/html": [
              "\n",
              "  <div id=\"df-ea47c242-254a-4e60-9aaa-0bc73d1f3484\">\n",
              "    <div class=\"colab-df-container\">\n",
              "      <div>\n",
              "<style scoped>\n",
              "    .dataframe tbody tr th:only-of-type {\n",
              "        vertical-align: middle;\n",
              "    }\n",
              "\n",
              "    .dataframe tbody tr th {\n",
              "        vertical-align: top;\n",
              "    }\n",
              "\n",
              "    .dataframe thead th {\n",
              "        text-align: right;\n",
              "    }\n",
              "</style>\n",
              "<table border=\"1\" class=\"dataframe\">\n",
              "  <thead>\n",
              "    <tr style=\"text-align: right;\">\n",
              "      <th></th>\n",
              "      <th>token_str</th>\n",
              "      <th>sequence</th>\n",
              "    </tr>\n",
              "  </thead>\n",
              "  <tbody>\n",
              "    <tr>\n",
              "      <th>0</th>\n",
              "      <td>आहे</td>\n",
              "      <td>मी महाराष्ट्रात आहे.</td>\n",
              "    </tr>\n",
              "    <tr>\n",
              "      <th>1</th>\n",
              "      <td>राहणार</td>\n",
              "      <td>मी महाराष्ट्रात राहणार.</td>\n",
              "    </tr>\n",
              "    <tr>\n",
              "      <th>2</th>\n",
              "      <td>नाही</td>\n",
              "      <td>मी महाराष्ट्रात नाही.</td>\n",
              "    </tr>\n",
              "    <tr>\n",
              "      <th>3</th>\n",
              "      <td>##च</td>\n",
              "      <td>मी महाराष्ट्रातच.</td>\n",
              "    </tr>\n",
              "    <tr>\n",
              "      <th>4</th>\n",
              "      <td>राहतो</td>\n",
              "      <td>मी महाराष्ट्रात राहतो.</td>\n",
              "    </tr>\n",
              "  </tbody>\n",
              "</table>\n",
              "</div>\n",
              "      <button class=\"colab-df-convert\" onclick=\"convertToInteractive('df-ea47c242-254a-4e60-9aaa-0bc73d1f3484')\"\n",
              "              title=\"Convert this dataframe to an interactive table.\"\n",
              "              style=\"display:none;\">\n",
              "        \n",
              "  <svg xmlns=\"http://www.w3.org/2000/svg\" height=\"24px\"viewBox=\"0 0 24 24\"\n",
              "       width=\"24px\">\n",
              "    <path d=\"M0 0h24v24H0V0z\" fill=\"none\"/>\n",
              "    <path d=\"M18.56 5.44l.94 2.06.94-2.06 2.06-.94-2.06-.94-.94-2.06-.94 2.06-2.06.94zm-11 1L8.5 8.5l.94-2.06 2.06-.94-2.06-.94L8.5 2.5l-.94 2.06-2.06.94zm10 10l.94 2.06.94-2.06 2.06-.94-2.06-.94-.94-2.06-.94 2.06-2.06.94z\"/><path d=\"M17.41 7.96l-1.37-1.37c-.4-.4-.92-.59-1.43-.59-.52 0-1.04.2-1.43.59L10.3 9.45l-7.72 7.72c-.78.78-.78 2.05 0 2.83L4 21.41c.39.39.9.59 1.41.59.51 0 1.02-.2 1.41-.59l7.78-7.78 2.81-2.81c.8-.78.8-2.07 0-2.86zM5.41 20L4 18.59l7.72-7.72 1.47 1.35L5.41 20z\"/>\n",
              "  </svg>\n",
              "      </button>\n",
              "      \n",
              "  <style>\n",
              "    .colab-df-container {\n",
              "      display:flex;\n",
              "      flex-wrap:wrap;\n",
              "      gap: 12px;\n",
              "    }\n",
              "\n",
              "    .colab-df-convert {\n",
              "      background-color: #E8F0FE;\n",
              "      border: none;\n",
              "      border-radius: 50%;\n",
              "      cursor: pointer;\n",
              "      display: none;\n",
              "      fill: #1967D2;\n",
              "      height: 32px;\n",
              "      padding: 0 0 0 0;\n",
              "      width: 32px;\n",
              "    }\n",
              "\n",
              "    .colab-df-convert:hover {\n",
              "      background-color: #E2EBFA;\n",
              "      box-shadow: 0px 1px 2px rgba(60, 64, 67, 0.3), 0px 1px 3px 1px rgba(60, 64, 67, 0.15);\n",
              "      fill: #174EA6;\n",
              "    }\n",
              "\n",
              "    [theme=dark] .colab-df-convert {\n",
              "      background-color: #3B4455;\n",
              "      fill: #D2E3FC;\n",
              "    }\n",
              "\n",
              "    [theme=dark] .colab-df-convert:hover {\n",
              "      background-color: #434B5C;\n",
              "      box-shadow: 0px 1px 3px 1px rgba(0, 0, 0, 0.15);\n",
              "      filter: drop-shadow(0px 1px 2px rgba(0, 0, 0, 0.3));\n",
              "      fill: #FFFFFF;\n",
              "    }\n",
              "  </style>\n",
              "\n",
              "      <script>\n",
              "        const buttonEl =\n",
              "          document.querySelector('#df-ea47c242-254a-4e60-9aaa-0bc73d1f3484 button.colab-df-convert');\n",
              "        buttonEl.style.display =\n",
              "          google.colab.kernel.accessAllowed ? 'block' : 'none';\n",
              "\n",
              "        async function convertToInteractive(key) {\n",
              "          const element = document.querySelector('#df-ea47c242-254a-4e60-9aaa-0bc73d1f3484');\n",
              "          const dataTable =\n",
              "            await google.colab.kernel.invokeFunction('convertToInteractive',\n",
              "                                                     [key], {});\n",
              "          if (!dataTable) return;\n",
              "\n",
              "          const docLinkHtml = 'Like what you see? Visit the ' +\n",
              "            '<a target=\"_blank\" href=https://colab.research.google.com/notebooks/data_table.ipynb>data table notebook</a>'\n",
              "            + ' to learn more about interactive tables.';\n",
              "          element.innerHTML = '';\n",
              "          dataTable['output_type'] = 'display_data';\n",
              "          await google.colab.output.renderOutput(dataTable, element);\n",
              "          const docLink = document.createElement('div');\n",
              "          docLink.innerHTML = docLinkHtml;\n",
              "          element.appendChild(docLink);\n",
              "        }\n",
              "      </script>\n",
              "    </div>\n",
              "  </div>\n",
              "  "
            ]
          },
          "metadata": {},
          "execution_count": 150
        }
      ],
      "source": [
        "# Example:\n",
        "\n",
        "# pass the string with the word to be predicted replaced with '[MASK]' for marathi-bert-v2, marathi-albert\n",
        "# and '<mask>' for marathi-roberta\n",
        "\n",
        "txt1 = 'मी महाराष्ट्रात [MASK].'\n",
        "# English Translation:\n",
        "# 'I in Maharashtra [MASK]'\n",
        "\n",
        "modelMaskFill.predict_mask(txt1)"
      ]
    },
    {
      "cell_type": "markdown",
      "metadata": {
        "id": "5WclXGP5z_Pp"
      },
      "source": [
        "Optional Parameter(s):\n",
        "* **details** (minimum, medium, all) in string - Default: minimum\n",
        "  * Used to pass the detailedness to be considered\n",
        "* **as_dict** (True, False) in boolean - Default: False\n",
        "  * Used to define the print type"
      ]
    },
    {
      "cell_type": "code",
      "execution_count": null,
      "metadata": {
        "colab": {
          "base_uri": "https://localhost:8080/",
          "height": 206
        },
        "outputId": "61a78c74-8254-4a88-e2af-bd7d4a0940c2",
        "scrolled": true,
        "id": "S8PJDNz6z_Pp"
      },
      "outputs": [
        {
          "output_type": "execute_result",
          "data": {
            "text/plain": [
              "  token_str     score                 sequence\n",
              "0       आहे  0.465601     मी महाराष्ट्रात आहे.\n",
              "1    राहणार  0.079690  मी महाराष्ट्रात राहणार.\n",
              "2      नाही  0.074001    मी महाराष्ट्रात नाही.\n",
              "3       ##च  0.050423        मी महाराष्ट्रातच.\n",
              "4     राहतो  0.043737   मी महाराष्ट्रात राहतो."
            ],
            "text/html": [
              "\n",
              "  <div id=\"df-bcea21bb-def1-4c69-ba48-097e4b550879\">\n",
              "    <div class=\"colab-df-container\">\n",
              "      <div>\n",
              "<style scoped>\n",
              "    .dataframe tbody tr th:only-of-type {\n",
              "        vertical-align: middle;\n",
              "    }\n",
              "\n",
              "    .dataframe tbody tr th {\n",
              "        vertical-align: top;\n",
              "    }\n",
              "\n",
              "    .dataframe thead th {\n",
              "        text-align: right;\n",
              "    }\n",
              "</style>\n",
              "<table border=\"1\" class=\"dataframe\">\n",
              "  <thead>\n",
              "    <tr style=\"text-align: right;\">\n",
              "      <th></th>\n",
              "      <th>token_str</th>\n",
              "      <th>score</th>\n",
              "      <th>sequence</th>\n",
              "    </tr>\n",
              "  </thead>\n",
              "  <tbody>\n",
              "    <tr>\n",
              "      <th>0</th>\n",
              "      <td>आहे</td>\n",
              "      <td>0.465601</td>\n",
              "      <td>मी महाराष्ट्रात आहे.</td>\n",
              "    </tr>\n",
              "    <tr>\n",
              "      <th>1</th>\n",
              "      <td>राहणार</td>\n",
              "      <td>0.079690</td>\n",
              "      <td>मी महाराष्ट्रात राहणार.</td>\n",
              "    </tr>\n",
              "    <tr>\n",
              "      <th>2</th>\n",
              "      <td>नाही</td>\n",
              "      <td>0.074001</td>\n",
              "      <td>मी महाराष्ट्रात नाही.</td>\n",
              "    </tr>\n",
              "    <tr>\n",
              "      <th>3</th>\n",
              "      <td>##च</td>\n",
              "      <td>0.050423</td>\n",
              "      <td>मी महाराष्ट्रातच.</td>\n",
              "    </tr>\n",
              "    <tr>\n",
              "      <th>4</th>\n",
              "      <td>राहतो</td>\n",
              "      <td>0.043737</td>\n",
              "      <td>मी महाराष्ट्रात राहतो.</td>\n",
              "    </tr>\n",
              "  </tbody>\n",
              "</table>\n",
              "</div>\n",
              "      <button class=\"colab-df-convert\" onclick=\"convertToInteractive('df-bcea21bb-def1-4c69-ba48-097e4b550879')\"\n",
              "              title=\"Convert this dataframe to an interactive table.\"\n",
              "              style=\"display:none;\">\n",
              "        \n",
              "  <svg xmlns=\"http://www.w3.org/2000/svg\" height=\"24px\"viewBox=\"0 0 24 24\"\n",
              "       width=\"24px\">\n",
              "    <path d=\"M0 0h24v24H0V0z\" fill=\"none\"/>\n",
              "    <path d=\"M18.56 5.44l.94 2.06.94-2.06 2.06-.94-2.06-.94-.94-2.06-.94 2.06-2.06.94zm-11 1L8.5 8.5l.94-2.06 2.06-.94-2.06-.94L8.5 2.5l-.94 2.06-2.06.94zm10 10l.94 2.06.94-2.06 2.06-.94-2.06-.94-.94-2.06-.94 2.06-2.06.94z\"/><path d=\"M17.41 7.96l-1.37-1.37c-.4-.4-.92-.59-1.43-.59-.52 0-1.04.2-1.43.59L10.3 9.45l-7.72 7.72c-.78.78-.78 2.05 0 2.83L4 21.41c.39.39.9.59 1.41.59.51 0 1.02-.2 1.41-.59l7.78-7.78 2.81-2.81c.8-.78.8-2.07 0-2.86zM5.41 20L4 18.59l7.72-7.72 1.47 1.35L5.41 20z\"/>\n",
              "  </svg>\n",
              "      </button>\n",
              "      \n",
              "  <style>\n",
              "    .colab-df-container {\n",
              "      display:flex;\n",
              "      flex-wrap:wrap;\n",
              "      gap: 12px;\n",
              "    }\n",
              "\n",
              "    .colab-df-convert {\n",
              "      background-color: #E8F0FE;\n",
              "      border: none;\n",
              "      border-radius: 50%;\n",
              "      cursor: pointer;\n",
              "      display: none;\n",
              "      fill: #1967D2;\n",
              "      height: 32px;\n",
              "      padding: 0 0 0 0;\n",
              "      width: 32px;\n",
              "    }\n",
              "\n",
              "    .colab-df-convert:hover {\n",
              "      background-color: #E2EBFA;\n",
              "      box-shadow: 0px 1px 2px rgba(60, 64, 67, 0.3), 0px 1px 3px 1px rgba(60, 64, 67, 0.15);\n",
              "      fill: #174EA6;\n",
              "    }\n",
              "\n",
              "    [theme=dark] .colab-df-convert {\n",
              "      background-color: #3B4455;\n",
              "      fill: #D2E3FC;\n",
              "    }\n",
              "\n",
              "    [theme=dark] .colab-df-convert:hover {\n",
              "      background-color: #434B5C;\n",
              "      box-shadow: 0px 1px 3px 1px rgba(0, 0, 0, 0.15);\n",
              "      filter: drop-shadow(0px 1px 2px rgba(0, 0, 0, 0.3));\n",
              "      fill: #FFFFFF;\n",
              "    }\n",
              "  </style>\n",
              "\n",
              "      <script>\n",
              "        const buttonEl =\n",
              "          document.querySelector('#df-bcea21bb-def1-4c69-ba48-097e4b550879 button.colab-df-convert');\n",
              "        buttonEl.style.display =\n",
              "          google.colab.kernel.accessAllowed ? 'block' : 'none';\n",
              "\n",
              "        async function convertToInteractive(key) {\n",
              "          const element = document.querySelector('#df-bcea21bb-def1-4c69-ba48-097e4b550879');\n",
              "          const dataTable =\n",
              "            await google.colab.kernel.invokeFunction('convertToInteractive',\n",
              "                                                     [key], {});\n",
              "          if (!dataTable) return;\n",
              "\n",
              "          const docLinkHtml = 'Like what you see? Visit the ' +\n",
              "            '<a target=\"_blank\" href=https://colab.research.google.com/notebooks/data_table.ipynb>data table notebook</a>'\n",
              "            + ' to learn more about interactive tables.';\n",
              "          element.innerHTML = '';\n",
              "          dataTable['output_type'] = 'display_data';\n",
              "          await google.colab.output.renderOutput(dataTable, element);\n",
              "          const docLink = document.createElement('div');\n",
              "          docLink.innerHTML = docLinkHtml;\n",
              "          element.appendChild(docLink);\n",
              "        }\n",
              "      </script>\n",
              "    </div>\n",
              "  </div>\n",
              "  "
            ]
          },
          "metadata": {},
          "execution_count": 151
        }
      ],
      "source": [
        "# Example:\n",
        "\n",
        "modelMaskFill.predict_mask(txt1, details = 'medium', as_dict = False)"
      ]
    },
    {
      "cell_type": "code",
      "execution_count": null,
      "metadata": {
        "colab": {
          "base_uri": "https://localhost:8080/",
          "height": 206
        },
        "outputId": "31fa075f-db62-424b-fe2f-142aee19ac49",
        "id": "B5PCwY_mz_Pp"
      },
      "outputs": [
        {
          "output_type": "execute_result",
          "data": {
            "text/plain": [
              "      score  token token_str                 sequence\n",
              "0  0.465601   1155       आहे     मी महाराष्ट्रात आहे.\n",
              "1  0.079690  92222    राहणार  मी महाराष्ट्रात राहणार.\n",
              "2  0.074001   1826      नाही    मी महाराष्ट्रात नाही.\n",
              "3  0.050423   1617       ##च        मी महाराष्ट्रातच.\n",
              "4  0.043737  62560     राहतो   मी महाराष्ट्रात राहतो."
            ],
            "text/html": [
              "\n",
              "  <div id=\"df-691665c9-1a05-4c5f-ac45-9dd5cf54d766\">\n",
              "    <div class=\"colab-df-container\">\n",
              "      <div>\n",
              "<style scoped>\n",
              "    .dataframe tbody tr th:only-of-type {\n",
              "        vertical-align: middle;\n",
              "    }\n",
              "\n",
              "    .dataframe tbody tr th {\n",
              "        vertical-align: top;\n",
              "    }\n",
              "\n",
              "    .dataframe thead th {\n",
              "        text-align: right;\n",
              "    }\n",
              "</style>\n",
              "<table border=\"1\" class=\"dataframe\">\n",
              "  <thead>\n",
              "    <tr style=\"text-align: right;\">\n",
              "      <th></th>\n",
              "      <th>score</th>\n",
              "      <th>token</th>\n",
              "      <th>token_str</th>\n",
              "      <th>sequence</th>\n",
              "    </tr>\n",
              "  </thead>\n",
              "  <tbody>\n",
              "    <tr>\n",
              "      <th>0</th>\n",
              "      <td>0.465601</td>\n",
              "      <td>1155</td>\n",
              "      <td>आहे</td>\n",
              "      <td>मी महाराष्ट्रात आहे.</td>\n",
              "    </tr>\n",
              "    <tr>\n",
              "      <th>1</th>\n",
              "      <td>0.079690</td>\n",
              "      <td>92222</td>\n",
              "      <td>राहणार</td>\n",
              "      <td>मी महाराष्ट्रात राहणार.</td>\n",
              "    </tr>\n",
              "    <tr>\n",
              "      <th>2</th>\n",
              "      <td>0.074001</td>\n",
              "      <td>1826</td>\n",
              "      <td>नाही</td>\n",
              "      <td>मी महाराष्ट्रात नाही.</td>\n",
              "    </tr>\n",
              "    <tr>\n",
              "      <th>3</th>\n",
              "      <td>0.050423</td>\n",
              "      <td>1617</td>\n",
              "      <td>##च</td>\n",
              "      <td>मी महाराष्ट्रातच.</td>\n",
              "    </tr>\n",
              "    <tr>\n",
              "      <th>4</th>\n",
              "      <td>0.043737</td>\n",
              "      <td>62560</td>\n",
              "      <td>राहतो</td>\n",
              "      <td>मी महाराष्ट्रात राहतो.</td>\n",
              "    </tr>\n",
              "  </tbody>\n",
              "</table>\n",
              "</div>\n",
              "      <button class=\"colab-df-convert\" onclick=\"convertToInteractive('df-691665c9-1a05-4c5f-ac45-9dd5cf54d766')\"\n",
              "              title=\"Convert this dataframe to an interactive table.\"\n",
              "              style=\"display:none;\">\n",
              "        \n",
              "  <svg xmlns=\"http://www.w3.org/2000/svg\" height=\"24px\"viewBox=\"0 0 24 24\"\n",
              "       width=\"24px\">\n",
              "    <path d=\"M0 0h24v24H0V0z\" fill=\"none\"/>\n",
              "    <path d=\"M18.56 5.44l.94 2.06.94-2.06 2.06-.94-2.06-.94-.94-2.06-.94 2.06-2.06.94zm-11 1L8.5 8.5l.94-2.06 2.06-.94-2.06-.94L8.5 2.5l-.94 2.06-2.06.94zm10 10l.94 2.06.94-2.06 2.06-.94-2.06-.94-.94-2.06-.94 2.06-2.06.94z\"/><path d=\"M17.41 7.96l-1.37-1.37c-.4-.4-.92-.59-1.43-.59-.52 0-1.04.2-1.43.59L10.3 9.45l-7.72 7.72c-.78.78-.78 2.05 0 2.83L4 21.41c.39.39.9.59 1.41.59.51 0 1.02-.2 1.41-.59l7.78-7.78 2.81-2.81c.8-.78.8-2.07 0-2.86zM5.41 20L4 18.59l7.72-7.72 1.47 1.35L5.41 20z\"/>\n",
              "  </svg>\n",
              "      </button>\n",
              "      \n",
              "  <style>\n",
              "    .colab-df-container {\n",
              "      display:flex;\n",
              "      flex-wrap:wrap;\n",
              "      gap: 12px;\n",
              "    }\n",
              "\n",
              "    .colab-df-convert {\n",
              "      background-color: #E8F0FE;\n",
              "      border: none;\n",
              "      border-radius: 50%;\n",
              "      cursor: pointer;\n",
              "      display: none;\n",
              "      fill: #1967D2;\n",
              "      height: 32px;\n",
              "      padding: 0 0 0 0;\n",
              "      width: 32px;\n",
              "    }\n",
              "\n",
              "    .colab-df-convert:hover {\n",
              "      background-color: #E2EBFA;\n",
              "      box-shadow: 0px 1px 2px rgba(60, 64, 67, 0.3), 0px 1px 3px 1px rgba(60, 64, 67, 0.15);\n",
              "      fill: #174EA6;\n",
              "    }\n",
              "\n",
              "    [theme=dark] .colab-df-convert {\n",
              "      background-color: #3B4455;\n",
              "      fill: #D2E3FC;\n",
              "    }\n",
              "\n",
              "    [theme=dark] .colab-df-convert:hover {\n",
              "      background-color: #434B5C;\n",
              "      box-shadow: 0px 1px 3px 1px rgba(0, 0, 0, 0.15);\n",
              "      filter: drop-shadow(0px 1px 2px rgba(0, 0, 0, 0.3));\n",
              "      fill: #FFFFFF;\n",
              "    }\n",
              "  </style>\n",
              "\n",
              "      <script>\n",
              "        const buttonEl =\n",
              "          document.querySelector('#df-691665c9-1a05-4c5f-ac45-9dd5cf54d766 button.colab-df-convert');\n",
              "        buttonEl.style.display =\n",
              "          google.colab.kernel.accessAllowed ? 'block' : 'none';\n",
              "\n",
              "        async function convertToInteractive(key) {\n",
              "          const element = document.querySelector('#df-691665c9-1a05-4c5f-ac45-9dd5cf54d766');\n",
              "          const dataTable =\n",
              "            await google.colab.kernel.invokeFunction('convertToInteractive',\n",
              "                                                     [key], {});\n",
              "          if (!dataTable) return;\n",
              "\n",
              "          const docLinkHtml = 'Like what you see? Visit the ' +\n",
              "            '<a target=\"_blank\" href=https://colab.research.google.com/notebooks/data_table.ipynb>data table notebook</a>'\n",
              "            + ' to learn more about interactive tables.';\n",
              "          element.innerHTML = '';\n",
              "          dataTable['output_type'] = 'display_data';\n",
              "          await google.colab.output.renderOutput(dataTable, element);\n",
              "          const docLink = document.createElement('div');\n",
              "          docLink.innerHTML = docLinkHtml;\n",
              "          element.appendChild(docLink);\n",
              "        }\n",
              "      </script>\n",
              "    </div>\n",
              "  </div>\n",
              "  "
            ]
          },
          "metadata": {},
          "execution_count": 152
        }
      ],
      "source": [
        "modelMaskFill.predict_mask(txt1, 'all', False)"
      ]
    },
    {
      "cell_type": "code",
      "execution_count": null,
      "metadata": {
        "colab": {
          "base_uri": "https://localhost:8080/"
        },
        "outputId": "228743a8-27f9-4010-c988-5e570d41329b",
        "id": "YxFvU0FBz_Pq"
      },
      "outputs": [
        {
          "output_type": "execute_result",
          "data": {
            "text/plain": [
              "[{'score': 0.46560075879096985,\n",
              "  'token': 1155,\n",
              "  'token_str': 'आहे',\n",
              "  'sequence': 'मी महाराष्ट्रात आहे.'},\n",
              " {'score': 0.07969045639038086,\n",
              "  'token': 92222,\n",
              "  'token_str': 'राहणार',\n",
              "  'sequence': 'मी महाराष्ट्रात राहणार.'},\n",
              " {'score': 0.07400081306695938,\n",
              "  'token': 1826,\n",
              "  'token_str': 'नाही',\n",
              "  'sequence': 'मी महाराष्ट्रात नाही.'},\n",
              " {'score': 0.050422605127096176,\n",
              "  'token': 1617,\n",
              "  'token_str': '##च',\n",
              "  'sequence': 'मी महाराष्ट्रातच.'},\n",
              " {'score': 0.04373728483915329,\n",
              "  'token': 62560,\n",
              "  'token_str': 'राहतो',\n",
              "  'sequence': 'मी महाराष्ट्रात राहतो.'}]"
            ]
          },
          "metadata": {},
          "execution_count": 153
        }
      ],
      "source": [
        "# Print as dictionary\n",
        "modelMaskFill.predict_mask(txt1, 'all', True)"
      ]
    },
    {
      "cell_type": "markdown",
      "metadata": {
        "id": "zvlL8c637oHz"
      },
      "source": [
        "***"
      ]
    },
    {
      "cell_type": "markdown",
      "metadata": {
        "id": "xOJigNfwUOEg"
      },
      "source": [
        "## **GPT Model**:"
      ]
    },
    {
      "cell_type": "code",
      "execution_count": null,
      "metadata": {
        "id": "dFSNIeq_Tn8G"
      },
      "outputs": [],
      "source": [
        "# create an object\n",
        "modelGPT = GPTModel()"
      ]
    },
    {
      "cell_type": "code",
      "execution_count": null,
      "metadata": {
        "id": "sQFxjCWfz_Pr",
        "outputId": "eb695c94-2a2a-4a08-87fd-e4d4cb3df7aa",
        "colab": {
          "base_uri": "https://localhost:8080/"
        }
      },
      "outputs": [
        {
          "output_type": "stream",
          "name": "stdout",
          "text": [
            " autocomplete models: \n",
            "\t marathi-gpt :  l3cube-pune/marathi-gpt\n",
            "\n",
            " tagger models: \n",
            "\t marathi-ner :  l3cube-pune/marathi-ner\n",
            "\n",
            " similarity models: \n",
            "\t marathi-sentence-similarity-sbert :  l3cube-pune/marathi-sentence-similarity-sbert\n",
            "\t marathi-sentence-bert-nli :  l3cube-pune/marathi-sentence-bert-nli\n",
            "\n",
            " sentiment models: \n",
            "\t MarathiSentiment :  l3cube-pune/MarathiSentiment\n",
            "\n",
            " mask_fill models: \n",
            "\t marathi-bert-v2 :  l3cube-pune/marathi-bert-v2\n",
            "\t marathi-roberta :  l3cube-pune/marathi-roberta\n",
            "\t marathi-albert :  l3cube-pune/marathi-albert\n",
            "\n",
            " hate models: \n",
            "\t mahahate-bert :  l3cube-pune/mahahate-bert\n",
            "\t mahahate-multi-roberta :  l3cube-pune/mahahate-multi-roberta\n"
          ]
        }
      ],
      "source": [
        "# list models present in it\n",
        "modelGPT.list_models()"
      ]
    },
    {
      "cell_type": "markdown",
      "metadata": {
        "id": "qjSrLM5BtG-w"
      },
      "source": [
        "### **Usage of GPT Model:**\n",
        "It provides two functionalities\n",
        "* **next_word:** Predicts the next word in the given sentence\n",
        "* **complete_sentence:** Predicts the remanining blank words in the given sentence and completes a sentence."
      ]
    },
    {
      "cell_type": "markdown",
      "metadata": {
        "id": "0FUfUT4tthSd"
      },
      "source": [
        "#### **next_word:**"
      ]
    },
    {
      "cell_type": "code",
      "execution_count": null,
      "metadata": {
        "colab": {
          "base_uri": "https://localhost:8080/",
          "height": 135
        },
        "id": "9aV-ET36Uhm3",
        "outputId": "e672debe-f337-4088-f467-c3a42d44f6f3"
      },
      "outputs": [
        {
          "output_type": "stream",
          "name": "stderr",
          "text": [
            "/usr/local/lib/python3.8/dist-packages/transformers/generation/utils.py:1186: UserWarning: You have modified the pretrained model configuration to control generation. This is a deprecated strategy to control generation and will be removed soon, in a future version. Please use a generation configuration file (see https://huggingface.co/docs/transformers/main_classes/text_generation)\n",
            "  warnings.warn(\n"
          ]
        },
        {
          "output_type": "execute_result",
          "data": {
            "text/plain": [
              "           generated_text\n",
              "0  मला शाळेत जायला  यायला"
            ],
            "text/html": [
              "\n",
              "  <div id=\"df-cd91a4e1-567e-478a-bcba-9bdd7c92075c\">\n",
              "    <div class=\"colab-df-container\">\n",
              "      <div>\n",
              "<style scoped>\n",
              "    .dataframe tbody tr th:only-of-type {\n",
              "        vertical-align: middle;\n",
              "    }\n",
              "\n",
              "    .dataframe tbody tr th {\n",
              "        vertical-align: top;\n",
              "    }\n",
              "\n",
              "    .dataframe thead th {\n",
              "        text-align: right;\n",
              "    }\n",
              "</style>\n",
              "<table border=\"1\" class=\"dataframe\">\n",
              "  <thead>\n",
              "    <tr style=\"text-align: right;\">\n",
              "      <th></th>\n",
              "      <th>generated_text</th>\n",
              "    </tr>\n",
              "  </thead>\n",
              "  <tbody>\n",
              "    <tr>\n",
              "      <th>0</th>\n",
              "      <td>मला शाळेत जायला  यायला</td>\n",
              "    </tr>\n",
              "  </tbody>\n",
              "</table>\n",
              "</div>\n",
              "      <button class=\"colab-df-convert\" onclick=\"convertToInteractive('df-cd91a4e1-567e-478a-bcba-9bdd7c92075c')\"\n",
              "              title=\"Convert this dataframe to an interactive table.\"\n",
              "              style=\"display:none;\">\n",
              "        \n",
              "  <svg xmlns=\"http://www.w3.org/2000/svg\" height=\"24px\"viewBox=\"0 0 24 24\"\n",
              "       width=\"24px\">\n",
              "    <path d=\"M0 0h24v24H0V0z\" fill=\"none\"/>\n",
              "    <path d=\"M18.56 5.44l.94 2.06.94-2.06 2.06-.94-2.06-.94-.94-2.06-.94 2.06-2.06.94zm-11 1L8.5 8.5l.94-2.06 2.06-.94-2.06-.94L8.5 2.5l-.94 2.06-2.06.94zm10 10l.94 2.06.94-2.06 2.06-.94-2.06-.94-.94-2.06-.94 2.06-2.06.94z\"/><path d=\"M17.41 7.96l-1.37-1.37c-.4-.4-.92-.59-1.43-.59-.52 0-1.04.2-1.43.59L10.3 9.45l-7.72 7.72c-.78.78-.78 2.05 0 2.83L4 21.41c.39.39.9.59 1.41.59.51 0 1.02-.2 1.41-.59l7.78-7.78 2.81-2.81c.8-.78.8-2.07 0-2.86zM5.41 20L4 18.59l7.72-7.72 1.47 1.35L5.41 20z\"/>\n",
              "  </svg>\n",
              "      </button>\n",
              "      \n",
              "  <style>\n",
              "    .colab-df-container {\n",
              "      display:flex;\n",
              "      flex-wrap:wrap;\n",
              "      gap: 12px;\n",
              "    }\n",
              "\n",
              "    .colab-df-convert {\n",
              "      background-color: #E8F0FE;\n",
              "      border: none;\n",
              "      border-radius: 50%;\n",
              "      cursor: pointer;\n",
              "      display: none;\n",
              "      fill: #1967D2;\n",
              "      height: 32px;\n",
              "      padding: 0 0 0 0;\n",
              "      width: 32px;\n",
              "    }\n",
              "\n",
              "    .colab-df-convert:hover {\n",
              "      background-color: #E2EBFA;\n",
              "      box-shadow: 0px 1px 2px rgba(60, 64, 67, 0.3), 0px 1px 3px 1px rgba(60, 64, 67, 0.15);\n",
              "      fill: #174EA6;\n",
              "    }\n",
              "\n",
              "    [theme=dark] .colab-df-convert {\n",
              "      background-color: #3B4455;\n",
              "      fill: #D2E3FC;\n",
              "    }\n",
              "\n",
              "    [theme=dark] .colab-df-convert:hover {\n",
              "      background-color: #434B5C;\n",
              "      box-shadow: 0px 1px 3px 1px rgba(0, 0, 0, 0.15);\n",
              "      filter: drop-shadow(0px 1px 2px rgba(0, 0, 0, 0.3));\n",
              "      fill: #FFFFFF;\n",
              "    }\n",
              "  </style>\n",
              "\n",
              "      <script>\n",
              "        const buttonEl =\n",
              "          document.querySelector('#df-cd91a4e1-567e-478a-bcba-9bdd7c92075c button.colab-df-convert');\n",
              "        buttonEl.style.display =\n",
              "          google.colab.kernel.accessAllowed ? 'block' : 'none';\n",
              "\n",
              "        async function convertToInteractive(key) {\n",
              "          const element = document.querySelector('#df-cd91a4e1-567e-478a-bcba-9bdd7c92075c');\n",
              "          const dataTable =\n",
              "            await google.colab.kernel.invokeFunction('convertToInteractive',\n",
              "                                                     [key], {});\n",
              "          if (!dataTable) return;\n",
              "\n",
              "          const docLinkHtml = 'Like what you see? Visit the ' +\n",
              "            '<a target=\"_blank\" href=https://colab.research.google.com/notebooks/data_table.ipynb>data table notebook</a>'\n",
              "            + ' to learn more about interactive tables.';\n",
              "          element.innerHTML = '';\n",
              "          dataTable['output_type'] = 'display_data';\n",
              "          await google.colab.output.renderOutput(dataTable, element);\n",
              "          const docLink = document.createElement('div');\n",
              "          docLink.innerHTML = docLinkHtml;\n",
              "          element.appendChild(docLink);\n",
              "        }\n",
              "      </script>\n",
              "    </div>\n",
              "  </div>\n",
              "  "
            ]
          },
          "metadata": {},
          "execution_count": 156
        }
      ],
      "source": [
        "# Example:\n",
        "\n",
        "txt2 = 'मला शाळेत जायला '\n",
        "# English Translation:\n",
        "# 'I want to go to school '\n",
        "\n",
        "modelGPT.next_word(txt2)"
      ]
    },
    {
      "cell_type": "markdown",
      "metadata": {
        "id": "PyX4bexGt3TS"
      },
      "source": [
        "Optional Parameter(s):\n",
        "* **num_of_predictions** (any number) in int - Default: 1\n",
        "  * Used to pass the number of predictions to be made"
      ]
    },
    {
      "cell_type": "code",
      "execution_count": null,
      "metadata": {
        "colab": {
          "base_uri": "https://localhost:8080/",
          "height": 175
        },
        "id": "8ocd4lwvU0sT",
        "outputId": "30017431-1380-4a35-98ac-f6f1c18af257"
      },
      "outputs": [
        {
          "output_type": "execute_result",
          "data": {
            "text/plain": [
              "           generated_text\n",
              "0      मला शाळेत जायला  च\n",
              "1  मला शाळेत जायला  जमणार\n",
              "2    मला शाळेत जायला  हवं\n",
              "3   मला शाळेत जायला  आवडत"
            ],
            "text/html": [
              "\n",
              "  <div id=\"df-b1d33994-8e3a-4e67-9add-387257e49b9d\">\n",
              "    <div class=\"colab-df-container\">\n",
              "      <div>\n",
              "<style scoped>\n",
              "    .dataframe tbody tr th:only-of-type {\n",
              "        vertical-align: middle;\n",
              "    }\n",
              "\n",
              "    .dataframe tbody tr th {\n",
              "        vertical-align: top;\n",
              "    }\n",
              "\n",
              "    .dataframe thead th {\n",
              "        text-align: right;\n",
              "    }\n",
              "</style>\n",
              "<table border=\"1\" class=\"dataframe\">\n",
              "  <thead>\n",
              "    <tr style=\"text-align: right;\">\n",
              "      <th></th>\n",
              "      <th>generated_text</th>\n",
              "    </tr>\n",
              "  </thead>\n",
              "  <tbody>\n",
              "    <tr>\n",
              "      <th>0</th>\n",
              "      <td>मला शाळेत जायला  च</td>\n",
              "    </tr>\n",
              "    <tr>\n",
              "      <th>1</th>\n",
              "      <td>मला शाळेत जायला  जमणार</td>\n",
              "    </tr>\n",
              "    <tr>\n",
              "      <th>2</th>\n",
              "      <td>मला शाळेत जायला  हवं</td>\n",
              "    </tr>\n",
              "    <tr>\n",
              "      <th>3</th>\n",
              "      <td>मला शाळेत जायला  आवडत</td>\n",
              "    </tr>\n",
              "  </tbody>\n",
              "</table>\n",
              "</div>\n",
              "      <button class=\"colab-df-convert\" onclick=\"convertToInteractive('df-b1d33994-8e3a-4e67-9add-387257e49b9d')\"\n",
              "              title=\"Convert this dataframe to an interactive table.\"\n",
              "              style=\"display:none;\">\n",
              "        \n",
              "  <svg xmlns=\"http://www.w3.org/2000/svg\" height=\"24px\"viewBox=\"0 0 24 24\"\n",
              "       width=\"24px\">\n",
              "    <path d=\"M0 0h24v24H0V0z\" fill=\"none\"/>\n",
              "    <path d=\"M18.56 5.44l.94 2.06.94-2.06 2.06-.94-2.06-.94-.94-2.06-.94 2.06-2.06.94zm-11 1L8.5 8.5l.94-2.06 2.06-.94-2.06-.94L8.5 2.5l-.94 2.06-2.06.94zm10 10l.94 2.06.94-2.06 2.06-.94-2.06-.94-.94-2.06-.94 2.06-2.06.94z\"/><path d=\"M17.41 7.96l-1.37-1.37c-.4-.4-.92-.59-1.43-.59-.52 0-1.04.2-1.43.59L10.3 9.45l-7.72 7.72c-.78.78-.78 2.05 0 2.83L4 21.41c.39.39.9.59 1.41.59.51 0 1.02-.2 1.41-.59l7.78-7.78 2.81-2.81c.8-.78.8-2.07 0-2.86zM5.41 20L4 18.59l7.72-7.72 1.47 1.35L5.41 20z\"/>\n",
              "  </svg>\n",
              "      </button>\n",
              "      \n",
              "  <style>\n",
              "    .colab-df-container {\n",
              "      display:flex;\n",
              "      flex-wrap:wrap;\n",
              "      gap: 12px;\n",
              "    }\n",
              "\n",
              "    .colab-df-convert {\n",
              "      background-color: #E8F0FE;\n",
              "      border: none;\n",
              "      border-radius: 50%;\n",
              "      cursor: pointer;\n",
              "      display: none;\n",
              "      fill: #1967D2;\n",
              "      height: 32px;\n",
              "      padding: 0 0 0 0;\n",
              "      width: 32px;\n",
              "    }\n",
              "\n",
              "    .colab-df-convert:hover {\n",
              "      background-color: #E2EBFA;\n",
              "      box-shadow: 0px 1px 2px rgba(60, 64, 67, 0.3), 0px 1px 3px 1px rgba(60, 64, 67, 0.15);\n",
              "      fill: #174EA6;\n",
              "    }\n",
              "\n",
              "    [theme=dark] .colab-df-convert {\n",
              "      background-color: #3B4455;\n",
              "      fill: #D2E3FC;\n",
              "    }\n",
              "\n",
              "    [theme=dark] .colab-df-convert:hover {\n",
              "      background-color: #434B5C;\n",
              "      box-shadow: 0px 1px 3px 1px rgba(0, 0, 0, 0.15);\n",
              "      filter: drop-shadow(0px 1px 2px rgba(0, 0, 0, 0.3));\n",
              "      fill: #FFFFFF;\n",
              "    }\n",
              "  </style>\n",
              "\n",
              "      <script>\n",
              "        const buttonEl =\n",
              "          document.querySelector('#df-b1d33994-8e3a-4e67-9add-387257e49b9d button.colab-df-convert');\n",
              "        buttonEl.style.display =\n",
              "          google.colab.kernel.accessAllowed ? 'block' : 'none';\n",
              "\n",
              "        async function convertToInteractive(key) {\n",
              "          const element = document.querySelector('#df-b1d33994-8e3a-4e67-9add-387257e49b9d');\n",
              "          const dataTable =\n",
              "            await google.colab.kernel.invokeFunction('convertToInteractive',\n",
              "                                                     [key], {});\n",
              "          if (!dataTable) return;\n",
              "\n",
              "          const docLinkHtml = 'Like what you see? Visit the ' +\n",
              "            '<a target=\"_blank\" href=https://colab.research.google.com/notebooks/data_table.ipynb>data table notebook</a>'\n",
              "            + ' to learn more about interactive tables.';\n",
              "          element.innerHTML = '';\n",
              "          dataTable['output_type'] = 'display_data';\n",
              "          await google.colab.output.renderOutput(dataTable, element);\n",
              "          const docLink = document.createElement('div');\n",
              "          docLink.innerHTML = docLinkHtml;\n",
              "          element.appendChild(docLink);\n",
              "        }\n",
              "      </script>\n",
              "    </div>\n",
              "  </div>\n",
              "  "
            ]
          },
          "metadata": {},
          "execution_count": 157
        }
      ],
      "source": [
        "# Example:\n",
        "\n",
        "modelGPT.next_word(txt2, num_of_predictions = 4)"
      ]
    },
    {
      "cell_type": "markdown",
      "metadata": {
        "id": "arsgKoYJufKB"
      },
      "source": [
        "#### **complete_sentence:**"
      ]
    },
    {
      "cell_type": "code",
      "execution_count": null,
      "metadata": {
        "colab": {
          "base_uri": "https://localhost:8080/",
          "height": 81
        },
        "id": "qY_rrG3VVL1u",
        "outputId": "f20f007a-75d3-4d8b-f8ff-6d5c5dc1ba7b"
      },
      "outputs": [
        {
          "output_type": "execute_result",
          "data": {
            "text/plain": [
              "                                                                                                                               generated_text\n",
              "0  आज खूप पाऊस पडतो हे खरेच आहे. आणि काही ठिकाणी झाडे तोड ल्यामुळे आणि काही ठिकाणी पाणी अड विण्यासाठी झाडे तोडली गेल्याने ही झाडे मोडून पडली."
            ],
            "text/html": [
              "\n",
              "  <div id=\"df-80b6de12-b49d-471b-9958-a0fb99671e19\">\n",
              "    <div class=\"colab-df-container\">\n",
              "      <div>\n",
              "<style scoped>\n",
              "    .dataframe tbody tr th:only-of-type {\n",
              "        vertical-align: middle;\n",
              "    }\n",
              "\n",
              "    .dataframe tbody tr th {\n",
              "        vertical-align: top;\n",
              "    }\n",
              "\n",
              "    .dataframe thead th {\n",
              "        text-align: right;\n",
              "    }\n",
              "</style>\n",
              "<table border=\"1\" class=\"dataframe\">\n",
              "  <thead>\n",
              "    <tr style=\"text-align: right;\">\n",
              "      <th></th>\n",
              "      <th>generated_text</th>\n",
              "    </tr>\n",
              "  </thead>\n",
              "  <tbody>\n",
              "    <tr>\n",
              "      <th>0</th>\n",
              "      <td>आज खूप पाऊस पडतो हे खरेच आहे. आणि काही ठिकाणी झाडे तोड ल्यामुळे आणि काही ठिकाणी पाणी अड विण्यासाठी झाडे तोडली गेल्याने ही झाडे मोडून पडली.</td>\n",
              "    </tr>\n",
              "  </tbody>\n",
              "</table>\n",
              "</div>\n",
              "      <button class=\"colab-df-convert\" onclick=\"convertToInteractive('df-80b6de12-b49d-471b-9958-a0fb99671e19')\"\n",
              "              title=\"Convert this dataframe to an interactive table.\"\n",
              "              style=\"display:none;\">\n",
              "        \n",
              "  <svg xmlns=\"http://www.w3.org/2000/svg\" height=\"24px\"viewBox=\"0 0 24 24\"\n",
              "       width=\"24px\">\n",
              "    <path d=\"M0 0h24v24H0V0z\" fill=\"none\"/>\n",
              "    <path d=\"M18.56 5.44l.94 2.06.94-2.06 2.06-.94-2.06-.94-.94-2.06-.94 2.06-2.06.94zm-11 1L8.5 8.5l.94-2.06 2.06-.94-2.06-.94L8.5 2.5l-.94 2.06-2.06.94zm10 10l.94 2.06.94-2.06 2.06-.94-2.06-.94-.94-2.06-.94 2.06-2.06.94z\"/><path d=\"M17.41 7.96l-1.37-1.37c-.4-.4-.92-.59-1.43-.59-.52 0-1.04.2-1.43.59L10.3 9.45l-7.72 7.72c-.78.78-.78 2.05 0 2.83L4 21.41c.39.39.9.59 1.41.59.51 0 1.02-.2 1.41-.59l7.78-7.78 2.81-2.81c.8-.78.8-2.07 0-2.86zM5.41 20L4 18.59l7.72-7.72 1.47 1.35L5.41 20z\"/>\n",
              "  </svg>\n",
              "      </button>\n",
              "      \n",
              "  <style>\n",
              "    .colab-df-container {\n",
              "      display:flex;\n",
              "      flex-wrap:wrap;\n",
              "      gap: 12px;\n",
              "    }\n",
              "\n",
              "    .colab-df-convert {\n",
              "      background-color: #E8F0FE;\n",
              "      border: none;\n",
              "      border-radius: 50%;\n",
              "      cursor: pointer;\n",
              "      display: none;\n",
              "      fill: #1967D2;\n",
              "      height: 32px;\n",
              "      padding: 0 0 0 0;\n",
              "      width: 32px;\n",
              "    }\n",
              "\n",
              "    .colab-df-convert:hover {\n",
              "      background-color: #E2EBFA;\n",
              "      box-shadow: 0px 1px 2px rgba(60, 64, 67, 0.3), 0px 1px 3px 1px rgba(60, 64, 67, 0.15);\n",
              "      fill: #174EA6;\n",
              "    }\n",
              "\n",
              "    [theme=dark] .colab-df-convert {\n",
              "      background-color: #3B4455;\n",
              "      fill: #D2E3FC;\n",
              "    }\n",
              "\n",
              "    [theme=dark] .colab-df-convert:hover {\n",
              "      background-color: #434B5C;\n",
              "      box-shadow: 0px 1px 3px 1px rgba(0, 0, 0, 0.15);\n",
              "      filter: drop-shadow(0px 1px 2px rgba(0, 0, 0, 0.3));\n",
              "      fill: #FFFFFF;\n",
              "    }\n",
              "  </style>\n",
              "\n",
              "      <script>\n",
              "        const buttonEl =\n",
              "          document.querySelector('#df-80b6de12-b49d-471b-9958-a0fb99671e19 button.colab-df-convert');\n",
              "        buttonEl.style.display =\n",
              "          google.colab.kernel.accessAllowed ? 'block' : 'none';\n",
              "\n",
              "        async function convertToInteractive(key) {\n",
              "          const element = document.querySelector('#df-80b6de12-b49d-471b-9958-a0fb99671e19');\n",
              "          const dataTable =\n",
              "            await google.colab.kernel.invokeFunction('convertToInteractive',\n",
              "                                                     [key], {});\n",
              "          if (!dataTable) return;\n",
              "\n",
              "          const docLinkHtml = 'Like what you see? Visit the ' +\n",
              "            '<a target=\"_blank\" href=https://colab.research.google.com/notebooks/data_table.ipynb>data table notebook</a>'\n",
              "            + ' to learn more about interactive tables.';\n",
              "          element.innerHTML = '';\n",
              "          dataTable['output_type'] = 'display_data';\n",
              "          await google.colab.output.renderOutput(dataTable, element);\n",
              "          const docLink = document.createElement('div');\n",
              "          docLink.innerHTML = docLinkHtml;\n",
              "          element.appendChild(docLink);\n",
              "        }\n",
              "      </script>\n",
              "    </div>\n",
              "  </div>\n",
              "  "
            ]
          },
          "metadata": {},
          "execution_count": 158
        }
      ],
      "source": [
        "# Example:\n",
        "\n",
        "txt3 = 'आज खूप पाऊस'\n",
        "# English Translation:\n",
        "# 'A lot of rain today'\n",
        "\n",
        "modelGPT.complete_sentence(txt3)"
      ]
    },
    {
      "cell_type": "markdown",
      "metadata": {
        "id": "WOimo_54vRvs"
      },
      "source": [
        "Optional Parameter(s):\n",
        "* **num_of_words** (any number) in int - Default: 25\n",
        "  * Used to pass the number of words to be filled\n",
        "* **num_of_predictions** (any number) in int - Default: 1\n",
        "  * Used to pass the number of predictions to be made"
      ]
    },
    {
      "cell_type": "code",
      "execution_count": null,
      "metadata": {
        "colab": {
          "base_uri": "https://localhost:8080/",
          "height": 175
        },
        "id": "L3Xb-IsXWuub",
        "outputId": "4cc86555-7fcb-4ea2-b2b7-382c92331a5c"
      },
      "outputs": [
        {
          "output_type": "execute_result",
          "data": {
            "text/plain": [
              "                                                           generated_text\n",
              "0                आज खूप पाऊस येतो आहे. सध्या हे सगळं सहन करण्याची गरज आहे\n",
              "1                  आज खूप पाऊस पडणार आहे. आता हा प्रकल्प च आता पूर्ण होईल\n",
              "2                  आज खूप पाऊस पडत आहे आणि पाणी पि ताच येत नाही. त्यामुळे\n",
              "3  आज खूप पाऊस पडल्यावर आज पाऊस पडणार अशी चर्चा गेल्या १० वर्षांपासून होत"
            ],
            "text/html": [
              "\n",
              "  <div id=\"df-f2c4a13a-78fa-428a-bfa8-2eb2be2fcce9\">\n",
              "    <div class=\"colab-df-container\">\n",
              "      <div>\n",
              "<style scoped>\n",
              "    .dataframe tbody tr th:only-of-type {\n",
              "        vertical-align: middle;\n",
              "    }\n",
              "\n",
              "    .dataframe tbody tr th {\n",
              "        vertical-align: top;\n",
              "    }\n",
              "\n",
              "    .dataframe thead th {\n",
              "        text-align: right;\n",
              "    }\n",
              "</style>\n",
              "<table border=\"1\" class=\"dataframe\">\n",
              "  <thead>\n",
              "    <tr style=\"text-align: right;\">\n",
              "      <th></th>\n",
              "      <th>generated_text</th>\n",
              "    </tr>\n",
              "  </thead>\n",
              "  <tbody>\n",
              "    <tr>\n",
              "      <th>0</th>\n",
              "      <td>आज खूप पाऊस येतो आहे. सध्या हे सगळं सहन करण्याची गरज आहे</td>\n",
              "    </tr>\n",
              "    <tr>\n",
              "      <th>1</th>\n",
              "      <td>आज खूप पाऊस पडणार आहे. आता हा प्रकल्प च आता पूर्ण होईल</td>\n",
              "    </tr>\n",
              "    <tr>\n",
              "      <th>2</th>\n",
              "      <td>आज खूप पाऊस पडत आहे आणि पाणी पि ताच येत नाही. त्यामुळे</td>\n",
              "    </tr>\n",
              "    <tr>\n",
              "      <th>3</th>\n",
              "      <td>आज खूप पाऊस पडल्यावर आज पाऊस पडणार अशी चर्चा गेल्या १० वर्षांपासून होत</td>\n",
              "    </tr>\n",
              "  </tbody>\n",
              "</table>\n",
              "</div>\n",
              "      <button class=\"colab-df-convert\" onclick=\"convertToInteractive('df-f2c4a13a-78fa-428a-bfa8-2eb2be2fcce9')\"\n",
              "              title=\"Convert this dataframe to an interactive table.\"\n",
              "              style=\"display:none;\">\n",
              "        \n",
              "  <svg xmlns=\"http://www.w3.org/2000/svg\" height=\"24px\"viewBox=\"0 0 24 24\"\n",
              "       width=\"24px\">\n",
              "    <path d=\"M0 0h24v24H0V0z\" fill=\"none\"/>\n",
              "    <path d=\"M18.56 5.44l.94 2.06.94-2.06 2.06-.94-2.06-.94-.94-2.06-.94 2.06-2.06.94zm-11 1L8.5 8.5l.94-2.06 2.06-.94-2.06-.94L8.5 2.5l-.94 2.06-2.06.94zm10 10l.94 2.06.94-2.06 2.06-.94-2.06-.94-.94-2.06-.94 2.06-2.06.94z\"/><path d=\"M17.41 7.96l-1.37-1.37c-.4-.4-.92-.59-1.43-.59-.52 0-1.04.2-1.43.59L10.3 9.45l-7.72 7.72c-.78.78-.78 2.05 0 2.83L4 21.41c.39.39.9.59 1.41.59.51 0 1.02-.2 1.41-.59l7.78-7.78 2.81-2.81c.8-.78.8-2.07 0-2.86zM5.41 20L4 18.59l7.72-7.72 1.47 1.35L5.41 20z\"/>\n",
              "  </svg>\n",
              "      </button>\n",
              "      \n",
              "  <style>\n",
              "    .colab-df-container {\n",
              "      display:flex;\n",
              "      flex-wrap:wrap;\n",
              "      gap: 12px;\n",
              "    }\n",
              "\n",
              "    .colab-df-convert {\n",
              "      background-color: #E8F0FE;\n",
              "      border: none;\n",
              "      border-radius: 50%;\n",
              "      cursor: pointer;\n",
              "      display: none;\n",
              "      fill: #1967D2;\n",
              "      height: 32px;\n",
              "      padding: 0 0 0 0;\n",
              "      width: 32px;\n",
              "    }\n",
              "\n",
              "    .colab-df-convert:hover {\n",
              "      background-color: #E2EBFA;\n",
              "      box-shadow: 0px 1px 2px rgba(60, 64, 67, 0.3), 0px 1px 3px 1px rgba(60, 64, 67, 0.15);\n",
              "      fill: #174EA6;\n",
              "    }\n",
              "\n",
              "    [theme=dark] .colab-df-convert {\n",
              "      background-color: #3B4455;\n",
              "      fill: #D2E3FC;\n",
              "    }\n",
              "\n",
              "    [theme=dark] .colab-df-convert:hover {\n",
              "      background-color: #434B5C;\n",
              "      box-shadow: 0px 1px 3px 1px rgba(0, 0, 0, 0.15);\n",
              "      filter: drop-shadow(0px 1px 2px rgba(0, 0, 0, 0.3));\n",
              "      fill: #FFFFFF;\n",
              "    }\n",
              "  </style>\n",
              "\n",
              "      <script>\n",
              "        const buttonEl =\n",
              "          document.querySelector('#df-f2c4a13a-78fa-428a-bfa8-2eb2be2fcce9 button.colab-df-convert');\n",
              "        buttonEl.style.display =\n",
              "          google.colab.kernel.accessAllowed ? 'block' : 'none';\n",
              "\n",
              "        async function convertToInteractive(key) {\n",
              "          const element = document.querySelector('#df-f2c4a13a-78fa-428a-bfa8-2eb2be2fcce9');\n",
              "          const dataTable =\n",
              "            await google.colab.kernel.invokeFunction('convertToInteractive',\n",
              "                                                     [key], {});\n",
              "          if (!dataTable) return;\n",
              "\n",
              "          const docLinkHtml = 'Like what you see? Visit the ' +\n",
              "            '<a target=\"_blank\" href=https://colab.research.google.com/notebooks/data_table.ipynb>data table notebook</a>'\n",
              "            + ' to learn more about interactive tables.';\n",
              "          element.innerHTML = '';\n",
              "          dataTable['output_type'] = 'display_data';\n",
              "          await google.colab.output.renderOutput(dataTable, element);\n",
              "          const docLink = document.createElement('div');\n",
              "          docLink.innerHTML = docLinkHtml;\n",
              "          element.appendChild(docLink);\n",
              "        }\n",
              "      </script>\n",
              "    </div>\n",
              "  </div>\n",
              "  "
            ]
          },
          "metadata": {},
          "execution_count": 159
        }
      ],
      "source": [
        "# Example:\n",
        "\n",
        "modelGPT.complete_sentence(txt3, num_of_words = 10, num_of_predictions = 4)"
      ]
    },
    {
      "cell_type": "markdown",
      "metadata": {
        "id": "js2Tflqm7ibK"
      },
      "source": [
        "***"
      ]
    },
    {
      "cell_type": "markdown",
      "metadata": {
        "id": "xHZDkZPVY1Cq"
      },
      "source": [
        "## **Hate Model:**"
      ]
    },
    {
      "cell_type": "code",
      "execution_count": null,
      "metadata": {
        "id": "wdRmlgU2XTEm"
      },
      "outputs": [],
      "source": [
        "# create an object\n",
        "modelHate = HateModel()"
      ]
    },
    {
      "cell_type": "code",
      "execution_count": null,
      "metadata": {
        "colab": {
          "base_uri": "https://localhost:8080/"
        },
        "id": "r91eZM0px_H6",
        "outputId": "e3ac13cb-0e88-4051-dba2-546f2939bbfe"
      },
      "outputs": [
        {
          "output_type": "stream",
          "name": "stdout",
          "text": [
            " hate models: \n",
            "\t mahahate-bert :  l3cube-pune/mahahate-bert\n",
            "\t mahahate-multi-roberta :  l3cube-pune/mahahate-multi-roberta\n",
            "\n",
            " tagger models: \n",
            "\t marathi-ner :  l3cube-pune/marathi-ner\n",
            "\n",
            " autocomplete models: \n",
            "\t marathi-gpt :  l3cube-pune/marathi-gpt\n",
            "\n",
            " similarity models: \n",
            "\t marathi-sentence-similarity-sbert :  l3cube-pune/marathi-sentence-similarity-sbert\n",
            "\t marathi-sentence-bert-nli :  l3cube-pune/marathi-sentence-bert-nli\n",
            "\n",
            " sentiment models: \n",
            "\t MarathiSentiment :  l3cube-pune/MarathiSentiment\n",
            "\n",
            " mask_fill models: \n",
            "\t marathi-bert-v2 :  l3cube-pune/marathi-bert-v2\n",
            "\t marathi-roberta :  l3cube-pune/marathi-roberta\n",
            "\t marathi-albert :  l3cube-pune/marathi-albert\n"
          ]
        }
      ],
      "source": [
        "# list models present in it\n",
        "modelHate.list_models() # this loads with default model. Here, mahahate-bert"
      ]
    },
    {
      "cell_type": "markdown",
      "metadata": {
        "id": "9zLRb69ByKRe"
      },
      "source": [
        "#### **To change the default model:**\n",
        "Pass the name of the model as the argument:\n",
        "\n",
        "modelHate = HateModel('name of model')"
      ]
    },
    {
      "cell_type": "code",
      "execution_count": null,
      "metadata": {
        "id": "n3Ki_cnjyJrD"
      },
      "outputs": [],
      "source": [
        "# Example:\n",
        "\n",
        "modelHate2 = HateModel('mahahate-multi-roberta')"
      ]
    },
    {
      "cell_type": "markdown",
      "metadata": {
        "id": "kdGFjfNVyxh5"
      },
      "source": [
        "### **Usage of HateModel:**\n",
        "It provides one functionality\n",
        "* **get_hate_score:** Gives the hate score of a sentence. It gives the scores as hate (1) and non-hate (0)"
      ]
    },
    {
      "cell_type": "code",
      "execution_count": null,
      "metadata": {
        "colab": {
          "base_uri": "https://localhost:8080/",
          "height": 81
        },
        "outputId": "9d7f838c-200a-496e-aeb1-fb2ac07260ae",
        "id": "N1exSzWBz_Pw"
      },
      "outputs": [
        {
          "output_type": "execute_result",
          "data": {
            "text/plain": [
              "  label     score\n",
              "0  hate  0.966924"
            ],
            "text/html": [
              "\n",
              "  <div id=\"df-79b87cb9-c7e8-463a-bcba-445674edd705\">\n",
              "    <div class=\"colab-df-container\">\n",
              "      <div>\n",
              "<style scoped>\n",
              "    .dataframe tbody tr th:only-of-type {\n",
              "        vertical-align: middle;\n",
              "    }\n",
              "\n",
              "    .dataframe tbody tr th {\n",
              "        vertical-align: top;\n",
              "    }\n",
              "\n",
              "    .dataframe thead th {\n",
              "        text-align: right;\n",
              "    }\n",
              "</style>\n",
              "<table border=\"1\" class=\"dataframe\">\n",
              "  <thead>\n",
              "    <tr style=\"text-align: right;\">\n",
              "      <th></th>\n",
              "      <th>label</th>\n",
              "      <th>score</th>\n",
              "    </tr>\n",
              "  </thead>\n",
              "  <tbody>\n",
              "    <tr>\n",
              "      <th>0</th>\n",
              "      <td>hate</td>\n",
              "      <td>0.966924</td>\n",
              "    </tr>\n",
              "  </tbody>\n",
              "</table>\n",
              "</div>\n",
              "      <button class=\"colab-df-convert\" onclick=\"convertToInteractive('df-79b87cb9-c7e8-463a-bcba-445674edd705')\"\n",
              "              title=\"Convert this dataframe to an interactive table.\"\n",
              "              style=\"display:none;\">\n",
              "        \n",
              "  <svg xmlns=\"http://www.w3.org/2000/svg\" height=\"24px\"viewBox=\"0 0 24 24\"\n",
              "       width=\"24px\">\n",
              "    <path d=\"M0 0h24v24H0V0z\" fill=\"none\"/>\n",
              "    <path d=\"M18.56 5.44l.94 2.06.94-2.06 2.06-.94-2.06-.94-.94-2.06-.94 2.06-2.06.94zm-11 1L8.5 8.5l.94-2.06 2.06-.94-2.06-.94L8.5 2.5l-.94 2.06-2.06.94zm10 10l.94 2.06.94-2.06 2.06-.94-2.06-.94-.94-2.06-.94 2.06-2.06.94z\"/><path d=\"M17.41 7.96l-1.37-1.37c-.4-.4-.92-.59-1.43-.59-.52 0-1.04.2-1.43.59L10.3 9.45l-7.72 7.72c-.78.78-.78 2.05 0 2.83L4 21.41c.39.39.9.59 1.41.59.51 0 1.02-.2 1.41-.59l7.78-7.78 2.81-2.81c.8-.78.8-2.07 0-2.86zM5.41 20L4 18.59l7.72-7.72 1.47 1.35L5.41 20z\"/>\n",
              "  </svg>\n",
              "      </button>\n",
              "      \n",
              "  <style>\n",
              "    .colab-df-container {\n",
              "      display:flex;\n",
              "      flex-wrap:wrap;\n",
              "      gap: 12px;\n",
              "    }\n",
              "\n",
              "    .colab-df-convert {\n",
              "      background-color: #E8F0FE;\n",
              "      border: none;\n",
              "      border-radius: 50%;\n",
              "      cursor: pointer;\n",
              "      display: none;\n",
              "      fill: #1967D2;\n",
              "      height: 32px;\n",
              "      padding: 0 0 0 0;\n",
              "      width: 32px;\n",
              "    }\n",
              "\n",
              "    .colab-df-convert:hover {\n",
              "      background-color: #E2EBFA;\n",
              "      box-shadow: 0px 1px 2px rgba(60, 64, 67, 0.3), 0px 1px 3px 1px rgba(60, 64, 67, 0.15);\n",
              "      fill: #174EA6;\n",
              "    }\n",
              "\n",
              "    [theme=dark] .colab-df-convert {\n",
              "      background-color: #3B4455;\n",
              "      fill: #D2E3FC;\n",
              "    }\n",
              "\n",
              "    [theme=dark] .colab-df-convert:hover {\n",
              "      background-color: #434B5C;\n",
              "      box-shadow: 0px 1px 3px 1px rgba(0, 0, 0, 0.15);\n",
              "      filter: drop-shadow(0px 1px 2px rgba(0, 0, 0, 0.3));\n",
              "      fill: #FFFFFF;\n",
              "    }\n",
              "  </style>\n",
              "\n",
              "      <script>\n",
              "        const buttonEl =\n",
              "          document.querySelector('#df-79b87cb9-c7e8-463a-bcba-445674edd705 button.colab-df-convert');\n",
              "        buttonEl.style.display =\n",
              "          google.colab.kernel.accessAllowed ? 'block' : 'none';\n",
              "\n",
              "        async function convertToInteractive(key) {\n",
              "          const element = document.querySelector('#df-79b87cb9-c7e8-463a-bcba-445674edd705');\n",
              "          const dataTable =\n",
              "            await google.colab.kernel.invokeFunction('convertToInteractive',\n",
              "                                                     [key], {});\n",
              "          if (!dataTable) return;\n",
              "\n",
              "          const docLinkHtml = 'Like what you see? Visit the ' +\n",
              "            '<a target=\"_blank\" href=https://colab.research.google.com/notebooks/data_table.ipynb>data table notebook</a>'\n",
              "            + ' to learn more about interactive tables.';\n",
              "          element.innerHTML = '';\n",
              "          dataTable['output_type'] = 'display_data';\n",
              "          await google.colab.output.renderOutput(dataTable, element);\n",
              "          const docLink = document.createElement('div');\n",
              "          docLink.innerHTML = docLinkHtml;\n",
              "          element.appendChild(docLink);\n",
              "        }\n",
              "      </script>\n",
              "    </div>\n",
              "  </div>\n",
              "  "
            ]
          },
          "metadata": {},
          "execution_count": 163
        }
      ],
      "source": [
        "# Example:\n",
        "\n",
        "txt4 = 'ती मूर्ख आहे. मला ती आवडत नाही.'\n",
        "# English Translation:\n",
        "# 'She is stupid. I don't like her.'\n",
        "\n",
        "modelHate.get_hate_score(txt4)"
      ]
    },
    {
      "cell_type": "code",
      "execution_count": null,
      "metadata": {
        "colab": {
          "base_uri": "https://localhost:8080/",
          "height": 81
        },
        "outputId": "31ced281-d439-45da-8514-12bf27015208",
        "id": "F0kd0528z_Pw"
      },
      "outputs": [
        {
          "output_type": "execute_result",
          "data": {
            "text/plain": [
              "      label     score\n",
              "0  non-hate  0.999377"
            ],
            "text/html": [
              "\n",
              "  <div id=\"df-185ee46a-5251-429b-a501-d838ba87c010\">\n",
              "    <div class=\"colab-df-container\">\n",
              "      <div>\n",
              "<style scoped>\n",
              "    .dataframe tbody tr th:only-of-type {\n",
              "        vertical-align: middle;\n",
              "    }\n",
              "\n",
              "    .dataframe tbody tr th {\n",
              "        vertical-align: top;\n",
              "    }\n",
              "\n",
              "    .dataframe thead th {\n",
              "        text-align: right;\n",
              "    }\n",
              "</style>\n",
              "<table border=\"1\" class=\"dataframe\">\n",
              "  <thead>\n",
              "    <tr style=\"text-align: right;\">\n",
              "      <th></th>\n",
              "      <th>label</th>\n",
              "      <th>score</th>\n",
              "    </tr>\n",
              "  </thead>\n",
              "  <tbody>\n",
              "    <tr>\n",
              "      <th>0</th>\n",
              "      <td>non-hate</td>\n",
              "      <td>0.999377</td>\n",
              "    </tr>\n",
              "  </tbody>\n",
              "</table>\n",
              "</div>\n",
              "      <button class=\"colab-df-convert\" onclick=\"convertToInteractive('df-185ee46a-5251-429b-a501-d838ba87c010')\"\n",
              "              title=\"Convert this dataframe to an interactive table.\"\n",
              "              style=\"display:none;\">\n",
              "        \n",
              "  <svg xmlns=\"http://www.w3.org/2000/svg\" height=\"24px\"viewBox=\"0 0 24 24\"\n",
              "       width=\"24px\">\n",
              "    <path d=\"M0 0h24v24H0V0z\" fill=\"none\"/>\n",
              "    <path d=\"M18.56 5.44l.94 2.06.94-2.06 2.06-.94-2.06-.94-.94-2.06-.94 2.06-2.06.94zm-11 1L8.5 8.5l.94-2.06 2.06-.94-2.06-.94L8.5 2.5l-.94 2.06-2.06.94zm10 10l.94 2.06.94-2.06 2.06-.94-2.06-.94-.94-2.06-.94 2.06-2.06.94z\"/><path d=\"M17.41 7.96l-1.37-1.37c-.4-.4-.92-.59-1.43-.59-.52 0-1.04.2-1.43.59L10.3 9.45l-7.72 7.72c-.78.78-.78 2.05 0 2.83L4 21.41c.39.39.9.59 1.41.59.51 0 1.02-.2 1.41-.59l7.78-7.78 2.81-2.81c.8-.78.8-2.07 0-2.86zM5.41 20L4 18.59l7.72-7.72 1.47 1.35L5.41 20z\"/>\n",
              "  </svg>\n",
              "      </button>\n",
              "      \n",
              "  <style>\n",
              "    .colab-df-container {\n",
              "      display:flex;\n",
              "      flex-wrap:wrap;\n",
              "      gap: 12px;\n",
              "    }\n",
              "\n",
              "    .colab-df-convert {\n",
              "      background-color: #E8F0FE;\n",
              "      border: none;\n",
              "      border-radius: 50%;\n",
              "      cursor: pointer;\n",
              "      display: none;\n",
              "      fill: #1967D2;\n",
              "      height: 32px;\n",
              "      padding: 0 0 0 0;\n",
              "      width: 32px;\n",
              "    }\n",
              "\n",
              "    .colab-df-convert:hover {\n",
              "      background-color: #E2EBFA;\n",
              "      box-shadow: 0px 1px 2px rgba(60, 64, 67, 0.3), 0px 1px 3px 1px rgba(60, 64, 67, 0.15);\n",
              "      fill: #174EA6;\n",
              "    }\n",
              "\n",
              "    [theme=dark] .colab-df-convert {\n",
              "      background-color: #3B4455;\n",
              "      fill: #D2E3FC;\n",
              "    }\n",
              "\n",
              "    [theme=dark] .colab-df-convert:hover {\n",
              "      background-color: #434B5C;\n",
              "      box-shadow: 0px 1px 3px 1px rgba(0, 0, 0, 0.15);\n",
              "      filter: drop-shadow(0px 1px 2px rgba(0, 0, 0, 0.3));\n",
              "      fill: #FFFFFF;\n",
              "    }\n",
              "  </style>\n",
              "\n",
              "      <script>\n",
              "        const buttonEl =\n",
              "          document.querySelector('#df-185ee46a-5251-429b-a501-d838ba87c010 button.colab-df-convert');\n",
              "        buttonEl.style.display =\n",
              "          google.colab.kernel.accessAllowed ? 'block' : 'none';\n",
              "\n",
              "        async function convertToInteractive(key) {\n",
              "          const element = document.querySelector('#df-185ee46a-5251-429b-a501-d838ba87c010');\n",
              "          const dataTable =\n",
              "            await google.colab.kernel.invokeFunction('convertToInteractive',\n",
              "                                                     [key], {});\n",
              "          if (!dataTable) return;\n",
              "\n",
              "          const docLinkHtml = 'Like what you see? Visit the ' +\n",
              "            '<a target=\"_blank\" href=https://colab.research.google.com/notebooks/data_table.ipynb>data table notebook</a>'\n",
              "            + ' to learn more about interactive tables.';\n",
              "          element.innerHTML = '';\n",
              "          dataTable['output_type'] = 'display_data';\n",
              "          await google.colab.output.renderOutput(dataTable, element);\n",
              "          const docLink = document.createElement('div');\n",
              "          docLink.innerHTML = docLinkHtml;\n",
              "          element.appendChild(docLink);\n",
              "        }\n",
              "      </script>\n",
              "    </div>\n",
              "  </div>\n",
              "  "
            ]
          },
          "metadata": {},
          "execution_count": 164
        }
      ],
      "source": [
        "# Example\n",
        "txt5 = 'मला तुझे खूप कौतुक वाटते.'\n",
        "# English Translation:\n",
        "# 'I appreciate you so much.'\n",
        "\n",
        "modelHate.get_hate_score(txt5)"
      ]
    },
    {
      "cell_type": "markdown",
      "metadata": {
        "id": "uq1qUT-S7gg9"
      },
      "source": [
        "***"
      ]
    },
    {
      "cell_type": "markdown",
      "metadata": {
        "id": "b-Mfe4Wabixu"
      },
      "source": [
        "## **NER Model:**"
      ]
    },
    {
      "cell_type": "code",
      "execution_count": null,
      "metadata": {
        "id": "5DQE184_aJfT"
      },
      "outputs": [],
      "source": [
        "# create an object:\n",
        "modelNER = NERModel()"
      ]
    },
    {
      "cell_type": "code",
      "execution_count": null,
      "metadata": {
        "colab": {
          "base_uri": "https://localhost:8080/"
        },
        "id": "geC1zT8m3RoS",
        "outputId": "a65cb86d-3490-437a-b918-c8ac4cde5fd5"
      },
      "outputs": [
        {
          "output_type": "stream",
          "name": "stdout",
          "text": [
            " tagger models: \n",
            "\t marathi-ner :  l3cube-pune/marathi-ner\n",
            "\n",
            " autocomplete models: \n",
            "\t marathi-gpt :  l3cube-pune/marathi-gpt\n",
            "\n",
            " similarity models: \n",
            "\t marathi-sentence-similarity-sbert :  l3cube-pune/marathi-sentence-similarity-sbert\n",
            "\t marathi-sentence-bert-nli :  l3cube-pune/marathi-sentence-bert-nli\n",
            "\n",
            " sentiment models: \n",
            "\t MarathiSentiment :  l3cube-pune/MarathiSentiment\n",
            "\n",
            " mask_fill models: \n",
            "\t marathi-bert-v2 :  l3cube-pune/marathi-bert-v2\n",
            "\t marathi-roberta :  l3cube-pune/marathi-roberta\n",
            "\t marathi-albert :  l3cube-pune/marathi-albert\n",
            "\n",
            " hate models: \n",
            "\t mahahate-bert :  l3cube-pune/mahahate-bert\n",
            "\t mahahate-multi-roberta :  l3cube-pune/mahahate-multi-roberta\n"
          ]
        }
      ],
      "source": [
        "# list models present in it\n",
        "modelNER.list_models()"
      ]
    },
    {
      "cell_type": "markdown",
      "metadata": {
        "id": "5fwsnseG3Wc6"
      },
      "source": [
        "### **Usage of NER Model:**\n",
        "It provides two functionalities\n",
        "* **get_token_labels:** Gives the polarity score of words in a sentence along with the tokens\n",
        "* **get_tokens:** Gives tokens for each word"
      ]
    },
    {
      "cell_type": "markdown",
      "metadata": {
        "id": "OlaggFX-4AZd"
      },
      "source": [
        "#### **get_token_labels:**"
      ]
    },
    {
      "cell_type": "code",
      "execution_count": null,
      "metadata": {
        "colab": {
          "base_uri": "https://localhost:8080/",
          "height": 206
        },
        "id": "PvW2qIKQgP5F",
        "outputId": "6176e92d-d55f-4dd7-d6e2-0753b14cc7a2"
      },
      "outputs": [
        {
          "output_type": "execute_result",
          "data": {
            "text/plain": [
              "      word entity_group\n",
              "0       १७         Date\n",
              "1  तारखेला        Other\n",
              "2   आदित्य       Person\n",
              "3  पुण्यात     Location\n",
              "4     आला.        Other"
            ],
            "text/html": [
              "\n",
              "  <div id=\"df-a7efa6ee-92ee-4ef2-9292-03c14d9f010b\">\n",
              "    <div class=\"colab-df-container\">\n",
              "      <div>\n",
              "<style scoped>\n",
              "    .dataframe tbody tr th:only-of-type {\n",
              "        vertical-align: middle;\n",
              "    }\n",
              "\n",
              "    .dataframe tbody tr th {\n",
              "        vertical-align: top;\n",
              "    }\n",
              "\n",
              "    .dataframe thead th {\n",
              "        text-align: right;\n",
              "    }\n",
              "</style>\n",
              "<table border=\"1\" class=\"dataframe\">\n",
              "  <thead>\n",
              "    <tr style=\"text-align: right;\">\n",
              "      <th></th>\n",
              "      <th>word</th>\n",
              "      <th>entity_group</th>\n",
              "    </tr>\n",
              "  </thead>\n",
              "  <tbody>\n",
              "    <tr>\n",
              "      <th>0</th>\n",
              "      <td>१७</td>\n",
              "      <td>Date</td>\n",
              "    </tr>\n",
              "    <tr>\n",
              "      <th>1</th>\n",
              "      <td>तारखेला</td>\n",
              "      <td>Other</td>\n",
              "    </tr>\n",
              "    <tr>\n",
              "      <th>2</th>\n",
              "      <td>आदित्य</td>\n",
              "      <td>Person</td>\n",
              "    </tr>\n",
              "    <tr>\n",
              "      <th>3</th>\n",
              "      <td>पुण्यात</td>\n",
              "      <td>Location</td>\n",
              "    </tr>\n",
              "    <tr>\n",
              "      <th>4</th>\n",
              "      <td>आला.</td>\n",
              "      <td>Other</td>\n",
              "    </tr>\n",
              "  </tbody>\n",
              "</table>\n",
              "</div>\n",
              "      <button class=\"colab-df-convert\" onclick=\"convertToInteractive('df-a7efa6ee-92ee-4ef2-9292-03c14d9f010b')\"\n",
              "              title=\"Convert this dataframe to an interactive table.\"\n",
              "              style=\"display:none;\">\n",
              "        \n",
              "  <svg xmlns=\"http://www.w3.org/2000/svg\" height=\"24px\"viewBox=\"0 0 24 24\"\n",
              "       width=\"24px\">\n",
              "    <path d=\"M0 0h24v24H0V0z\" fill=\"none\"/>\n",
              "    <path d=\"M18.56 5.44l.94 2.06.94-2.06 2.06-.94-2.06-.94-.94-2.06-.94 2.06-2.06.94zm-11 1L8.5 8.5l.94-2.06 2.06-.94-2.06-.94L8.5 2.5l-.94 2.06-2.06.94zm10 10l.94 2.06.94-2.06 2.06-.94-2.06-.94-.94-2.06-.94 2.06-2.06.94z\"/><path d=\"M17.41 7.96l-1.37-1.37c-.4-.4-.92-.59-1.43-.59-.52 0-1.04.2-1.43.59L10.3 9.45l-7.72 7.72c-.78.78-.78 2.05 0 2.83L4 21.41c.39.39.9.59 1.41.59.51 0 1.02-.2 1.41-.59l7.78-7.78 2.81-2.81c.8-.78.8-2.07 0-2.86zM5.41 20L4 18.59l7.72-7.72 1.47 1.35L5.41 20z\"/>\n",
              "  </svg>\n",
              "      </button>\n",
              "      \n",
              "  <style>\n",
              "    .colab-df-container {\n",
              "      display:flex;\n",
              "      flex-wrap:wrap;\n",
              "      gap: 12px;\n",
              "    }\n",
              "\n",
              "    .colab-df-convert {\n",
              "      background-color: #E8F0FE;\n",
              "      border: none;\n",
              "      border-radius: 50%;\n",
              "      cursor: pointer;\n",
              "      display: none;\n",
              "      fill: #1967D2;\n",
              "      height: 32px;\n",
              "      padding: 0 0 0 0;\n",
              "      width: 32px;\n",
              "    }\n",
              "\n",
              "    .colab-df-convert:hover {\n",
              "      background-color: #E2EBFA;\n",
              "      box-shadow: 0px 1px 2px rgba(60, 64, 67, 0.3), 0px 1px 3px 1px rgba(60, 64, 67, 0.15);\n",
              "      fill: #174EA6;\n",
              "    }\n",
              "\n",
              "    [theme=dark] .colab-df-convert {\n",
              "      background-color: #3B4455;\n",
              "      fill: #D2E3FC;\n",
              "    }\n",
              "\n",
              "    [theme=dark] .colab-df-convert:hover {\n",
              "      background-color: #434B5C;\n",
              "      box-shadow: 0px 1px 3px 1px rgba(0, 0, 0, 0.15);\n",
              "      filter: drop-shadow(0px 1px 2px rgba(0, 0, 0, 0.3));\n",
              "      fill: #FFFFFF;\n",
              "    }\n",
              "  </style>\n",
              "\n",
              "      <script>\n",
              "        const buttonEl =\n",
              "          document.querySelector('#df-a7efa6ee-92ee-4ef2-9292-03c14d9f010b button.colab-df-convert');\n",
              "        buttonEl.style.display =\n",
              "          google.colab.kernel.accessAllowed ? 'block' : 'none';\n",
              "\n",
              "        async function convertToInteractive(key) {\n",
              "          const element = document.querySelector('#df-a7efa6ee-92ee-4ef2-9292-03c14d9f010b');\n",
              "          const dataTable =\n",
              "            await google.colab.kernel.invokeFunction('convertToInteractive',\n",
              "                                                     [key], {});\n",
              "          if (!dataTable) return;\n",
              "\n",
              "          const docLinkHtml = 'Like what you see? Visit the ' +\n",
              "            '<a target=\"_blank\" href=https://colab.research.google.com/notebooks/data_table.ipynb>data table notebook</a>'\n",
              "            + ' to learn more about interactive tables.';\n",
              "          element.innerHTML = '';\n",
              "          dataTable['output_type'] = 'display_data';\n",
              "          await google.colab.output.renderOutput(dataTable, element);\n",
              "          const docLink = document.createElement('div');\n",
              "          docLink.innerHTML = docLinkHtml;\n",
              "          element.appendChild(docLink);\n",
              "        }\n",
              "      </script>\n",
              "    </div>\n",
              "  </div>\n",
              "  "
            ]
          },
          "metadata": {},
          "execution_count": 167
        }
      ],
      "source": [
        "# Example\n",
        "\n",
        "txt6 = '१७ तारखेला आदित्य पुण्यात आला.'\n",
        "# English Translation:\n",
        "# 'Aditya came to Pune on 17th.'\n",
        "\n",
        "modelNER.get_token_labels(txt6)"
      ]
    },
    {
      "cell_type": "markdown",
      "metadata": {
        "id": "34Z2XUII5E_O"
      },
      "source": [
        "Optional Parameter(s):\n",
        "* **details** (minimum, medium, all) in string - Default: minimum\n",
        "  * Used to pass the detailedness to be considered\n",
        "* **as_dict** (True, False) in boolean - Default: False\n",
        "  * Used to define the print type"
      ]
    },
    {
      "cell_type": "code",
      "execution_count": null,
      "metadata": {
        "colab": {
          "base_uri": "https://localhost:8080/",
          "height": 206
        },
        "id": "jMJj3o_l5RYD",
        "outputId": "62352e9a-20f7-4d93-b47f-61d5f8623a3d"
      },
      "outputs": [
        {
          "output_type": "execute_result",
          "data": {
            "text/plain": [
              "      word entity_group     score\n",
              "0       १७         Date  0.997312\n",
              "1  तारखेला        Other  0.999764\n",
              "2   आदित्य       Person  0.999070\n",
              "3  पुण्यात     Location  0.997783\n",
              "4     आला.        Other  0.999862"
            ],
            "text/html": [
              "\n",
              "  <div id=\"df-14ae8c11-b508-451c-aea1-a0f4cd47b781\">\n",
              "    <div class=\"colab-df-container\">\n",
              "      <div>\n",
              "<style scoped>\n",
              "    .dataframe tbody tr th:only-of-type {\n",
              "        vertical-align: middle;\n",
              "    }\n",
              "\n",
              "    .dataframe tbody tr th {\n",
              "        vertical-align: top;\n",
              "    }\n",
              "\n",
              "    .dataframe thead th {\n",
              "        text-align: right;\n",
              "    }\n",
              "</style>\n",
              "<table border=\"1\" class=\"dataframe\">\n",
              "  <thead>\n",
              "    <tr style=\"text-align: right;\">\n",
              "      <th></th>\n",
              "      <th>word</th>\n",
              "      <th>entity_group</th>\n",
              "      <th>score</th>\n",
              "    </tr>\n",
              "  </thead>\n",
              "  <tbody>\n",
              "    <tr>\n",
              "      <th>0</th>\n",
              "      <td>१७</td>\n",
              "      <td>Date</td>\n",
              "      <td>0.997312</td>\n",
              "    </tr>\n",
              "    <tr>\n",
              "      <th>1</th>\n",
              "      <td>तारखेला</td>\n",
              "      <td>Other</td>\n",
              "      <td>0.999764</td>\n",
              "    </tr>\n",
              "    <tr>\n",
              "      <th>2</th>\n",
              "      <td>आदित्य</td>\n",
              "      <td>Person</td>\n",
              "      <td>0.999070</td>\n",
              "    </tr>\n",
              "    <tr>\n",
              "      <th>3</th>\n",
              "      <td>पुण्यात</td>\n",
              "      <td>Location</td>\n",
              "      <td>0.997783</td>\n",
              "    </tr>\n",
              "    <tr>\n",
              "      <th>4</th>\n",
              "      <td>आला.</td>\n",
              "      <td>Other</td>\n",
              "      <td>0.999862</td>\n",
              "    </tr>\n",
              "  </tbody>\n",
              "</table>\n",
              "</div>\n",
              "      <button class=\"colab-df-convert\" onclick=\"convertToInteractive('df-14ae8c11-b508-451c-aea1-a0f4cd47b781')\"\n",
              "              title=\"Convert this dataframe to an interactive table.\"\n",
              "              style=\"display:none;\">\n",
              "        \n",
              "  <svg xmlns=\"http://www.w3.org/2000/svg\" height=\"24px\"viewBox=\"0 0 24 24\"\n",
              "       width=\"24px\">\n",
              "    <path d=\"M0 0h24v24H0V0z\" fill=\"none\"/>\n",
              "    <path d=\"M18.56 5.44l.94 2.06.94-2.06 2.06-.94-2.06-.94-.94-2.06-.94 2.06-2.06.94zm-11 1L8.5 8.5l.94-2.06 2.06-.94-2.06-.94L8.5 2.5l-.94 2.06-2.06.94zm10 10l.94 2.06.94-2.06 2.06-.94-2.06-.94-.94-2.06-.94 2.06-2.06.94z\"/><path d=\"M17.41 7.96l-1.37-1.37c-.4-.4-.92-.59-1.43-.59-.52 0-1.04.2-1.43.59L10.3 9.45l-7.72 7.72c-.78.78-.78 2.05 0 2.83L4 21.41c.39.39.9.59 1.41.59.51 0 1.02-.2 1.41-.59l7.78-7.78 2.81-2.81c.8-.78.8-2.07 0-2.86zM5.41 20L4 18.59l7.72-7.72 1.47 1.35L5.41 20z\"/>\n",
              "  </svg>\n",
              "      </button>\n",
              "      \n",
              "  <style>\n",
              "    .colab-df-container {\n",
              "      display:flex;\n",
              "      flex-wrap:wrap;\n",
              "      gap: 12px;\n",
              "    }\n",
              "\n",
              "    .colab-df-convert {\n",
              "      background-color: #E8F0FE;\n",
              "      border: none;\n",
              "      border-radius: 50%;\n",
              "      cursor: pointer;\n",
              "      display: none;\n",
              "      fill: #1967D2;\n",
              "      height: 32px;\n",
              "      padding: 0 0 0 0;\n",
              "      width: 32px;\n",
              "    }\n",
              "\n",
              "    .colab-df-convert:hover {\n",
              "      background-color: #E2EBFA;\n",
              "      box-shadow: 0px 1px 2px rgba(60, 64, 67, 0.3), 0px 1px 3px 1px rgba(60, 64, 67, 0.15);\n",
              "      fill: #174EA6;\n",
              "    }\n",
              "\n",
              "    [theme=dark] .colab-df-convert {\n",
              "      background-color: #3B4455;\n",
              "      fill: #D2E3FC;\n",
              "    }\n",
              "\n",
              "    [theme=dark] .colab-df-convert:hover {\n",
              "      background-color: #434B5C;\n",
              "      box-shadow: 0px 1px 3px 1px rgba(0, 0, 0, 0.15);\n",
              "      filter: drop-shadow(0px 1px 2px rgba(0, 0, 0, 0.3));\n",
              "      fill: #FFFFFF;\n",
              "    }\n",
              "  </style>\n",
              "\n",
              "      <script>\n",
              "        const buttonEl =\n",
              "          document.querySelector('#df-14ae8c11-b508-451c-aea1-a0f4cd47b781 button.colab-df-convert');\n",
              "        buttonEl.style.display =\n",
              "          google.colab.kernel.accessAllowed ? 'block' : 'none';\n",
              "\n",
              "        async function convertToInteractive(key) {\n",
              "          const element = document.querySelector('#df-14ae8c11-b508-451c-aea1-a0f4cd47b781');\n",
              "          const dataTable =\n",
              "            await google.colab.kernel.invokeFunction('convertToInteractive',\n",
              "                                                     [key], {});\n",
              "          if (!dataTable) return;\n",
              "\n",
              "          const docLinkHtml = 'Like what you see? Visit the ' +\n",
              "            '<a target=\"_blank\" href=https://colab.research.google.com/notebooks/data_table.ipynb>data table notebook</a>'\n",
              "            + ' to learn more about interactive tables.';\n",
              "          element.innerHTML = '';\n",
              "          dataTable['output_type'] = 'display_data';\n",
              "          await google.colab.output.renderOutput(dataTable, element);\n",
              "          const docLink = document.createElement('div');\n",
              "          docLink.innerHTML = docLinkHtml;\n",
              "          element.appendChild(docLink);\n",
              "        }\n",
              "      </script>\n",
              "    </div>\n",
              "  </div>\n",
              "  "
            ]
          },
          "metadata": {},
          "execution_count": 168
        }
      ],
      "source": [
        "# Example:\n",
        "\n",
        "modelNER.get_token_labels(txt6, details = 'medium', as_dict = False)\n",
        "# prints the polarity score of the individual words as well"
      ]
    },
    {
      "cell_type": "code",
      "execution_count": null,
      "metadata": {
        "colab": {
          "base_uri": "https://localhost:8080/",
          "height": 206
        },
        "id": "3s6FoEEi5d6X",
        "outputId": "cebfd2f3-b006-4195-a166-464477401284"
      },
      "outputs": [
        {
          "output_type": "execute_result",
          "data": {
            "text/plain": [
              "      word entity_group     score  start  end\n",
              "0       १७         Date  0.997312      0    2\n",
              "1  तारखेला        Other  0.999764      3   10\n",
              "2   आदित्य       Person  0.999070     11   17\n",
              "3  पुण्यात     Location  0.997783     18   25\n",
              "4     आला.        Other  0.999862     26   30"
            ],
            "text/html": [
              "\n",
              "  <div id=\"df-7fcc83af-acdc-47d3-8d2e-41325bef22d1\">\n",
              "    <div class=\"colab-df-container\">\n",
              "      <div>\n",
              "<style scoped>\n",
              "    .dataframe tbody tr th:only-of-type {\n",
              "        vertical-align: middle;\n",
              "    }\n",
              "\n",
              "    .dataframe tbody tr th {\n",
              "        vertical-align: top;\n",
              "    }\n",
              "\n",
              "    .dataframe thead th {\n",
              "        text-align: right;\n",
              "    }\n",
              "</style>\n",
              "<table border=\"1\" class=\"dataframe\">\n",
              "  <thead>\n",
              "    <tr style=\"text-align: right;\">\n",
              "      <th></th>\n",
              "      <th>word</th>\n",
              "      <th>entity_group</th>\n",
              "      <th>score</th>\n",
              "      <th>start</th>\n",
              "      <th>end</th>\n",
              "    </tr>\n",
              "  </thead>\n",
              "  <tbody>\n",
              "    <tr>\n",
              "      <th>0</th>\n",
              "      <td>१७</td>\n",
              "      <td>Date</td>\n",
              "      <td>0.997312</td>\n",
              "      <td>0</td>\n",
              "      <td>2</td>\n",
              "    </tr>\n",
              "    <tr>\n",
              "      <th>1</th>\n",
              "      <td>तारखेला</td>\n",
              "      <td>Other</td>\n",
              "      <td>0.999764</td>\n",
              "      <td>3</td>\n",
              "      <td>10</td>\n",
              "    </tr>\n",
              "    <tr>\n",
              "      <th>2</th>\n",
              "      <td>आदित्य</td>\n",
              "      <td>Person</td>\n",
              "      <td>0.999070</td>\n",
              "      <td>11</td>\n",
              "      <td>17</td>\n",
              "    </tr>\n",
              "    <tr>\n",
              "      <th>3</th>\n",
              "      <td>पुण्यात</td>\n",
              "      <td>Location</td>\n",
              "      <td>0.997783</td>\n",
              "      <td>18</td>\n",
              "      <td>25</td>\n",
              "    </tr>\n",
              "    <tr>\n",
              "      <th>4</th>\n",
              "      <td>आला.</td>\n",
              "      <td>Other</td>\n",
              "      <td>0.999862</td>\n",
              "      <td>26</td>\n",
              "      <td>30</td>\n",
              "    </tr>\n",
              "  </tbody>\n",
              "</table>\n",
              "</div>\n",
              "      <button class=\"colab-df-convert\" onclick=\"convertToInteractive('df-7fcc83af-acdc-47d3-8d2e-41325bef22d1')\"\n",
              "              title=\"Convert this dataframe to an interactive table.\"\n",
              "              style=\"display:none;\">\n",
              "        \n",
              "  <svg xmlns=\"http://www.w3.org/2000/svg\" height=\"24px\"viewBox=\"0 0 24 24\"\n",
              "       width=\"24px\">\n",
              "    <path d=\"M0 0h24v24H0V0z\" fill=\"none\"/>\n",
              "    <path d=\"M18.56 5.44l.94 2.06.94-2.06 2.06-.94-2.06-.94-.94-2.06-.94 2.06-2.06.94zm-11 1L8.5 8.5l.94-2.06 2.06-.94-2.06-.94L8.5 2.5l-.94 2.06-2.06.94zm10 10l.94 2.06.94-2.06 2.06-.94-2.06-.94-.94-2.06-.94 2.06-2.06.94z\"/><path d=\"M17.41 7.96l-1.37-1.37c-.4-.4-.92-.59-1.43-.59-.52 0-1.04.2-1.43.59L10.3 9.45l-7.72 7.72c-.78.78-.78 2.05 0 2.83L4 21.41c.39.39.9.59 1.41.59.51 0 1.02-.2 1.41-.59l7.78-7.78 2.81-2.81c.8-.78.8-2.07 0-2.86zM5.41 20L4 18.59l7.72-7.72 1.47 1.35L5.41 20z\"/>\n",
              "  </svg>\n",
              "      </button>\n",
              "      \n",
              "  <style>\n",
              "    .colab-df-container {\n",
              "      display:flex;\n",
              "      flex-wrap:wrap;\n",
              "      gap: 12px;\n",
              "    }\n",
              "\n",
              "    .colab-df-convert {\n",
              "      background-color: #E8F0FE;\n",
              "      border: none;\n",
              "      border-radius: 50%;\n",
              "      cursor: pointer;\n",
              "      display: none;\n",
              "      fill: #1967D2;\n",
              "      height: 32px;\n",
              "      padding: 0 0 0 0;\n",
              "      width: 32px;\n",
              "    }\n",
              "\n",
              "    .colab-df-convert:hover {\n",
              "      background-color: #E2EBFA;\n",
              "      box-shadow: 0px 1px 2px rgba(60, 64, 67, 0.3), 0px 1px 3px 1px rgba(60, 64, 67, 0.15);\n",
              "      fill: #174EA6;\n",
              "    }\n",
              "\n",
              "    [theme=dark] .colab-df-convert {\n",
              "      background-color: #3B4455;\n",
              "      fill: #D2E3FC;\n",
              "    }\n",
              "\n",
              "    [theme=dark] .colab-df-convert:hover {\n",
              "      background-color: #434B5C;\n",
              "      box-shadow: 0px 1px 3px 1px rgba(0, 0, 0, 0.15);\n",
              "      filter: drop-shadow(0px 1px 2px rgba(0, 0, 0, 0.3));\n",
              "      fill: #FFFFFF;\n",
              "    }\n",
              "  </style>\n",
              "\n",
              "      <script>\n",
              "        const buttonEl =\n",
              "          document.querySelector('#df-7fcc83af-acdc-47d3-8d2e-41325bef22d1 button.colab-df-convert');\n",
              "        buttonEl.style.display =\n",
              "          google.colab.kernel.accessAllowed ? 'block' : 'none';\n",
              "\n",
              "        async function convertToInteractive(key) {\n",
              "          const element = document.querySelector('#df-7fcc83af-acdc-47d3-8d2e-41325bef22d1');\n",
              "          const dataTable =\n",
              "            await google.colab.kernel.invokeFunction('convertToInteractive',\n",
              "                                                     [key], {});\n",
              "          if (!dataTable) return;\n",
              "\n",
              "          const docLinkHtml = 'Like what you see? Visit the ' +\n",
              "            '<a target=\"_blank\" href=https://colab.research.google.com/notebooks/data_table.ipynb>data table notebook</a>'\n",
              "            + ' to learn more about interactive tables.';\n",
              "          element.innerHTML = '';\n",
              "          dataTable['output_type'] = 'display_data';\n",
              "          await google.colab.output.renderOutput(dataTable, element);\n",
              "          const docLink = document.createElement('div');\n",
              "          docLink.innerHTML = docLinkHtml;\n",
              "          element.appendChild(docLink);\n",
              "        }\n",
              "      </script>\n",
              "    </div>\n",
              "  </div>\n",
              "  "
            ]
          },
          "metadata": {},
          "execution_count": 169
        }
      ],
      "source": [
        "modelNER.get_token_labels(txt6, details = 'all', as_dict = False)\n",
        "# prints the start as well as the end index for the individual word"
      ]
    },
    {
      "cell_type": "code",
      "execution_count": null,
      "metadata": {
        "colab": {
          "base_uri": "https://localhost:8080/"
        },
        "id": "wJO8rh9r5hd5",
        "outputId": "bd4ffc65-1307-4a3b-9d6c-50ae705c367d"
      },
      "outputs": [
        {
          "output_type": "execute_result",
          "data": {
            "text/plain": [
              "[{'word': '१७',\n",
              "  'entity_group': 'Date',\n",
              "  'score': 0.9973124265670776,\n",
              "  'start': 0,\n",
              "  'end': 2},\n",
              " {'word': 'तारखेला',\n",
              "  'entity_group': 'Other',\n",
              "  'score': 0.9997643828392029,\n",
              "  'start': 3,\n",
              "  'end': 10},\n",
              " {'word': 'आदित्य',\n",
              "  'entity_group': 'Person',\n",
              "  'score': 0.9990702271461487,\n",
              "  'start': 11,\n",
              "  'end': 17},\n",
              " {'word': 'पुण्यात',\n",
              "  'entity_group': 'Location',\n",
              "  'score': 0.997783362865448,\n",
              "  'start': 18,\n",
              "  'end': 25},\n",
              " {'word': 'आला.',\n",
              "  'entity_group': 'Other',\n",
              "  'score': 0.9998623132705688,\n",
              "  'start': 26,\n",
              "  'end': 30}]"
            ]
          },
          "metadata": {},
          "execution_count": 170
        }
      ],
      "source": [
        "modelNER.get_token_labels(txt6, details = 'all', as_dict = True)\n",
        "# prints in dictionary form"
      ]
    },
    {
      "cell_type": "markdown",
      "metadata": {
        "id": "1CKHfwIv4QnU"
      },
      "source": [
        "#### **get_tokens:**"
      ]
    },
    {
      "cell_type": "code",
      "execution_count": null,
      "metadata": {
        "colab": {
          "base_uri": "https://localhost:8080/",
          "height": 36
        },
        "id": "wAwrLX6FbppL",
        "outputId": "6ff433b8-c526-4d71-a20d-8bede2f1a200"
      },
      "outputs": [
        {
          "output_type": "execute_result",
          "data": {
            "text/plain": [
              "'Person Other Person Date Other Location Other Other'"
            ],
            "application/vnd.google.colaboratory.intrinsic+json": {
              "type": "string"
            }
          },
          "metadata": {},
          "execution_count": 171
        }
      ],
      "source": [
        "# Example:\n",
        "\n",
        "txt7 = 'मेघा आणि लता ४ तारखेला महाबळेश्वरला जाणार आहे.'\n",
        "# English Translation:\n",
        "# 'Megha and Lata will go to Mahabaleshwar on 4th.'\n",
        "\n",
        "modelNER.get_tokens(txt7)"
      ]
    },
    {
      "cell_type": "markdown",
      "metadata": {
        "id": "6aFkmbMY7a0o"
      },
      "source": [
        "***"
      ]
    },
    {
      "cell_type": "markdown",
      "metadata": {
        "id": "DJ0ZcucFbeIh"
      },
      "source": [
        "## **Sentiment:**"
      ]
    },
    {
      "cell_type": "code",
      "execution_count": null,
      "metadata": {
        "id": "mcQxs6qCiBh2"
      },
      "outputs": [],
      "source": [
        "# create an object\n",
        "modelSentiment = SentimentModel()"
      ]
    },
    {
      "cell_type": "code",
      "execution_count": null,
      "metadata": {
        "colab": {
          "base_uri": "https://localhost:8080/"
        },
        "id": "kLVm_u6n9ye7",
        "outputId": "08f81404-d136-4d66-ffef-e3ab4d32b70f"
      },
      "outputs": [
        {
          "output_type": "stream",
          "name": "stdout",
          "text": [
            " sentiment models: \n",
            "\t MarathiSentiment :  l3cube-pune/MarathiSentiment\n",
            "\n",
            " tagger models: \n",
            "\t marathi-ner :  l3cube-pune/marathi-ner\n",
            "\n",
            " autocomplete models: \n",
            "\t marathi-gpt :  l3cube-pune/marathi-gpt\n",
            "\n",
            " similarity models: \n",
            "\t marathi-sentence-similarity-sbert :  l3cube-pune/marathi-sentence-similarity-sbert\n",
            "\t marathi-sentence-bert-nli :  l3cube-pune/marathi-sentence-bert-nli\n",
            "\n",
            " mask_fill models: \n",
            "\t marathi-bert-v2 :  l3cube-pune/marathi-bert-v2\n",
            "\t marathi-roberta :  l3cube-pune/marathi-roberta\n",
            "\t marathi-albert :  l3cube-pune/marathi-albert\n",
            "\n",
            " hate models: \n",
            "\t mahahate-bert :  l3cube-pune/mahahate-bert\n",
            "\t mahahate-multi-roberta :  l3cube-pune/mahahate-multi-roberta\n"
          ]
        }
      ],
      "source": [
        "# list models present in it\n",
        "modelSentiment.list_models()"
      ]
    },
    {
      "cell_type": "markdown",
      "metadata": {
        "id": "p48pFy7rz_P2"
      },
      "source": [
        "### **Usage of Sentiment Model:**\n",
        "It provides one functionality\n",
        "* **get_polarity_score:** Gives the polarity score of words in a sentence along with the tokens (Neutral, Positive, Negative)"
      ]
    },
    {
      "cell_type": "code",
      "execution_count": null,
      "metadata": {
        "colab": {
          "base_uri": "https://localhost:8080/",
          "height": 81
        },
        "outputId": "9898d6b8-409c-4e55-ab5d-0563ad37482d",
        "id": "G3h83ukUz_P2"
      },
      "outputs": [
        {
          "output_type": "execute_result",
          "data": {
            "text/plain": [
              "      label     score\n",
              "0  Positive  0.995338"
            ],
            "text/html": [
              "\n",
              "  <div id=\"df-e2e8efff-be5b-4ad6-b263-6aa8286a0903\">\n",
              "    <div class=\"colab-df-container\">\n",
              "      <div>\n",
              "<style scoped>\n",
              "    .dataframe tbody tr th:only-of-type {\n",
              "        vertical-align: middle;\n",
              "    }\n",
              "\n",
              "    .dataframe tbody tr th {\n",
              "        vertical-align: top;\n",
              "    }\n",
              "\n",
              "    .dataframe thead th {\n",
              "        text-align: right;\n",
              "    }\n",
              "</style>\n",
              "<table border=\"1\" class=\"dataframe\">\n",
              "  <thead>\n",
              "    <tr style=\"text-align: right;\">\n",
              "      <th></th>\n",
              "      <th>label</th>\n",
              "      <th>score</th>\n",
              "    </tr>\n",
              "  </thead>\n",
              "  <tbody>\n",
              "    <tr>\n",
              "      <th>0</th>\n",
              "      <td>Positive</td>\n",
              "      <td>0.995338</td>\n",
              "    </tr>\n",
              "  </tbody>\n",
              "</table>\n",
              "</div>\n",
              "      <button class=\"colab-df-convert\" onclick=\"convertToInteractive('df-e2e8efff-be5b-4ad6-b263-6aa8286a0903')\"\n",
              "              title=\"Convert this dataframe to an interactive table.\"\n",
              "              style=\"display:none;\">\n",
              "        \n",
              "  <svg xmlns=\"http://www.w3.org/2000/svg\" height=\"24px\"viewBox=\"0 0 24 24\"\n",
              "       width=\"24px\">\n",
              "    <path d=\"M0 0h24v24H0V0z\" fill=\"none\"/>\n",
              "    <path d=\"M18.56 5.44l.94 2.06.94-2.06 2.06-.94-2.06-.94-.94-2.06-.94 2.06-2.06.94zm-11 1L8.5 8.5l.94-2.06 2.06-.94-2.06-.94L8.5 2.5l-.94 2.06-2.06.94zm10 10l.94 2.06.94-2.06 2.06-.94-2.06-.94-.94-2.06-.94 2.06-2.06.94z\"/><path d=\"M17.41 7.96l-1.37-1.37c-.4-.4-.92-.59-1.43-.59-.52 0-1.04.2-1.43.59L10.3 9.45l-7.72 7.72c-.78.78-.78 2.05 0 2.83L4 21.41c.39.39.9.59 1.41.59.51 0 1.02-.2 1.41-.59l7.78-7.78 2.81-2.81c.8-.78.8-2.07 0-2.86zM5.41 20L4 18.59l7.72-7.72 1.47 1.35L5.41 20z\"/>\n",
              "  </svg>\n",
              "      </button>\n",
              "      \n",
              "  <style>\n",
              "    .colab-df-container {\n",
              "      display:flex;\n",
              "      flex-wrap:wrap;\n",
              "      gap: 12px;\n",
              "    }\n",
              "\n",
              "    .colab-df-convert {\n",
              "      background-color: #E8F0FE;\n",
              "      border: none;\n",
              "      border-radius: 50%;\n",
              "      cursor: pointer;\n",
              "      display: none;\n",
              "      fill: #1967D2;\n",
              "      height: 32px;\n",
              "      padding: 0 0 0 0;\n",
              "      width: 32px;\n",
              "    }\n",
              "\n",
              "    .colab-df-convert:hover {\n",
              "      background-color: #E2EBFA;\n",
              "      box-shadow: 0px 1px 2px rgba(60, 64, 67, 0.3), 0px 1px 3px 1px rgba(60, 64, 67, 0.15);\n",
              "      fill: #174EA6;\n",
              "    }\n",
              "\n",
              "    [theme=dark] .colab-df-convert {\n",
              "      background-color: #3B4455;\n",
              "      fill: #D2E3FC;\n",
              "    }\n",
              "\n",
              "    [theme=dark] .colab-df-convert:hover {\n",
              "      background-color: #434B5C;\n",
              "      box-shadow: 0px 1px 3px 1px rgba(0, 0, 0, 0.15);\n",
              "      filter: drop-shadow(0px 1px 2px rgba(0, 0, 0, 0.3));\n",
              "      fill: #FFFFFF;\n",
              "    }\n",
              "  </style>\n",
              "\n",
              "      <script>\n",
              "        const buttonEl =\n",
              "          document.querySelector('#df-e2e8efff-be5b-4ad6-b263-6aa8286a0903 button.colab-df-convert');\n",
              "        buttonEl.style.display =\n",
              "          google.colab.kernel.accessAllowed ? 'block' : 'none';\n",
              "\n",
              "        async function convertToInteractive(key) {\n",
              "          const element = document.querySelector('#df-e2e8efff-be5b-4ad6-b263-6aa8286a0903');\n",
              "          const dataTable =\n",
              "            await google.colab.kernel.invokeFunction('convertToInteractive',\n",
              "                                                     [key], {});\n",
              "          if (!dataTable) return;\n",
              "\n",
              "          const docLinkHtml = 'Like what you see? Visit the ' +\n",
              "            '<a target=\"_blank\" href=https://colab.research.google.com/notebooks/data_table.ipynb>data table notebook</a>'\n",
              "            + ' to learn more about interactive tables.';\n",
              "          element.innerHTML = '';\n",
              "          dataTable['output_type'] = 'display_data';\n",
              "          await google.colab.output.renderOutput(dataTable, element);\n",
              "          const docLink = document.createElement('div');\n",
              "          docLink.innerHTML = docLinkHtml;\n",
              "          element.appendChild(docLink);\n",
              "        }\n",
              "      </script>\n",
              "    </div>\n",
              "  </div>\n",
              "  "
            ]
          },
          "metadata": {},
          "execution_count": 174
        }
      ],
      "source": [
        "# Example:\n",
        "\n",
        "txt8 = 'दिवाळीच्या सणादरम्यान सगळे आनंदी असतात.'\n",
        "# English Translation:\n",
        "# 'Everyone is happy during Diwali festival.'\n",
        "\n",
        "modelSentiment.get_polarity_score(txt8)"
      ]
    },
    {
      "cell_type": "code",
      "execution_count": null,
      "metadata": {
        "colab": {
          "base_uri": "https://localhost:8080/",
          "height": 81
        },
        "outputId": "9bd73369-9da5-4147-8acf-ee63ae997cbb",
        "id": "uEM1EdYvz_P2"
      },
      "outputs": [
        {
          "output_type": "execute_result",
          "data": {
            "text/plain": [
              "     label     score\n",
              "0  Neutral  0.989352"
            ],
            "text/html": [
              "\n",
              "  <div id=\"df-dfa9b41e-3495-4ae3-84fb-0046859f3a47\">\n",
              "    <div class=\"colab-df-container\">\n",
              "      <div>\n",
              "<style scoped>\n",
              "    .dataframe tbody tr th:only-of-type {\n",
              "        vertical-align: middle;\n",
              "    }\n",
              "\n",
              "    .dataframe tbody tr th {\n",
              "        vertical-align: top;\n",
              "    }\n",
              "\n",
              "    .dataframe thead th {\n",
              "        text-align: right;\n",
              "    }\n",
              "</style>\n",
              "<table border=\"1\" class=\"dataframe\">\n",
              "  <thead>\n",
              "    <tr style=\"text-align: right;\">\n",
              "      <th></th>\n",
              "      <th>label</th>\n",
              "      <th>score</th>\n",
              "    </tr>\n",
              "  </thead>\n",
              "  <tbody>\n",
              "    <tr>\n",
              "      <th>0</th>\n",
              "      <td>Neutral</td>\n",
              "      <td>0.989352</td>\n",
              "    </tr>\n",
              "  </tbody>\n",
              "</table>\n",
              "</div>\n",
              "      <button class=\"colab-df-convert\" onclick=\"convertToInteractive('df-dfa9b41e-3495-4ae3-84fb-0046859f3a47')\"\n",
              "              title=\"Convert this dataframe to an interactive table.\"\n",
              "              style=\"display:none;\">\n",
              "        \n",
              "  <svg xmlns=\"http://www.w3.org/2000/svg\" height=\"24px\"viewBox=\"0 0 24 24\"\n",
              "       width=\"24px\">\n",
              "    <path d=\"M0 0h24v24H0V0z\" fill=\"none\"/>\n",
              "    <path d=\"M18.56 5.44l.94 2.06.94-2.06 2.06-.94-2.06-.94-.94-2.06-.94 2.06-2.06.94zm-11 1L8.5 8.5l.94-2.06 2.06-.94-2.06-.94L8.5 2.5l-.94 2.06-2.06.94zm10 10l.94 2.06.94-2.06 2.06-.94-2.06-.94-.94-2.06-.94 2.06-2.06.94z\"/><path d=\"M17.41 7.96l-1.37-1.37c-.4-.4-.92-.59-1.43-.59-.52 0-1.04.2-1.43.59L10.3 9.45l-7.72 7.72c-.78.78-.78 2.05 0 2.83L4 21.41c.39.39.9.59 1.41.59.51 0 1.02-.2 1.41-.59l7.78-7.78 2.81-2.81c.8-.78.8-2.07 0-2.86zM5.41 20L4 18.59l7.72-7.72 1.47 1.35L5.41 20z\"/>\n",
              "  </svg>\n",
              "      </button>\n",
              "      \n",
              "  <style>\n",
              "    .colab-df-container {\n",
              "      display:flex;\n",
              "      flex-wrap:wrap;\n",
              "      gap: 12px;\n",
              "    }\n",
              "\n",
              "    .colab-df-convert {\n",
              "      background-color: #E8F0FE;\n",
              "      border: none;\n",
              "      border-radius: 50%;\n",
              "      cursor: pointer;\n",
              "      display: none;\n",
              "      fill: #1967D2;\n",
              "      height: 32px;\n",
              "      padding: 0 0 0 0;\n",
              "      width: 32px;\n",
              "    }\n",
              "\n",
              "    .colab-df-convert:hover {\n",
              "      background-color: #E2EBFA;\n",
              "      box-shadow: 0px 1px 2px rgba(60, 64, 67, 0.3), 0px 1px 3px 1px rgba(60, 64, 67, 0.15);\n",
              "      fill: #174EA6;\n",
              "    }\n",
              "\n",
              "    [theme=dark] .colab-df-convert {\n",
              "      background-color: #3B4455;\n",
              "      fill: #D2E3FC;\n",
              "    }\n",
              "\n",
              "    [theme=dark] .colab-df-convert:hover {\n",
              "      background-color: #434B5C;\n",
              "      box-shadow: 0px 1px 3px 1px rgba(0, 0, 0, 0.15);\n",
              "      filter: drop-shadow(0px 1px 2px rgba(0, 0, 0, 0.3));\n",
              "      fill: #FFFFFF;\n",
              "    }\n",
              "  </style>\n",
              "\n",
              "      <script>\n",
              "        const buttonEl =\n",
              "          document.querySelector('#df-dfa9b41e-3495-4ae3-84fb-0046859f3a47 button.colab-df-convert');\n",
              "        buttonEl.style.display =\n",
              "          google.colab.kernel.accessAllowed ? 'block' : 'none';\n",
              "\n",
              "        async function convertToInteractive(key) {\n",
              "          const element = document.querySelector('#df-dfa9b41e-3495-4ae3-84fb-0046859f3a47');\n",
              "          const dataTable =\n",
              "            await google.colab.kernel.invokeFunction('convertToInteractive',\n",
              "                                                     [key], {});\n",
              "          if (!dataTable) return;\n",
              "\n",
              "          const docLinkHtml = 'Like what you see? Visit the ' +\n",
              "            '<a target=\"_blank\" href=https://colab.research.google.com/notebooks/data_table.ipynb>data table notebook</a>'\n",
              "            + ' to learn more about interactive tables.';\n",
              "          element.innerHTML = '';\n",
              "          dataTable['output_type'] = 'display_data';\n",
              "          await google.colab.output.renderOutput(dataTable, element);\n",
              "          const docLink = document.createElement('div');\n",
              "          docLink.innerHTML = docLinkHtml;\n",
              "          element.appendChild(docLink);\n",
              "        }\n",
              "      </script>\n",
              "    </div>\n",
              "  </div>\n",
              "  "
            ]
          },
          "metadata": {},
          "execution_count": 175
        }
      ],
      "source": [
        "# Example:\n",
        "\n",
        "txt9 = 'मी तुझा तिरस्कार करतो.'\n",
        "# English Translation:\n",
        "# 'I hate you.'\n",
        "\n",
        "modelSentiment.get_polarity_score(txt9)"
      ]
    },
    {
      "cell_type": "code",
      "execution_count": null,
      "metadata": {
        "colab": {
          "base_uri": "https://localhost:8080/",
          "height": 81
        },
        "outputId": "a55818f9-0212-4a78-ae60-a9348075ea2f",
        "id": "uVK7laXJz_P2"
      },
      "outputs": [
        {
          "output_type": "execute_result",
          "data": {
            "text/plain": [
              "     label     score\n",
              "0  Neutral  0.993329"
            ],
            "text/html": [
              "\n",
              "  <div id=\"df-c4cb9d5f-e39c-4a5a-8812-c4c3938e1c4f\">\n",
              "    <div class=\"colab-df-container\">\n",
              "      <div>\n",
              "<style scoped>\n",
              "    .dataframe tbody tr th:only-of-type {\n",
              "        vertical-align: middle;\n",
              "    }\n",
              "\n",
              "    .dataframe tbody tr th {\n",
              "        vertical-align: top;\n",
              "    }\n",
              "\n",
              "    .dataframe thead th {\n",
              "        text-align: right;\n",
              "    }\n",
              "</style>\n",
              "<table border=\"1\" class=\"dataframe\">\n",
              "  <thead>\n",
              "    <tr style=\"text-align: right;\">\n",
              "      <th></th>\n",
              "      <th>label</th>\n",
              "      <th>score</th>\n",
              "    </tr>\n",
              "  </thead>\n",
              "  <tbody>\n",
              "    <tr>\n",
              "      <th>0</th>\n",
              "      <td>Neutral</td>\n",
              "      <td>0.993329</td>\n",
              "    </tr>\n",
              "  </tbody>\n",
              "</table>\n",
              "</div>\n",
              "      <button class=\"colab-df-convert\" onclick=\"convertToInteractive('df-c4cb9d5f-e39c-4a5a-8812-c4c3938e1c4f')\"\n",
              "              title=\"Convert this dataframe to an interactive table.\"\n",
              "              style=\"display:none;\">\n",
              "        \n",
              "  <svg xmlns=\"http://www.w3.org/2000/svg\" height=\"24px\"viewBox=\"0 0 24 24\"\n",
              "       width=\"24px\">\n",
              "    <path d=\"M0 0h24v24H0V0z\" fill=\"none\"/>\n",
              "    <path d=\"M18.56 5.44l.94 2.06.94-2.06 2.06-.94-2.06-.94-.94-2.06-.94 2.06-2.06.94zm-11 1L8.5 8.5l.94-2.06 2.06-.94-2.06-.94L8.5 2.5l-.94 2.06-2.06.94zm10 10l.94 2.06.94-2.06 2.06-.94-2.06-.94-.94-2.06-.94 2.06-2.06.94z\"/><path d=\"M17.41 7.96l-1.37-1.37c-.4-.4-.92-.59-1.43-.59-.52 0-1.04.2-1.43.59L10.3 9.45l-7.72 7.72c-.78.78-.78 2.05 0 2.83L4 21.41c.39.39.9.59 1.41.59.51 0 1.02-.2 1.41-.59l7.78-7.78 2.81-2.81c.8-.78.8-2.07 0-2.86zM5.41 20L4 18.59l7.72-7.72 1.47 1.35L5.41 20z\"/>\n",
              "  </svg>\n",
              "      </button>\n",
              "      \n",
              "  <style>\n",
              "    .colab-df-container {\n",
              "      display:flex;\n",
              "      flex-wrap:wrap;\n",
              "      gap: 12px;\n",
              "    }\n",
              "\n",
              "    .colab-df-convert {\n",
              "      background-color: #E8F0FE;\n",
              "      border: none;\n",
              "      border-radius: 50%;\n",
              "      cursor: pointer;\n",
              "      display: none;\n",
              "      fill: #1967D2;\n",
              "      height: 32px;\n",
              "      padding: 0 0 0 0;\n",
              "      width: 32px;\n",
              "    }\n",
              "\n",
              "    .colab-df-convert:hover {\n",
              "      background-color: #E2EBFA;\n",
              "      box-shadow: 0px 1px 2px rgba(60, 64, 67, 0.3), 0px 1px 3px 1px rgba(60, 64, 67, 0.15);\n",
              "      fill: #174EA6;\n",
              "    }\n",
              "\n",
              "    [theme=dark] .colab-df-convert {\n",
              "      background-color: #3B4455;\n",
              "      fill: #D2E3FC;\n",
              "    }\n",
              "\n",
              "    [theme=dark] .colab-df-convert:hover {\n",
              "      background-color: #434B5C;\n",
              "      box-shadow: 0px 1px 3px 1px rgba(0, 0, 0, 0.15);\n",
              "      filter: drop-shadow(0px 1px 2px rgba(0, 0, 0, 0.3));\n",
              "      fill: #FFFFFF;\n",
              "    }\n",
              "  </style>\n",
              "\n",
              "      <script>\n",
              "        const buttonEl =\n",
              "          document.querySelector('#df-c4cb9d5f-e39c-4a5a-8812-c4c3938e1c4f button.colab-df-convert');\n",
              "        buttonEl.style.display =\n",
              "          google.colab.kernel.accessAllowed ? 'block' : 'none';\n",
              "\n",
              "        async function convertToInteractive(key) {\n",
              "          const element = document.querySelector('#df-c4cb9d5f-e39c-4a5a-8812-c4c3938e1c4f');\n",
              "          const dataTable =\n",
              "            await google.colab.kernel.invokeFunction('convertToInteractive',\n",
              "                                                     [key], {});\n",
              "          if (!dataTable) return;\n",
              "\n",
              "          const docLinkHtml = 'Like what you see? Visit the ' +\n",
              "            '<a target=\"_blank\" href=https://colab.research.google.com/notebooks/data_table.ipynb>data table notebook</a>'\n",
              "            + ' to learn more about interactive tables.';\n",
              "          element.innerHTML = '';\n",
              "          dataTable['output_type'] = 'display_data';\n",
              "          await google.colab.output.renderOutput(dataTable, element);\n",
              "          const docLink = document.createElement('div');\n",
              "          docLink.innerHTML = docLinkHtml;\n",
              "          element.appendChild(docLink);\n",
              "        }\n",
              "      </script>\n",
              "    </div>\n",
              "  </div>\n",
              "  "
            ]
          },
          "metadata": {},
          "execution_count": 176
        }
      ],
      "source": [
        "# Example:\n",
        "\n",
        "txt10 = 'मी कॉलेजला जात आहे.'\n",
        "# English Translation:\n",
        "# 'I am going to college.'\n",
        "\n",
        "modelSentiment.get_polarity_score(txt10)"
      ]
    },
    {
      "cell_type": "markdown",
      "metadata": {
        "id": "zsSbijfZz_P2"
      },
      "source": [
        "***"
      ]
    },
    {
      "cell_type": "markdown",
      "metadata": {
        "id": "P_TIRJCgAomN"
      },
      "source": [
        "## **Similarity Model:**"
      ]
    },
    {
      "cell_type": "code",
      "execution_count": null,
      "metadata": {
        "id": "5q-bY_9OAnj0"
      },
      "outputs": [],
      "source": [
        "# create an object\n",
        "modelSimilarity = SimilarityModel() # this loads with default model. Here, marathi-sentence-similarity-sbert"
      ]
    },
    {
      "cell_type": "code",
      "execution_count": null,
      "metadata": {
        "id": "7E9NExCWA57E",
        "colab": {
          "base_uri": "https://localhost:8080/"
        },
        "outputId": "bea17668-3539-44c0-a318-de3c2399e247"
      },
      "outputs": [
        {
          "output_type": "stream",
          "name": "stdout",
          "text": [
            " similarity models: \n",
            "\t marathi-sentence-similarity-sbert :  l3cube-pune/marathi-sentence-similarity-sbert\n",
            "\t marathi-sentence-bert-nli :  l3cube-pune/marathi-sentence-bert-nli\n",
            "\n",
            " tagger models: \n",
            "\t marathi-ner :  l3cube-pune/marathi-ner\n",
            "\n",
            " autocomplete models: \n",
            "\t marathi-gpt :  l3cube-pune/marathi-gpt\n",
            "\n",
            " sentiment models: \n",
            "\t MarathiSentiment :  l3cube-pune/MarathiSentiment\n",
            "\n",
            " mask_fill models: \n",
            "\t marathi-bert-v2 :  l3cube-pune/marathi-bert-v2\n",
            "\t marathi-roberta :  l3cube-pune/marathi-roberta\n",
            "\t marathi-albert :  l3cube-pune/marathi-albert\n",
            "\n",
            " hate models: \n",
            "\t mahahate-bert :  l3cube-pune/mahahate-bert\n",
            "\t mahahate-multi-roberta :  l3cube-pune/mahahate-multi-roberta\n"
          ]
        }
      ],
      "source": [
        "# list models present in it\n",
        "modelSimilarity.list_models()"
      ]
    },
    {
      "cell_type": "markdown",
      "metadata": {
        "id": "VCLFcHpjB2Zc"
      },
      "source": [
        "#### **To change the default model:**\n",
        "Pass the name of the model as the argument:\n",
        "\n",
        "modelSimilarity = SimilarityModel('name of model')"
      ]
    },
    {
      "cell_type": "code",
      "execution_count": null,
      "metadata": {
        "id": "j04iNlS_B9Z-"
      },
      "outputs": [],
      "source": [
        "# Example:\n",
        "\n",
        "modelSimilarity2 = SimilarityModel('marathi-sentence-bert-nli')"
      ]
    },
    {
      "cell_type": "markdown",
      "metadata": {
        "id": "jSz0kLOPCJY2"
      },
      "source": [
        "### **Usage of Similarity Model:**\n",
        "It provides two functionalities\n",
        "* **embed_sentences:** Embeds the sentences and return the values in an array\n",
        "* **get_similarity_score:** Checks the similarity of a word with respect to a sentence"
      ]
    },
    {
      "cell_type": "markdown",
      "metadata": {
        "id": "OwQrIyDBz_P3"
      },
      "source": [
        "#### **embed_sentences:**"
      ]
    },
    {
      "cell_type": "code",
      "execution_count": null,
      "metadata": {
        "id": "A60XDnI7z_P4",
        "colab": {
          "base_uri": "https://localhost:8080/"
        },
        "outputId": "8be2e45d-7234-4d68-dbb9-13fb0f02ca33"
      },
      "outputs": [
        {
          "output_type": "execute_result",
          "data": {
            "text/plain": [
              "array([-3.01300809e-02,  5.90831181e-03, -1.33653795e-02, -3.19638439e-02,\n",
              "        1.86218787e-02, -4.54362743e-02, -4.17430745e-03, -1.99699737e-02,\n",
              "        3.58055718e-03,  6.32557133e-03,  8.54484178e-03, -4.28140257e-03,\n",
              "       -2.65209517e-03, -2.75102034e-02, -4.76909569e-03, -1.02574341e-02,\n",
              "        1.45057784e-02, -2.26347111e-02,  1.03825880e-02,  1.66710429e-02,\n",
              "        1.12478444e-02, -1.54639995e-02,  1.83427557e-02, -7.28148175e-03,\n",
              "        3.23612406e-03, -7.66688536e-05, -2.73413360e-02, -7.00747129e-03,\n",
              "       -1.96131505e-02,  1.76330376e-03, -1.34859420e-02, -6.28396496e-03,\n",
              "        7.86420144e-03,  6.67925971e-03, -1.99246369e-02, -7.11165322e-03,\n",
              "        1.37242498e-02,  4.83196788e-03,  1.89736369e-03,  1.25255501e-02,\n",
              "       -2.43625697e-03, -3.05463783e-02, -5.00233378e-03,  1.55041227e-02,\n",
              "       -6.46518636e-03,  3.41290201e-04, -1.23328273e-03,  2.16220766e-02,\n",
              "        8.16372968e-03, -1.91043504e-03, -1.46023212e-02,  3.50542180e-03,\n",
              "        1.29642645e-02, -1.31144300e-02, -1.07188867e-02,  6.13190327e-03,\n",
              "        1.57648586e-02,  1.49627142e-02, -8.68069381e-03,  8.70533101e-03,\n",
              "        2.02721148e-03, -1.04711000e-02, -3.13782468e-02,  8.12012050e-03,\n",
              "        1.86757594e-02, -2.37665884e-02,  1.68768782e-02,  1.86287630e-02,\n",
              "        5.38040651e-03, -1.64038688e-02,  1.82129554e-02, -3.06159444e-03,\n",
              "       -1.36264302e-02, -1.37236423e-03, -2.08050553e-02, -2.17535887e-02,\n",
              "        4.09565354e-03, -2.18794565e-03,  2.38251500e-02, -7.78464309e-04,\n",
              "        8.39470513e-03,  6.64880639e-03, -4.71079780e-04, -1.31823192e-03,\n",
              "        4.67980355e-02,  1.38628185e-02, -1.40459370e-02, -7.31586944e-03,\n",
              "       -8.53210315e-03,  1.02604246e-02,  1.39796594e-02, -7.38809467e-04,\n",
              "        1.52944950e-02, -2.30120234e-02, -5.92222437e-03,  2.89008170e-02,\n",
              "       -1.05706258e-02, -5.85502200e-02,  8.75737425e-03,  2.83687487e-02,\n",
              "       -2.77395523e-03, -6.92065572e-04, -1.43744675e-02, -7.93469325e-03,\n",
              "        9.78246238e-03,  3.90987936e-03, -8.96374974e-03,  1.04735233e-03,\n",
              "       -1.68775618e-02, -1.14353374e-03, -2.11837292e-02,  1.41877346e-02,\n",
              "       -2.88327020e-02,  1.32411020e-02, -3.15349945e-03, -6.60709431e-03,\n",
              "       -1.81566412e-03,  3.65666230e-03, -7.90644251e-03, -2.48121726e-03,\n",
              "        3.74473482e-02, -7.60900043e-03, -1.64395180e-02, -7.73812365e-03,\n",
              "        5.42662153e-03, -6.12251740e-03,  5.78614837e-03,  3.22829895e-02,\n",
              "       -8.73411354e-03, -1.07156355e-02,  2.41189543e-02, -1.13051273e-02,\n",
              "        7.06661493e-03, -2.10517682e-02,  8.64952337e-03, -1.07455924e-02,\n",
              "       -5.31350449e-03, -1.93835441e-02, -3.23520158e-03,  1.87288243e-02,\n",
              "        6.24930859e-03, -2.20636278e-03,  2.40044598e-03, -3.70714406e-04,\n",
              "       -8.10144283e-03, -2.61169989e-02, -2.74009351e-03,  3.89310950e-03,\n",
              "       -1.62401143e-02,  7.72358384e-04, -7.89664872e-03,  1.69366971e-02,\n",
              "       -2.06135027e-03,  6.27974002e-03, -3.60580646e-02, -1.65324192e-02,\n",
              "        2.61243470e-02, -3.32333590e-03,  1.92946531e-02, -1.75731536e-02,\n",
              "       -5.80233801e-03,  3.87423262e-02, -1.57056347e-04,  1.81754660e-02,\n",
              "        7.39019876e-03,  4.74239234e-03,  7.72051420e-03, -9.33595747e-03,\n",
              "        3.10207922e-02,  1.66415460e-02,  3.07551641e-02,  5.44882240e-03,\n",
              "        1.91004816e-02,  1.01934867e-02, -1.34223150e-02,  1.39273787e-02,\n",
              "        3.23651242e-03, -4.07274626e-03, -8.36978317e-04, -2.70107239e-02,\n",
              "       -3.93888447e-03,  1.58594679e-02,  1.38497101e-02, -1.43317943e-02,\n",
              "        1.36467610e-02,  5.63271204e-03,  5.98637294e-03, -1.14387795e-02,\n",
              "        1.28081441e-02,  1.39406165e-02, -1.83686521e-03,  2.37052720e-02,\n",
              "        1.07621336e-02,  2.21172301e-03,  1.40940789e-02,  3.71910818e-03,\n",
              "       -3.26685049e-02, -1.04478421e-02,  1.56309791e-02,  5.50477766e-03,\n",
              "       -9.24829952e-03, -2.82028713e-03,  5.35629049e-04, -2.00676080e-03,\n",
              "        2.05834508e-02, -3.77388136e-03,  1.71750169e-02, -1.00417761e-02,\n",
              "       -1.05263963e-02, -6.66322187e-03, -5.86904818e-03, -4.71706595e-03,\n",
              "       -2.00132634e-02, -1.78187266e-02,  5.58415614e-03,  7.57336244e-03,\n",
              "       -1.67107694e-02, -1.30010303e-03, -1.49274161e-02,  3.50551121e-03,\n",
              "        2.17670314e-02, -1.67797767e-02,  3.83340358e-03, -1.05553875e-02,\n",
              "       -2.35121176e-02,  2.08901474e-04, -3.39194015e-03, -1.86632443e-02,\n",
              "        2.64606718e-02,  6.08104002e-03,  9.50833689e-03,  1.72959976e-02,\n",
              "       -1.90124735e-02,  1.02615263e-02,  3.19077484e-02,  1.16296811e-02,\n",
              "       -1.04003567e-02, -1.07591450e-02, -5.22281602e-03, -7.83952698e-03,\n",
              "       -2.10185628e-02,  3.65024321e-02, -2.43751658e-03, -7.85903633e-03,\n",
              "       -9.43527184e-03, -2.06877179e-02,  4.29566018e-03, -1.19257346e-02,\n",
              "        1.45899365e-02,  2.81835254e-03, -8.95558950e-03,  9.80569702e-03,\n",
              "        6.91806292e-03, -9.91334114e-03,  9.81581979e-05, -1.75190140e-02,\n",
              "       -1.44562009e-03,  9.32446308e-03,  1.28548834e-02, -5.05371857e-03,\n",
              "       -2.35051699e-02,  9.83051490e-04, -1.95381921e-02,  1.78223625e-02,\n",
              "       -9.21748485e-03,  1.47577729e-02, -6.65485207e-03, -3.82755511e-03,\n",
              "       -2.12943479e-02,  4.55990806e-03,  2.39619240e-03, -2.66811680e-02,\n",
              "        3.33867408e-02,  1.18107896e-03, -8.40935577e-03, -2.35186461e-02,\n",
              "        1.17391050e-02, -2.09729257e-03,  2.12102160e-02,  1.30233709e-02,\n",
              "        5.20479353e-03,  4.58412478e-03, -1.06222145e-02,  5.80320274e-03,\n",
              "        8.34930502e-03, -5.98841114e-03,  2.53006406e-02, -2.03151675e-03,\n",
              "       -5.21425530e-03, -1.70673802e-02,  1.18642375e-02, -8.61733500e-03,\n",
              "       -1.26699023e-02, -2.00787978e-03,  1.58148166e-02,  1.90216815e-03,\n",
              "        2.31811199e-02,  1.74661726e-03,  1.12167383e-02, -1.44134252e-03,\n",
              "       -9.30210948e-03, -1.46288536e-02, -5.37519995e-03, -1.51128797e-02,\n",
              "       -6.52605668e-03, -1.84239093e-02,  1.16902702e-02, -1.10544963e-02,\n",
              "        6.47493498e-03,  8.24404415e-03,  2.25995295e-02,  1.12281495e-03,\n",
              "        2.79650334e-02, -1.09997969e-02, -2.39875019e-02,  6.61455654e-03,\n",
              "       -2.13237014e-03, -1.07544018e-02, -1.44521017e-02,  8.23262800e-03,\n",
              "       -6.24396931e-03,  1.00773545e-02, -1.72208343e-03,  7.03164041e-02,\n",
              "        2.26020627e-02, -1.87014379e-02,  9.41382069e-03, -2.26891576e-03,\n",
              "       -8.50851089e-03,  2.18220730e-03, -5.21363504e-03, -2.49599013e-02,\n",
              "       -1.95235247e-03,  8.72647390e-03,  2.24970223e-04,  2.50084102e-02,\n",
              "        1.09973215e-02,  2.34574154e-02,  1.75529835e-03, -7.50084082e-03,\n",
              "       -1.20159062e-02, -2.25395188e-02,  3.14263278e-03,  8.86609126e-03,\n",
              "        1.39705120e-02, -5.49423229e-03,  1.06052775e-03, -7.56045396e-04,\n",
              "        6.75427075e-03,  3.88717325e-03, -4.17592190e-02, -1.21613927e-02,\n",
              "        1.72176436e-02, -2.00801026e-02,  1.64938420e-02,  3.24597247e-02,\n",
              "        1.27259840e-03,  2.64031766e-03,  1.64149739e-02, -1.65665988e-02,\n",
              "        1.38497287e-02, -1.34747969e-02, -1.70683134e-02, -7.75007007e-04,\n",
              "       -7.62506435e-03,  1.06169013e-02, -8.30881204e-03, -1.63614415e-02,\n",
              "       -8.31434131e-03, -5.89036709e-03, -4.56706993e-03,  4.10309108e-03,\n",
              "       -5.28457621e-03, -2.16052309e-03, -8.41695070e-03, -1.98921915e-02,\n",
              "       -5.73335495e-03, -2.97826994e-03, -1.58060081e-02,  6.83034910e-03,\n",
              "       -6.80320244e-03, -2.68580168e-02,  2.66459276e-04, -1.20157236e-03,\n",
              "       -4.36739484e-03,  2.58185342e-02,  1.46681322e-02, -1.91858169e-02,\n",
              "        5.36356866e-03, -3.59884230e-03, -8.10728967e-03, -2.03213058e-02,\n",
              "       -1.30788255e-02, -1.97041035e-03,  2.97905616e-02, -8.12921952e-03,\n",
              "        4.82294196e-03,  3.26282950e-03, -5.63283963e-03, -2.42652129e-02,\n",
              "       -2.56951507e-02, -1.05881253e-02,  1.37404967e-02, -3.08426539e-03,\n",
              "       -9.66540165e-03, -5.70279779e-03,  3.73372622e-03,  2.99664345e-02,\n",
              "        2.30271015e-02,  2.61647999e-02,  6.24329504e-03, -1.58823989e-02,\n",
              "       -7.67878210e-03, -2.34378856e-02,  1.97628932e-03,  3.83256702e-03,\n",
              "       -1.64742803e-03, -1.29566416e-02,  2.37314925e-02, -2.19344664e-02,\n",
              "        6.77841390e-03, -3.21579236e-03,  4.07669321e-03,  1.10282283e-02,\n",
              "       -2.01006141e-02, -1.91606162e-03,  2.48767231e-02,  1.03209019e-02,\n",
              "        9.56634805e-03,  1.29271275e-03,  1.51438813e-04,  2.52911542e-02,\n",
              "        1.55032882e-02, -1.83341019e-02, -2.37571001e-02, -2.01135837e-02,\n",
              "        3.22717871e-03,  1.25111928e-02, -3.53139848e-03,  1.99056473e-02,\n",
              "       -1.10834921e-02,  8.20702873e-04, -1.71925034e-02, -1.46575563e-03,\n",
              "        2.32204814e-02, -4.31601284e-03, -3.10518816e-02,  1.21611794e-02,\n",
              "        2.51019816e-03, -1.27003919e-02,  3.91935697e-03, -8.34067445e-03,\n",
              "       -4.12001386e-02,  2.64251102e-02, -2.23739948e-02,  1.53114051e-02,\n",
              "       -8.00362788e-03,  4.03148588e-03, -6.09046139e-04,  1.20638497e-02,\n",
              "       -8.32260400e-03,  3.14436406e-02,  5.42647019e-03,  3.54677718e-03,\n",
              "        6.54092431e-03, -4.42248117e-03, -1.59550030e-02,  8.70789401e-03,\n",
              "       -1.13972696e-02, -4.96649370e-03,  5.19423047e-04, -5.11823781e-03,\n",
              "        2.90488079e-03,  1.43197346e-02, -2.15492002e-03,  4.41000890e-03,\n",
              "       -7.72807701e-03,  1.00093912e-02,  1.39529686e-02,  1.97348464e-02,\n",
              "        2.92347884e-03,  2.31071096e-03,  2.28686780e-02, -1.32424310e-02,\n",
              "        4.46878560e-03, -2.24520713e-02,  1.26555813e-02,  1.26668792e-02,\n",
              "        2.51053199e-02,  1.66569639e-03,  1.62841100e-02,  4.91092633e-03,\n",
              "        1.18311094e-02,  3.06225568e-03, -4.41729799e-02,  6.44658785e-03,\n",
              "        3.77440476e-03, -4.45345696e-03,  2.51483964e-03, -9.54747852e-03,\n",
              "        5.07295970e-03,  9.58895683e-03, -9.64018982e-03, -1.29908100e-02,\n",
              "        1.25605389e-02, -6.00944553e-03, -4.05536704e-02, -8.90582241e-03,\n",
              "        4.75800410e-03, -1.29225114e-02, -1.31087378e-02, -2.99637136e-03,\n",
              "        2.67905779e-02, -8.39133654e-03, -1.71411838e-02,  1.17618786e-02,\n",
              "        3.46101355e-03, -1.04996664e-02,  1.91917699e-02,  1.60048455e-02,\n",
              "       -1.26531739e-02, -9.30884480e-03, -8.85534473e-03,  3.47553939e-03,\n",
              "       -8.06653593e-03, -7.09112920e-03, -1.45570207e-02, -8.53009149e-03,\n",
              "       -5.50550455e-03, -1.11811925e-02,  1.39078945e-02, -1.78972036e-02,\n",
              "       -5.37263462e-03, -7.95116089e-03,  1.66612188e-03,  1.49715003e-02,\n",
              "       -2.29896139e-03, -3.51317320e-03, -1.34335412e-02, -1.89827774e-02,\n",
              "        5.65613480e-03, -6.13899762e-03, -1.35030933e-02, -2.06421819e-02,\n",
              "       -3.99334989e-02, -7.07364781e-03,  1.32413558e-03,  3.05913240e-02,\n",
              "       -9.25755128e-03,  1.17319878e-02,  1.67940930e-02,  2.27046711e-03,\n",
              "        4.21515442e-02,  8.95139819e-04,  4.53620963e-03, -2.27014273e-02,\n",
              "       -1.70505680e-02, -6.69909990e-04, -2.95234704e-03, -1.20120011e-02,\n",
              "       -3.03255697e-03, -5.08836797e-03,  1.16614243e-02, -7.95296207e-03,\n",
              "       -6.87582837e-03, -8.76113214e-03,  1.59097705e-02, -4.99887578e-03,\n",
              "        7.86300004e-03, -1.07486721e-03, -2.52840705e-02,  1.73653010e-02,\n",
              "       -1.19469306e-02, -3.15723894e-03, -3.18113975e-02, -5.91696298e-04,\n",
              "       -1.77470371e-02, -6.21764399e-02,  2.17336416e-02,  2.50397827e-02,\n",
              "        1.11514786e-02, -3.27469222e-02,  3.57396528e-02, -9.02441610e-03,\n",
              "       -1.27898622e-02, -1.43719036e-02, -2.80507957e-03,  1.96212828e-02,\n",
              "       -1.33930182e-03, -5.71801979e-03,  4.31844592e-03,  4.44457214e-03,\n",
              "        1.84682347e-02,  9.90217924e-03, -1.22834304e-02,  2.90954299e-03,\n",
              "        1.11034662e-02,  1.16471387e-02, -6.29853318e-03, -7.61908200e-03,\n",
              "        1.22876791e-02,  1.49464258e-03,  2.51777172e-02, -6.27732603e-03,\n",
              "       -6.30157243e-04,  3.11643910e-02, -1.33118257e-02,  2.01808289e-02,\n",
              "        2.35714894e-02,  2.90485611e-03, -2.32108869e-02, -1.14355087e-02,\n",
              "        2.43298281e-02,  2.64594308e-03, -1.36404168e-02,  1.72139183e-02,\n",
              "        2.78569013e-03, -1.99184269e-02, -1.02488715e-02, -1.62941944e-02,\n",
              "        1.39602023e-04, -1.38764987e-02, -1.59546304e-02,  1.71408746e-02,\n",
              "       -4.28703660e-03,  3.97855882e-03, -2.13087369e-02, -4.46557824e-04,\n",
              "        9.97365918e-03, -5.33415820e-04, -7.81102059e-03, -1.03363041e-02,\n",
              "        2.32493188e-02,  2.53359322e-03,  1.06881512e-02, -2.75757574e-02,\n",
              "        3.05544725e-03,  1.20836413e-02,  2.55080964e-03, -2.64084875e-03,\n",
              "        1.18886614e-02,  1.65476967e-02, -1.50255933e-02, -1.35924788e-02,\n",
              "        6.30687457e-03,  2.13903971e-02,  1.28481898e-03,  2.58356109e-02,\n",
              "        1.88110378e-02, -9.25006159e-03,  4.92774788e-03,  1.25913508e-02,\n",
              "       -1.53622916e-02, -1.30425720e-02,  2.58008633e-02,  2.26189271e-02,\n",
              "        9.28014517e-03,  1.91216730e-02,  1.08732022e-02, -6.55537611e-03,\n",
              "        2.28530131e-02, -4.78427391e-03,  5.64279966e-03, -5.65334596e-03,\n",
              "       -4.90859384e-04, -3.22094932e-02,  2.43365939e-05,  1.82267409e-02,\n",
              "        6.36830274e-03,  2.40061115e-02,  1.80955902e-02,  1.81317341e-03,\n",
              "        2.65917294e-02, -1.02234026e-02, -2.56279614e-02, -5.13049820e-03,\n",
              "        1.09303994e-02, -1.27968304e-02,  9.69257485e-03,  1.76790208e-02,\n",
              "        1.44254672e-03, -6.05859002e-03, -2.89139021e-02, -1.32559557e-02,\n",
              "       -7.05092167e-03, -2.23880680e-03, -1.88184832e-03,  1.28575694e-02,\n",
              "       -5.90166217e-03, -1.04621686e-02, -1.81798656e-02,  8.95336457e-03,\n",
              "        8.05973820e-03, -1.66233480e-02,  2.88753863e-02,  2.69941203e-02,\n",
              "        1.93423796e-02, -4.08307370e-03,  4.58932389e-03, -1.18301455e-02,\n",
              "       -1.46909487e-02, -1.16072549e-03,  2.01492081e-03, -1.39602041e-02,\n",
              "        1.46909859e-02,  7.47408299e-03,  1.28439870e-02,  5.91196259e-03,\n",
              "        6.19409047e-03, -1.85675789e-02,  1.62065085e-02,  3.00651807e-02,\n",
              "        9.27972235e-03, -1.05103357e-02,  5.09447511e-03, -1.12341775e-04,\n",
              "        1.16246659e-02,  4.33592424e-02,  6.43807231e-03, -3.87381972e-03,\n",
              "       -2.10319627e-02, -3.44374403e-02,  1.10652950e-02, -6.04629423e-03,\n",
              "       -1.20555311e-02,  2.49229036e-02, -6.58341963e-03, -1.27568729e-02,\n",
              "        6.28885301e-03,  1.43585894e-02,  1.13199186e-02,  1.54524501e-02,\n",
              "       -1.88142445e-03,  1.09161250e-02,  2.53680366e-04,  5.61841205e-03,\n",
              "       -3.67084215e-03, -9.13178921e-03, -3.68265738e-03, -1.66544225e-03,\n",
              "        5.78228151e-03,  1.98796624e-06, -2.71640886e-02,  3.18496004e-02,\n",
              "        6.25977898e-03,  6.11359766e-03, -2.89460011e-02,  1.64688025e-02,\n",
              "        6.17532805e-03,  1.75410528e-02,  2.47646570e-02, -1.63277145e-03,\n",
              "       -1.83101988e-03,  1.62396338e-02, -1.26726814e-02, -1.03971902e-02,\n",
              "       -1.69838406e-02,  1.63755901e-02,  1.68589968e-02,  7.78541155e-03,\n",
              "       -5.80569322e-04,  4.29578125e-03, -1.49363773e-02, -1.92048103e-02,\n",
              "       -4.44946066e-03,  2.57898681e-02, -2.06551626e-02, -5.76212863e-03],\n",
              "      dtype=float32)"
            ]
          },
          "metadata": {},
          "execution_count": 180
        }
      ],
      "source": [
        "# Example\n",
        "\n",
        "txt11 = 'भारतात एकूण २८ राज्ये आहेत.'\n",
        "# English Translation:\n",
        "# 'There are total 28 states in India.'\n",
        "\n",
        "modelSimilarity.embed_sentences(txt11)"
      ]
    },
    {
      "cell_type": "markdown",
      "metadata": {
        "id": "tsO6kC_Sz_P4"
      },
      "source": [
        "#### **get_similarity_score:**"
      ]
    },
    {
      "cell_type": "code",
      "execution_count": null,
      "metadata": {
        "id": "MW7gao3Vz_P4",
        "colab": {
          "base_uri": "https://localhost:8080/"
        },
        "outputId": "074ddffa-6dcd-467c-80b1-8972f7aaf982"
      },
      "outputs": [
        {
          "output_type": "execute_result",
          "data": {
            "text/plain": [
              "array([0.9999999 , 0.24566297, 0.3010444 ], dtype=float32)"
            ]
          },
          "metadata": {},
          "execution_count": 181
        }
      ],
      "source": [
        "# Example\n",
        "\n",
        "source = 'वसई तालुक्यातील 15 ग्रामपंचायतींसाठी निवडणूक होत आहे.'\n",
        "# English Translation:\n",
        "# 'Elections are being held for 15 gram panchayats in Vasai taluka.'\n",
        "sentences = ['वसई तालुक्यातील 15 ग्रामपंचायतींसाठी निवडणूक होत आहे.', '28 ते 2 डिसेंबर पर्यंत उमेदवारी अर्ज भरण्याची वेळ असून आज आणि उध्या दोन दिवसात ऑफलाईन उमेदवारी अर्ज भरण्यासाठी 5 वाजेपर्यंत वेळ वाढवून दिला आहे.', 'त्यामुळे आज दिवसभरात उमेदवारांनी आपले उमेदवारी अर्ज भरण्यासाठी तहसील कार्यालयात गर्दी केली होती.']\n",
        "# English Translation:\n",
        "# [\n",
        "# 'Elections are being held for 15 gram panchayats in Vasai taluka.',\n",
        "# 'The time to fill candidature form is from 28th to 2nd December and the time for filling offline candidature form has been extended till 5 pm today and tomorrow.',\n",
        "# 'Therefore, candidates thronged the tehsil office to fill their nomination forms today.'\n",
        "# ]\n",
        "\n",
        "modelSimilarity.get_similarity_score(source, sentences)"
      ]
    },
    {
      "cell_type": "markdown",
      "metadata": {
        "id": "UnzimyXFz_P4"
      },
      "source": [
        "Optional Parameter(s):\n",
        "* **as_dict** (True, False) in boolean - Default: False\n",
        "  * Used to define the print type"
      ]
    },
    {
      "cell_type": "code",
      "execution_count": null,
      "metadata": {
        "id": "TAHBp8WIz_P4",
        "colab": {
          "base_uri": "https://localhost:8080/"
        },
        "outputId": "147fc3f5-d2c2-45f3-8b7c-bc0adf01a984"
      },
      "outputs": [
        {
          "output_type": "execute_result",
          "data": {
            "text/plain": [
              "{'वसई तालुक्यातील 15 ग्रामपंचायतींसाठी निवडणूक होत आहे.': 0.9999999,\n",
              " '28 ते 2 डिसेंबर पर्यंत उमेदवारी अर्ज भरण्याची वेळ असून आज आणि उध्या दोन दिवसात ऑफलाईन उमेदवारी अर्ज भरण्यासाठी 5 वाजेपर्यंत वेळ वाढवून दिला आहे.': 0.24566297,\n",
              " 'त्यामुळे आज दिवसभरात उमेदवारांनी आपले उमेदवारी अर्ज भरण्यासाठी तहसील कार्यालयात गर्दी केली होती.': 0.3010444}"
            ]
          },
          "metadata": {},
          "execution_count": 182
        }
      ],
      "source": [
        "modelSimilarity.get_similarity_score(source, sentences, as_dict = True)"
      ]
    },
    {
      "cell_type": "markdown",
      "metadata": {
        "id": "V_SVT31-ESyK"
      },
      "source": [
        "***\n",
        "***"
      ]
    },
    {
      "cell_type": "markdown",
      "metadata": {
        "id": "rlrrqsDdoCn1"
      },
      "source": [
        "# Extras:"
      ]
    },
    {
      "cell_type": "code",
      "execution_count": null,
      "metadata": {
        "id": "RkgxebETx3Vs",
        "colab": {
          "base_uri": "https://localhost:8080/"
        },
        "outputId": "c82d891a-04d3-414f-9c1f-747f8a99ee60"
      },
      "outputs": [
        {
          "output_type": "stream",
          "name": "stdout",
          "text": [
            "      label     score\n",
            "0  Positive  0.995338\n"
          ]
        }
      ],
      "source": [
        "# import\n",
        "from mahaNLP.sentiment import SentimentAnalyzer\n",
        "\n",
        "# create a model object\n",
        "model = SentimentAnalyzer()\n",
        "\n",
        "# function - getPolarityScore\n",
        "# It gives the sentiment score in the range of 0 to 1\n",
        "# for 3 poles: Neutral, Positive, Negative\n",
        "\n",
        "# example:\n",
        "text = 'दिवाळीच्या सणादरम्यान सगळे आनंदी असतात.'\n",
        "# English Translation:\n",
        "# 'Everyone is happy during Diwali festival.'\n",
        "\n",
        "polarscore = model.get_polarity_score(text)\n",
        "print(polarscore)"
      ]
    },
    {
      "cell_type": "code",
      "execution_count": null,
      "metadata": {
        "id": "Bnb_wyVsy4SR",
        "colab": {
          "base_uri": "https://localhost:8080/",
          "height": 206
        },
        "outputId": "fbc4df9b-8b60-4874-d54f-ed748d823d47"
      },
      "outputs": [
        {
          "output_type": "execute_result",
          "data": {
            "text/plain": [
              "      score  token token_str                 sequence\n",
              "0  0.465601   1155       आहे     मी महाराष्ट्रात आहे.\n",
              "1  0.079690  92222    राहणार  मी महाराष्ट्रात राहणार.\n",
              "2  0.074001   1826      नाही    मी महाराष्ट्रात नाही.\n",
              "3  0.050423   1617       ##च        मी महाराष्ट्रातच.\n",
              "4  0.043737  62560     राहतो   मी महाराष्ट्रात राहतो."
            ],
            "text/html": [
              "\n",
              "  <div id=\"df-539e2032-b2aa-41f2-a3e8-813c33760522\">\n",
              "    <div class=\"colab-df-container\">\n",
              "      <div>\n",
              "<style scoped>\n",
              "    .dataframe tbody tr th:only-of-type {\n",
              "        vertical-align: middle;\n",
              "    }\n",
              "\n",
              "    .dataframe tbody tr th {\n",
              "        vertical-align: top;\n",
              "    }\n",
              "\n",
              "    .dataframe thead th {\n",
              "        text-align: right;\n",
              "    }\n",
              "</style>\n",
              "<table border=\"1\" class=\"dataframe\">\n",
              "  <thead>\n",
              "    <tr style=\"text-align: right;\">\n",
              "      <th></th>\n",
              "      <th>score</th>\n",
              "      <th>token</th>\n",
              "      <th>token_str</th>\n",
              "      <th>sequence</th>\n",
              "    </tr>\n",
              "  </thead>\n",
              "  <tbody>\n",
              "    <tr>\n",
              "      <th>0</th>\n",
              "      <td>0.465601</td>\n",
              "      <td>1155</td>\n",
              "      <td>आहे</td>\n",
              "      <td>मी महाराष्ट्रात आहे.</td>\n",
              "    </tr>\n",
              "    <tr>\n",
              "      <th>1</th>\n",
              "      <td>0.079690</td>\n",
              "      <td>92222</td>\n",
              "      <td>राहणार</td>\n",
              "      <td>मी महाराष्ट्रात राहणार.</td>\n",
              "    </tr>\n",
              "    <tr>\n",
              "      <th>2</th>\n",
              "      <td>0.074001</td>\n",
              "      <td>1826</td>\n",
              "      <td>नाही</td>\n",
              "      <td>मी महाराष्ट्रात नाही.</td>\n",
              "    </tr>\n",
              "    <tr>\n",
              "      <th>3</th>\n",
              "      <td>0.050423</td>\n",
              "      <td>1617</td>\n",
              "      <td>##च</td>\n",
              "      <td>मी महाराष्ट्रातच.</td>\n",
              "    </tr>\n",
              "    <tr>\n",
              "      <th>4</th>\n",
              "      <td>0.043737</td>\n",
              "      <td>62560</td>\n",
              "      <td>राहतो</td>\n",
              "      <td>मी महाराष्ट्रात राहतो.</td>\n",
              "    </tr>\n",
              "  </tbody>\n",
              "</table>\n",
              "</div>\n",
              "      <button class=\"colab-df-convert\" onclick=\"convertToInteractive('df-539e2032-b2aa-41f2-a3e8-813c33760522')\"\n",
              "              title=\"Convert this dataframe to an interactive table.\"\n",
              "              style=\"display:none;\">\n",
              "        \n",
              "  <svg xmlns=\"http://www.w3.org/2000/svg\" height=\"24px\"viewBox=\"0 0 24 24\"\n",
              "       width=\"24px\">\n",
              "    <path d=\"M0 0h24v24H0V0z\" fill=\"none\"/>\n",
              "    <path d=\"M18.56 5.44l.94 2.06.94-2.06 2.06-.94-2.06-.94-.94-2.06-.94 2.06-2.06.94zm-11 1L8.5 8.5l.94-2.06 2.06-.94-2.06-.94L8.5 2.5l-.94 2.06-2.06.94zm10 10l.94 2.06.94-2.06 2.06-.94-2.06-.94-.94-2.06-.94 2.06-2.06.94z\"/><path d=\"M17.41 7.96l-1.37-1.37c-.4-.4-.92-.59-1.43-.59-.52 0-1.04.2-1.43.59L10.3 9.45l-7.72 7.72c-.78.78-.78 2.05 0 2.83L4 21.41c.39.39.9.59 1.41.59.51 0 1.02-.2 1.41-.59l7.78-7.78 2.81-2.81c.8-.78.8-2.07 0-2.86zM5.41 20L4 18.59l7.72-7.72 1.47 1.35L5.41 20z\"/>\n",
              "  </svg>\n",
              "      </button>\n",
              "      \n",
              "  <style>\n",
              "    .colab-df-container {\n",
              "      display:flex;\n",
              "      flex-wrap:wrap;\n",
              "      gap: 12px;\n",
              "    }\n",
              "\n",
              "    .colab-df-convert {\n",
              "      background-color: #E8F0FE;\n",
              "      border: none;\n",
              "      border-radius: 50%;\n",
              "      cursor: pointer;\n",
              "      display: none;\n",
              "      fill: #1967D2;\n",
              "      height: 32px;\n",
              "      padding: 0 0 0 0;\n",
              "      width: 32px;\n",
              "    }\n",
              "\n",
              "    .colab-df-convert:hover {\n",
              "      background-color: #E2EBFA;\n",
              "      box-shadow: 0px 1px 2px rgba(60, 64, 67, 0.3), 0px 1px 3px 1px rgba(60, 64, 67, 0.15);\n",
              "      fill: #174EA6;\n",
              "    }\n",
              "\n",
              "    [theme=dark] .colab-df-convert {\n",
              "      background-color: #3B4455;\n",
              "      fill: #D2E3FC;\n",
              "    }\n",
              "\n",
              "    [theme=dark] .colab-df-convert:hover {\n",
              "      background-color: #434B5C;\n",
              "      box-shadow: 0px 1px 3px 1px rgba(0, 0, 0, 0.15);\n",
              "      filter: drop-shadow(0px 1px 2px rgba(0, 0, 0, 0.3));\n",
              "      fill: #FFFFFF;\n",
              "    }\n",
              "  </style>\n",
              "\n",
              "      <script>\n",
              "        const buttonEl =\n",
              "          document.querySelector('#df-539e2032-b2aa-41f2-a3e8-813c33760522 button.colab-df-convert');\n",
              "        buttonEl.style.display =\n",
              "          google.colab.kernel.accessAllowed ? 'block' : 'none';\n",
              "\n",
              "        async function convertToInteractive(key) {\n",
              "          const element = document.querySelector('#df-539e2032-b2aa-41f2-a3e8-813c33760522');\n",
              "          const dataTable =\n",
              "            await google.colab.kernel.invokeFunction('convertToInteractive',\n",
              "                                                     [key], {});\n",
              "          if (!dataTable) return;\n",
              "\n",
              "          const docLinkHtml = 'Like what you see? Visit the ' +\n",
              "            '<a target=\"_blank\" href=https://colab.research.google.com/notebooks/data_table.ipynb>data table notebook</a>'\n",
              "            + ' to learn more about interactive tables.';\n",
              "          element.innerHTML = '';\n",
              "          dataTable['output_type'] = 'display_data';\n",
              "          await google.colab.output.renderOutput(dataTable, element);\n",
              "          const docLink = document.createElement('div');\n",
              "          docLink.innerHTML = docLinkHtml;\n",
              "          element.appendChild(docLink);\n",
              "        }\n",
              "      </script>\n",
              "    </div>\n",
              "  </div>\n",
              "  "
            ]
          },
          "metadata": {},
          "execution_count": 184
        }
      ],
      "source": [
        "# import\n",
        "from mahaNLP.model_repo import MaskFillModel\n",
        "\n",
        "# create a model object\n",
        "# parameter:\n",
        "# model name\n",
        "model = MaskFillModel('marathi-bert-v2')\n",
        "\n",
        "# function - predictMask\n",
        "# It predictes the masked token\n",
        "\n",
        "text = 'मी महाराष्ट्रात [MASK].'\n",
        "# English Translation:\n",
        "# 'I in Maharashtra [MASK]'\n",
        "\n",
        "# parameters:\n",
        "# text, details of prediction, print in dict\n",
        "\n",
        "model.predict_mask(text, details = \"all\", as_dict = False)"
      ]
    },
    {
      "cell_type": "code",
      "execution_count": null,
      "metadata": {
        "id": "1CpGkbo2zXdF"
      },
      "outputs": [],
      "source": [
        "# import\n",
        "from mahaNLP.datasets import *\n",
        "\n",
        "# loadDatasets: This loads the dataset into our variable\n",
        "# parameter:\n",
        "# name of the dataset\n",
        "\n",
        "dataset = load_datasets('mahaSent')"
      ]
    },
    {
      "cell_type": "code",
      "source": [],
      "metadata": {
        "id": "pyhnflzcKTio"
      },
      "execution_count": null,
      "outputs": []
    }
  ],
  "metadata": {
    "colab": {
      "provenance": [],
      "collapsed_sections": [
        "diLkeHtJz_Pe",
        "xOJigNfwUOEg",
        "xHZDkZPVY1Cq",
        "b-Mfe4Wabixu",
        "DJ0ZcucFbeIh",
        "P_TIRJCgAomN",
        "rlrrqsDdoCn1"
      ],
      "machine_shape": "hm",
      "include_colab_link": true
    },
    "kernelspec": {
      "display_name": "Python 3 (ipykernel)",
      "language": "python",
      "name": "python3"
    },
    "language_info": {
      "codemirror_mode": {
        "name": "ipython",
        "version": 3
      },
      "file_extension": ".py",
      "mimetype": "text/x-python",
      "name": "python",
      "nbconvert_exporter": "python",
      "pygments_lexer": "ipython3",
      "version": "3.9.7"
    },
    "gpuClass": "standard"
  },
  "nbformat": 4,
  "nbformat_minor": 0
}